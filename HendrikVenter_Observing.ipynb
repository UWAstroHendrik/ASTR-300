{
 "cells": [
  {
   "cell_type": "markdown",
   "metadata": {},
   "source": [
    "# Observing with `astroplan`"
   ]
  },
  {
   "cell_type": "markdown",
   "metadata": {},
   "source": [
    "---\n",
    "\n",
    "## Observing Date: May 18, 2020\n",
    "\n",
    "---\n",
    "\n",
    "## Observing Locations\n",
    "\n",
    "1. Blue Bird Cafe, Adak, Alaska\n",
    "2. Monte Café, São Tomé & Príncipe\n",
    "3. Coffe Hija, Machu Picchu Base, Antarctica\n",
    "\n",
    "---\n",
    "\n",
    "## Observing Targets\n",
    "\n",
    "* NGC 5457\n",
    "* NGC 5713\n",
    "* NGC 5979\n",
    "* NGC 5643\n",
    "\n",
    "---"
   ]
  },
  {
   "cell_type": "code",
   "execution_count": 201,
   "metadata": {
    "jupyter": {
     "outputs_hidden": false
    }
   },
   "outputs": [],
   "source": [
    "%matplotlib inline\n",
    "import matplotlib.pyplot as plt\n",
    "\n",
    "import numpy as np\n",
    "import astropy.units as u\n",
    "from astropy.time import Time\n",
    "import pytz\n",
    "\n",
    "from astroplan.plots import plot_airmass\n",
    "from astroplan import Observer, FixedTarget, time_grid_from_range"
   ]
  },
  {
   "cell_type": "code",
   "execution_count": 202,
   "metadata": {
    "jupyter": {
     "outputs_hidden": false
    }
   },
   "outputs": [],
   "source": [
    "#import warnings\n",
    "#warnings.filterwarnings('ignore', category=Warning)\n",
    "\n",
    "from astroplan import download_IERS_A\n",
    "download_IERS_A()\n",
    "\n",
    "#from astroplan import get_IERS_A_or_workaround\n",
    "#get_IERS_A_or_workaround()"
   ]
  },
  {
   "cell_type": "markdown",
   "metadata": {},
   "source": [
    "---\n",
    "\n",
    "## Set up the locations"
   ]
  },
  {
   "cell_type": "code",
   "execution_count": 204,
   "metadata": {
    "jupyter": {
     "outputs_hidden": false
    }
   },
   "outputs": [],
   "source": [
    "# Location One\n",
    "blue_bird_cafe = Observer(longitude = -176 * u.deg + 38 * u.arcmin + 21 * u.arcsec,\n",
    "                    latitude = 51 * u.deg + 52 * u.arcmin + 14 * u.arcsec,\n",
    "                    timezone = 'America/Adak',\n",
    "                    name = \"Blue Bird Cafe\"\n",
    "                    )"
   ]
  },
  {
   "cell_type": "code",
   "execution_count": 205,
   "metadata": {},
   "outputs": [
    {
     "data": {
      "text/plain": [
       "<Observer: name='Blue Bird Cafe',\n",
       "    location (lon, lat, el)=(-175.36083333333335 deg, 51.870555555555555 deg, -7.728784961972002e-10 m),\n",
       "    timezone=<DstTzInfo 'America/Adak' LMT+12:13:00 STD>>"
      ]
     },
     "execution_count": 205,
     "metadata": {},
     "output_type": "execute_result"
    }
   ],
   "source": [
    "blue_bird_cafe"
   ]
  },
  {
   "cell_type": "code",
   "execution_count": 206,
   "metadata": {
    "jupyter": {
     "outputs_hidden": false
    }
   },
   "outputs": [],
   "source": [
    "# Location Two\n",
    "monte_cafe = Observer(longitude = 6 * u.deg + 38 * u.arcmin + 24 * u.arcsec,\n",
    "                    latitude = 0 * u.deg + 17 * u.arcmin + 59 * u.arcsec,\n",
    "                    timezone = 'GMT',\n",
    "                    name = \"Monte Cafe\"\n",
    "                    )"
   ]
  },
  {
   "cell_type": "code",
   "execution_count": 207,
   "metadata": {},
   "outputs": [
    {
     "data": {
      "text/plain": [
       "<Observer: name='Monte Cafe',\n",
       "    location (lon, lat, el)=(6.64 deg, 0.29972222222222233 deg, 0.0 m),\n",
       "    timezone=<StaticTzInfo 'GMT'>>"
      ]
     },
     "execution_count": 207,
     "metadata": {},
     "output_type": "execute_result"
    }
   ],
   "source": [
    "monte_cafe"
   ]
  },
  {
   "cell_type": "code",
   "execution_count": 208,
   "metadata": {
    "jupyter": {
     "outputs_hidden": false
    }
   },
   "outputs": [],
   "source": [
    "# Location Three\n",
    "hija_cafe = Observer(longitude = -58 * u.deg + 28 * u.arcmin + 17 * u.arcsec,\n",
    "                    latitude = -62 * u.deg + 5 * u.arcmin + 29 * u.arcsec,\n",
    "                    timezone = 'Antarctica/McMurdo',\n",
    "                    name = \"Hija Cafe\"\n",
    "                    )"
   ]
  },
  {
   "cell_type": "code",
   "execution_count": 209,
   "metadata": {},
   "outputs": [
    {
     "data": {
      "text/plain": [
       "<Observer: name='Hija Cafe',\n",
       "    location (lon, lat, el)=(-57.52861111111111 deg, -61.90861111111112 deg, -1.0101800553693716e-09 m),\n",
       "    timezone=<DstTzInfo 'Antarctica/McMurdo' LMT+11:39:00 STD>>"
      ]
     },
     "execution_count": 209,
     "metadata": {},
     "output_type": "execute_result"
    }
   ],
   "source": [
    "hija_cafe"
   ]
  },
  {
   "cell_type": "markdown",
   "metadata": {},
   "source": [
    "---\n",
    "## Determine the UTC time for **Local Noon** at each of the locations\n",
    "* You will have to experiment with the `which =` parameter\n",
    "* Make sure your LOCAL NOON is sometime during the observing date (UTC)"
   ]
  },
  {
   "cell_type": "code",
   "execution_count": 210,
   "metadata": {
    "jupyter": {
     "outputs_hidden": false
    }
   },
   "outputs": [
    {
     "data": {
      "text/plain": [
       "'2020-05-18 23:38:03.352'"
      ]
     },
     "execution_count": 210,
     "metadata": {},
     "output_type": "execute_result"
    }
   ],
   "source": [
    "# Location One\n",
    "my_date = Time(\"2020-05-18\")\n",
    "my_date\n",
    "\n",
    "my_noon_blue_bird = blue_bird_cafe.noon(my_date, which='next')\n",
    "my_noon_blue_bird.iso"
   ]
  },
  {
   "cell_type": "code",
   "execution_count": 211,
   "metadata": {
    "jupyter": {
     "outputs_hidden": false
    }
   },
   "outputs": [
    {
     "data": {
      "text/plain": [
       "'2020-05-18 11:29:50.917'"
      ]
     },
     "execution_count": 211,
     "metadata": {},
     "output_type": "execute_result"
    }
   ],
   "source": [
    "# Location Two\n",
    "my_noon_monte = monte_cafe.noon(my_date, which='next')\n",
    "my_noon_monte.iso"
   ]
  },
  {
   "cell_type": "code",
   "execution_count": 212,
   "metadata": {
    "jupyter": {
     "outputs_hidden": false
    }
   },
   "outputs": [
    {
     "data": {
      "text/plain": [
       "'2020-05-18 15:46:16.817'"
      ]
     },
     "execution_count": 212,
     "metadata": {},
     "output_type": "execute_result"
    }
   ],
   "source": [
    "# Location Three\n",
    "my_noon_hija = hija_cafe.noon(my_date, which='next')\n",
    "my_noon_hija.iso"
   ]
  },
  {
   "cell_type": "markdown",
   "metadata": {},
   "source": [
    "---\n",
    "## Determine the length of the observing run at each location\n",
    "\n",
    "* Length of run is defined by Astronomical Twilight"
   ]
  },
  {
   "cell_type": "code",
   "execution_count": 213,
   "metadata": {
    "jupyter": {
     "outputs_hidden": false
    }
   },
   "outputs": [
    {
     "name": "stdout",
     "output_type": "stream",
     "text": [
      "Start observations tonight at 2020-05-19 11:12:48.929 UTC\n",
      "End observations tonight at 2020-05-19 12:02:36.227 UTC\n",
      "You can observe for 0.8 h tonight\n"
     ]
    },
    {
     "data": {
      "text/latex": [
       "$0.82980507 \\; \\mathrm{h}$"
      ],
      "text/plain": [
       "<Quantity 0.82980507 h>"
      ]
     },
     "execution_count": 213,
     "metadata": {},
     "output_type": "execute_result"
    }
   ],
   "source": [
    "# Location One\n",
    "observe_night_blue = blue_bird_cafe.tonight(my_noon_blue_bird, horizon = -18*u.deg)\n",
    "observe_time_night_blue = (observe_night_blue[1]-observe_night_blue[0]).to(u.h)\n",
    "print(f\"Start observations tonight at {observe_night_blue[0].iso} UTC\")\n",
    "print(f\"End observations tonight at {observe_night_blue[1].iso} UTC\")\n",
    "print(f\"You can observe for {observe_time_night_blue:.1f} tonight\")\n",
    "observe_time_night_blue"
   ]
  },
  {
   "cell_type": "code",
   "execution_count": 214,
   "metadata": {
    "jupyter": {
     "outputs_hidden": false
    }
   },
   "outputs": [
    {
     "name": "stdout",
     "output_type": "stream",
     "text": [
      "Start observations tonight at 2020-05-18 18:47:02.882 UTC\n",
      "End observations tonight at 2020-05-19 04:12:45.663 UTC\n",
      "You can observe for 9.4 h tonight\n"
     ]
    },
    {
     "data": {
      "text/latex": [
       "$9.4285503 \\; \\mathrm{h}$"
      ],
      "text/plain": [
       "<Quantity 9.42855034 h>"
      ]
     },
     "execution_count": 214,
     "metadata": {},
     "output_type": "execute_result"
    }
   ],
   "source": [
    "# Location Two\n",
    "observe_night_monte = monte_cafe.tonight(my_noon_monte, horizon = -18*u.deg)\n",
    "observe_time_night_monte = (observe_night_monte[1]-observe_night_monte[0]).to(u.h)\n",
    "print(f\"Start observations tonight at {observe_night_monte[0].iso} UTC\")\n",
    "print(f\"End observations tonight at {observe_night_monte[1].iso} UTC\")\n",
    "print(f\"You can observe for {observe_time_night_monte:.1f} tonight\")\n",
    "observe_time_night_monte"
   ]
  },
  {
   "cell_type": "code",
   "execution_count": 215,
   "metadata": {
    "jupyter": {
     "outputs_hidden": false
    }
   },
   "outputs": [
    {
     "name": "stdout",
     "output_type": "stream",
     "text": [
      "Start observations tonight at 2020-05-18 21:51:50.304 UTC\n",
      "End observations tonight at 2020-05-19 09:42:09.981 UTC\n",
      "You can observe for 11.8 h tonight\n"
     ]
    },
    {
     "data": {
      "text/latex": [
       "$11.838799 \\; \\mathrm{h}$"
      ],
      "text/plain": [
       "<Quantity 11.83879919 h>"
      ]
     },
     "execution_count": 215,
     "metadata": {},
     "output_type": "execute_result"
    }
   ],
   "source": [
    "# Location Three\n",
    "observe_night_hija = hija_cafe.tonight(my_noon_hija, horizon = -18*u.deg)\n",
    "observe_time_night_hija = (observe_night_hija[1]-observe_night_hija[0]).to(u.h)\n",
    "print(f\"Start observations tonight at {observe_night_hija[0].iso} UTC\")\n",
    "print(f\"End observations tonight at {observe_night_hija[1].iso} UTC\")\n",
    "print(f\"You can observe for {observe_time_night_hija:.1f} tonight\")\n",
    "observe_time_night_hija"
   ]
  },
  {
   "cell_type": "markdown",
   "metadata": {},
   "source": [
    "---\n",
    "\n",
    "## Set up the targets\n",
    "\n",
    "## Where in the sky?\n",
    "\n",
    "* Altitude (Alt) - Degrees above horizon\n",
    "* Azimuth (Az) - Compass degrees from North\n",
    "* `LOCATION.altaz(TIME, TARGET)`\n",
    "\n",
    "&nbsp;\n",
    "\n",
    "<p>\n",
    "<img src=\"./images/AltAz.gif\">\n",
    "</p>"
   ]
  },
  {
   "cell_type": "code",
   "execution_count": 216,
   "metadata": {
    "jupyter": {
     "outputs_hidden": false
    }
   },
   "outputs": [
    {
     "data": {
      "text/plain": [
       "<FixedTarget \"NGC 5457\" at SkyCoord (ICRS): (ra, dec) in deg (210.80242917, 54.34875)>"
      ]
     },
     "execution_count": 216,
     "metadata": {},
     "output_type": "execute_result"
    }
   ],
   "source": [
    "my_target_one = FixedTarget.from_name(\"NGC 5457\")\n",
    "my_target_one"
   ]
  },
  {
   "cell_type": "code",
   "execution_count": 217,
   "metadata": {},
   "outputs": [
    {
     "data": {
      "text/plain": [
       "<FixedTarget \"NGC 5713\" at SkyCoord (ICRS): (ra, dec) in deg (220.04803333, -0.28921111)>"
      ]
     },
     "execution_count": 217,
     "metadata": {},
     "output_type": "execute_result"
    }
   ],
   "source": [
    "my_target_two = FixedTarget.from_name(\"NGC 5713\")\n",
    "my_target_two"
   ]
  },
  {
   "cell_type": "code",
   "execution_count": 218,
   "metadata": {},
   "outputs": [
    {
     "data": {
      "text/plain": [
       "<FixedTarget \"NGC 5979\" at SkyCoord (ICRS): (ra, dec) in deg (236.9215, -61.21822222)>"
      ]
     },
     "execution_count": 218,
     "metadata": {},
     "output_type": "execute_result"
    }
   ],
   "source": [
    "my_target_three = FixedTarget.from_name(\"NGC 5979\")\n",
    "my_target_three"
   ]
  },
  {
   "cell_type": "code",
   "execution_count": 219,
   "metadata": {},
   "outputs": [
    {
     "data": {
      "text/plain": [
       "<FixedTarget \"NGC 5643\" at SkyCoord (ICRS): (ra, dec) in deg (218.16990833, -44.17461111)>"
      ]
     },
     "execution_count": 219,
     "metadata": {},
     "output_type": "execute_result"
    }
   ],
   "source": [
    "my_target_four = FixedTarget.from_name(\"NGC 5643\")\n",
    "my_target_four"
   ]
  },
  {
   "cell_type": "code",
   "execution_count": 220,
   "metadata": {},
   "outputs": [
    {
     "data": {
      "text/plain": [
       "<SkyCoord (ICRS): (ra, dec) in deg\n",
       "    (210.80242917, 54.34875)>"
      ]
     },
     "execution_count": 220,
     "metadata": {},
     "output_type": "execute_result"
    }
   ],
   "source": [
    "my_target_one.coord"
   ]
  },
  {
   "cell_type": "code",
   "execution_count": 221,
   "metadata": {},
   "outputs": [
    {
     "data": {
      "text/plain": [
       "<SkyCoord (ICRS): (ra, dec) in deg\n",
       "    (220.04803333, -0.28921111)>"
      ]
     },
     "execution_count": 221,
     "metadata": {},
     "output_type": "execute_result"
    }
   ],
   "source": [
    "my_target_two.coord"
   ]
  },
  {
   "cell_type": "code",
   "execution_count": 222,
   "metadata": {},
   "outputs": [
    {
     "data": {
      "text/plain": [
       "<SkyCoord (ICRS): (ra, dec) in deg\n",
       "    (236.9215, -61.21822222)>"
      ]
     },
     "execution_count": 222,
     "metadata": {},
     "output_type": "execute_result"
    }
   ],
   "source": [
    "my_target_three.coord"
   ]
  },
  {
   "cell_type": "code",
   "execution_count": 223,
   "metadata": {},
   "outputs": [
    {
     "data": {
      "text/plain": [
       "<SkyCoord (ICRS): (ra, dec) in deg\n",
       "    (218.16990833, -44.17461111)>"
      ]
     },
     "execution_count": 223,
     "metadata": {},
     "output_type": "execute_result"
    }
   ],
   "source": [
    "my_target_four.coord"
   ]
  },
  {
   "cell_type": "code",
   "execution_count": 224,
   "metadata": {},
   "outputs": [
    {
     "data": {
      "text/plain": [
       "hms_tuple(h=14.0, m=3.0, s=12.583000800011916)"
      ]
     },
     "execution_count": 224,
     "metadata": {},
     "output_type": "execute_result"
    }
   ],
   "source": [
    "my_target_one.ra.hms"
   ]
  },
  {
   "cell_type": "code",
   "execution_count": 225,
   "metadata": {},
   "outputs": [
    {
     "data": {
      "text/plain": [
       "hms_tuple(h=14.0, m=40.0, s=11.527999200012573)"
      ]
     },
     "execution_count": 225,
     "metadata": {},
     "output_type": "execute_result"
    }
   ],
   "source": [
    "my_target_two.ra.hms"
   ]
  },
  {
   "cell_type": "code",
   "execution_count": 226,
   "metadata": {},
   "outputs": [
    {
     "data": {
      "text/plain": [
       "hms_tuple(h=15.0, m=47.0, s=41.16000000001023)"
      ]
     },
     "execution_count": 226,
     "metadata": {},
     "output_type": "execute_result"
    }
   ],
   "source": [
    "my_target_three.ra.hms"
   ]
  },
  {
   "cell_type": "code",
   "execution_count": 227,
   "metadata": {},
   "outputs": [
    {
     "data": {
      "text/plain": [
       "hms_tuple(h=14.0, m=32.0, s=40.77799920000686)"
      ]
     },
     "execution_count": 227,
     "metadata": {},
     "output_type": "execute_result"
    }
   ],
   "source": [
    "my_target_four.ra.hms"
   ]
  },
  {
   "cell_type": "code",
   "execution_count": 228,
   "metadata": {},
   "outputs": [
    {
     "data": {
      "text/plain": [
       "True"
      ]
     },
     "execution_count": 228,
     "metadata": {},
     "output_type": "execute_result"
    }
   ],
   "source": [
    "my_midnight_blue_bird = blue_bird_cafe.midnight(my_noon_blue_bird, which='next')\n",
    "blue_bird_cafe.target_is_up(my_midnight_blue_bird, my_target_one)"
   ]
  },
  {
   "cell_type": "code",
   "execution_count": 229,
   "metadata": {},
   "outputs": [
    {
     "data": {
      "text/plain": [
       "True"
      ]
     },
     "execution_count": 229,
     "metadata": {},
     "output_type": "execute_result"
    }
   ],
   "source": [
    "my_midnight_blue_bird = blue_bird_cafe.midnight(my_noon_blue_bird, which='next')\n",
    "blue_bird_cafe.target_is_up(my_midnight_blue_bird, my_target_two)"
   ]
  },
  {
   "cell_type": "code",
   "execution_count": 230,
   "metadata": {},
   "outputs": [
    {
     "data": {
      "text/plain": [
       "False"
      ]
     },
     "execution_count": 230,
     "metadata": {},
     "output_type": "execute_result"
    }
   ],
   "source": [
    "my_midnight_blue_bird = blue_bird_cafe.midnight(my_noon_blue_bird, which='next')\n",
    "blue_bird_cafe.target_is_up(my_midnight_blue_bird, my_target_three)"
   ]
  },
  {
   "cell_type": "code",
   "execution_count": 231,
   "metadata": {},
   "outputs": [
    {
     "data": {
      "text/plain": [
       "False"
      ]
     },
     "execution_count": 231,
     "metadata": {},
     "output_type": "execute_result"
    }
   ],
   "source": [
    "my_midnight_blue_bird = blue_bird_cafe.midnight(my_noon_blue_bird, which='next')\n",
    "blue_bird_cafe.target_is_up(my_midnight_blue_bird, my_target_four)"
   ]
  },
  {
   "cell_type": "code",
   "execution_count": 232,
   "metadata": {},
   "outputs": [
    {
     "data": {
      "text/plain": [
       "True"
      ]
     },
     "execution_count": 232,
     "metadata": {},
     "output_type": "execute_result"
    }
   ],
   "source": [
    "my_midnight_monte = monte_cafe.midnight(my_noon_monte, which='next')\n",
    "monte_cafe.target_is_up(my_midnight_monte, my_target_one)"
   ]
  },
  {
   "cell_type": "code",
   "execution_count": 233,
   "metadata": {},
   "outputs": [
    {
     "data": {
      "text/plain": [
       "True"
      ]
     },
     "execution_count": 233,
     "metadata": {},
     "output_type": "execute_result"
    }
   ],
   "source": [
    "my_midnight_monte = monte_cafe.midnight(my_noon_monte, which='next')\n",
    "monte_cafe.target_is_up(my_midnight_monte, my_target_two)"
   ]
  },
  {
   "cell_type": "code",
   "execution_count": 234,
   "metadata": {},
   "outputs": [
    {
     "data": {
      "text/plain": [
       "True"
      ]
     },
     "execution_count": 234,
     "metadata": {},
     "output_type": "execute_result"
    }
   ],
   "source": [
    "my_midnight_monte = monte_cafe.midnight(my_noon_monte, which='next')\n",
    "monte_cafe.target_is_up(my_midnight_monte, my_target_three)"
   ]
  },
  {
   "cell_type": "code",
   "execution_count": 235,
   "metadata": {},
   "outputs": [
    {
     "data": {
      "text/plain": [
       "True"
      ]
     },
     "execution_count": 235,
     "metadata": {},
     "output_type": "execute_result"
    }
   ],
   "source": [
    "my_midnight_monte = monte_cafe.midnight(my_noon_monte, which='next')\n",
    "monte_cafe.target_is_up(my_midnight_monte, my_target_four)"
   ]
  },
  {
   "cell_type": "code",
   "execution_count": 236,
   "metadata": {},
   "outputs": [
    {
     "data": {
      "text/plain": [
       "False"
      ]
     },
     "execution_count": 236,
     "metadata": {},
     "output_type": "execute_result"
    }
   ],
   "source": [
    "my_midnight_hija = hija_cafe.midnight(my_noon_hija, which='next')\n",
    "hija_cafe.target_is_up(my_midnight_hija, my_target_one)"
   ]
  },
  {
   "cell_type": "code",
   "execution_count": 237,
   "metadata": {},
   "outputs": [
    {
     "data": {
      "text/plain": [
       "True"
      ]
     },
     "execution_count": 237,
     "metadata": {},
     "output_type": "execute_result"
    }
   ],
   "source": [
    "my_midnight_hija = hija_cafe.midnight(my_noon_hija, which='next')\n",
    "hija_cafe.target_is_up(my_midnight_hija, my_target_two)"
   ]
  },
  {
   "cell_type": "code",
   "execution_count": 238,
   "metadata": {},
   "outputs": [
    {
     "data": {
      "text/plain": [
       "True"
      ]
     },
     "execution_count": 238,
     "metadata": {},
     "output_type": "execute_result"
    }
   ],
   "source": [
    "my_midnight_hija = hija_cafe.midnight(my_noon_hija, which='next')\n",
    "hija_cafe.target_is_up(my_midnight_hija, my_target_three)"
   ]
  },
  {
   "cell_type": "code",
   "execution_count": 239,
   "metadata": {},
   "outputs": [
    {
     "data": {
      "text/plain": [
       "True"
      ]
     },
     "execution_count": 239,
     "metadata": {},
     "output_type": "execute_result"
    }
   ],
   "source": [
    "my_midnight_hija = hija_cafe.midnight(my_noon_hija, which='next')\n",
    "hija_cafe.target_is_up(my_midnight_hija, my_target_four)"
   ]
  },
  {
   "cell_type": "code",
   "execution_count": 240,
   "metadata": {},
   "outputs": [],
   "source": [
    "## First location: air mass and location at midnight for all targets"
   ]
  },
  {
   "cell_type": "code",
   "execution_count": 241,
   "metadata": {},
   "outputs": [],
   "source": [
    "where_to_look_blue_bird_t1 = blue_bird_cafe.altaz(my_midnight_blue_bird, my_target_one)"
   ]
  },
  {
   "cell_type": "code",
   "execution_count": 242,
   "metadata": {},
   "outputs": [
    {
     "data": {
      "text/latex": [
       "$74^\\circ28{}^\\prime15.2944{}^{\\prime\\prime}$"
      ],
      "text/plain": [
       "<Latitude 74.47091512 deg>"
      ]
     },
     "execution_count": 242,
     "metadata": {},
     "output_type": "execute_result"
    }
   ],
   "source": [
    "where_to_look_blue_bird_t1.alt"
   ]
  },
  {
   "cell_type": "code",
   "execution_count": 243,
   "metadata": {},
   "outputs": [
    {
     "data": {
      "text/latex": [
       "$288^\\circ57{}^\\prime50.9939{}^{\\prime\\prime}$"
      ],
      "text/plain": [
       "<Longitude 288.96416496 deg>"
      ]
     },
     "execution_count": 243,
     "metadata": {},
     "output_type": "execute_result"
    }
   ],
   "source": [
    "where_to_look_blue_bird_t1.az"
   ]
  },
  {
   "cell_type": "code",
   "execution_count": 244,
   "metadata": {},
   "outputs": [
    {
     "data": {
      "text/latex": [
       "$1.0378885 \\; \\mathrm{}$"
      ],
      "text/plain": [
       "<Quantity 1.03788846>"
      ]
     },
     "execution_count": 244,
     "metadata": {},
     "output_type": "execute_result"
    }
   ],
   "source": [
    "where_to_look_blue_bird_t1.secz"
   ]
  },
  {
   "cell_type": "code",
   "execution_count": 245,
   "metadata": {},
   "outputs": [],
   "source": [
    "where_to_look_blue_bird_t2 = blue_bird_cafe.altaz(my_midnight_blue_bird, my_target_two)"
   ]
  },
  {
   "cell_type": "code",
   "execution_count": 246,
   "metadata": {},
   "outputs": [
    {
     "data": {
      "text/latex": [
       "$35^\\circ57{}^\\prime47.825{}^{\\prime\\prime}$"
      ],
      "text/plain": [
       "<Latitude 35.96328472 deg>"
      ]
     },
     "execution_count": 246,
     "metadata": {},
     "output_type": "execute_result"
    }
   ],
   "source": [
    "where_to_look_blue_bird_t2.alt"
   ]
  },
  {
   "cell_type": "code",
   "execution_count": 247,
   "metadata": {},
   "outputs": [
    {
     "data": {
      "text/latex": [
       "$200^\\circ22{}^\\prime03.4711{}^{\\prime\\prime}$"
      ],
      "text/plain": [
       "<Longitude 200.36763087 deg>"
      ]
     },
     "execution_count": 247,
     "metadata": {},
     "output_type": "execute_result"
    }
   ],
   "source": [
    "where_to_look_blue_bird_t2.az"
   ]
  },
  {
   "cell_type": "code",
   "execution_count": 248,
   "metadata": {},
   "outputs": [
    {
     "data": {
      "text/latex": [
       "$1.7028038 \\; \\mathrm{}$"
      ],
      "text/plain": [
       "<Quantity 1.70280382>"
      ]
     },
     "execution_count": 248,
     "metadata": {},
     "output_type": "execute_result"
    }
   ],
   "source": [
    "where_to_look_blue_bird_t2.secz"
   ]
  },
  {
   "cell_type": "code",
   "execution_count": 249,
   "metadata": {},
   "outputs": [],
   "source": [
    "where_to_look_blue_bird_t3 = blue_bird_cafe.altaz(my_midnight_blue_bird, my_target_three)"
   ]
  },
  {
   "cell_type": "code",
   "execution_count": 250,
   "metadata": {},
   "outputs": [
    {
     "data": {
      "text/latex": [
       "$-23^\\circ09{}^\\prime04.7379{}^{\\prime\\prime}$"
      ],
      "text/plain": [
       "<Latitude -23.15131608 deg>"
      ]
     },
     "execution_count": 250,
     "metadata": {},
     "output_type": "execute_result"
    }
   ],
   "source": [
    "where_to_look_blue_bird_t3.alt"
   ]
  },
  {
   "cell_type": "code",
   "execution_count": 251,
   "metadata": {},
   "outputs": [
    {
     "data": {
      "text/latex": [
       "$179^\\circ38{}^\\prime26.4421{}^{\\prime\\prime}$"
      ],
      "text/plain": [
       "<Longitude 179.64067835 deg>"
      ]
     },
     "execution_count": 251,
     "metadata": {},
     "output_type": "execute_result"
    }
   ],
   "source": [
    "where_to_look_blue_bird_t3.az"
   ]
  },
  {
   "cell_type": "code",
   "execution_count": 252,
   "metadata": {},
   "outputs": [
    {
     "data": {
      "text/latex": [
       "$-2.5434887 \\; \\mathrm{}$"
      ],
      "text/plain": [
       "<Quantity -2.54348868>"
      ]
     },
     "execution_count": 252,
     "metadata": {},
     "output_type": "execute_result"
    }
   ],
   "source": [
    "where_to_look_blue_bird_t3.secz"
   ]
  },
  {
   "cell_type": "code",
   "execution_count": 253,
   "metadata": {},
   "outputs": [],
   "source": [
    "where_to_look_blue_bird_t4 = blue_bird_cafe.altaz(my_midnight_blue_bird, my_target_four)"
   ]
  },
  {
   "cell_type": "code",
   "execution_count": 254,
   "metadata": {},
   "outputs": [
    {
     "data": {
      "text/latex": [
       "$-7^\\circ24{}^\\prime25.7802{}^{\\prime\\prime}$"
      ],
      "text/plain": [
       "<Latitude -7.40716117 deg>"
      ]
     },
     "execution_count": 254,
     "metadata": {},
     "output_type": "execute_result"
    }
   ],
   "source": [
    "where_to_look_blue_bird_t4.alt"
   ]
  },
  {
   "cell_type": "code",
   "execution_count": 255,
   "metadata": {},
   "outputs": [
    {
     "data": {
      "text/latex": [
       "$193^\\circ00{}^\\prime55.7779{}^{\\prime\\prime}$"
      ],
      "text/plain": [
       "<Longitude 193.01549386 deg>"
      ]
     },
     "execution_count": 255,
     "metadata": {},
     "output_type": "execute_result"
    }
   ],
   "source": [
    "where_to_look_blue_bird_t4.az"
   ]
  },
  {
   "cell_type": "code",
   "execution_count": 256,
   "metadata": {},
   "outputs": [
    {
     "data": {
      "text/latex": [
       "$-7.756776 \\; \\mathrm{}$"
      ],
      "text/plain": [
       "<Quantity -7.75677602>"
      ]
     },
     "execution_count": 256,
     "metadata": {},
     "output_type": "execute_result"
    }
   ],
   "source": [
    "where_to_look_blue_bird_t4.secz"
   ]
  },
  {
   "cell_type": "code",
   "execution_count": 257,
   "metadata": {},
   "outputs": [],
   "source": [
    "## Second location: air mass and location at midnight for all targets"
   ]
  },
  {
   "cell_type": "code",
   "execution_count": 258,
   "metadata": {},
   "outputs": [],
   "source": [
    "where_to_look_monte_t1 = monte_cafe.altaz(my_midnight_monte, my_target_one)"
   ]
  },
  {
   "cell_type": "code",
   "execution_count": 259,
   "metadata": {},
   "outputs": [
    {
     "data": {
      "text/latex": [
       "$32^\\circ11{}^\\prime23.8176{}^{\\prime\\prime}$"
      ],
      "text/plain": [
       "<Latitude 32.18994935 deg>"
      ]
     },
     "execution_count": 259,
     "metadata": {},
     "output_type": "execute_result"
    }
   ],
   "source": [
    "where_to_look_monte_t1.alt"
   ]
  },
  {
   "cell_type": "code",
   "execution_count": 260,
   "metadata": {},
   "outputs": [
    {
     "data": {
      "text/latex": [
       "$342^\\circ53{}^\\prime35.3685{}^{\\prime\\prime}$"
      ],
      "text/plain": [
       "<Longitude 342.89315792 deg>"
      ]
     },
     "execution_count": 260,
     "metadata": {},
     "output_type": "execute_result"
    }
   ],
   "source": [
    "where_to_look_monte_t1.az"
   ]
  },
  {
   "cell_type": "code",
   "execution_count": 261,
   "metadata": {},
   "outputs": [
    {
     "data": {
      "text/latex": [
       "$1.8771311 \\; \\mathrm{}$"
      ],
      "text/plain": [
       "<Quantity 1.87713114>"
      ]
     },
     "execution_count": 261,
     "metadata": {},
     "output_type": "execute_result"
    }
   ],
   "source": [
    "where_to_look_monte_t1.secz"
   ]
  },
  {
   "cell_type": "code",
   "execution_count": 262,
   "metadata": {},
   "outputs": [],
   "source": [
    "where_to_look_monte_t2 = monte_cafe.altaz(my_midnight_monte, my_target_two)"
   ]
  },
  {
   "cell_type": "code",
   "execution_count": 263,
   "metadata": {},
   "outputs": [
    {
     "data": {
      "text/latex": [
       "$74^\\circ05{}^\\prime10.5256{}^{\\prime\\prime}$"
      ],
      "text/plain": [
       "<Latitude 74.08625711 deg>"
      ]
     },
     "execution_count": 263,
     "metadata": {},
     "output_type": "execute_result"
    }
   ],
   "source": [
    "where_to_look_monte_t2.alt"
   ]
  },
  {
   "cell_type": "code",
   "execution_count": 264,
   "metadata": {},
   "outputs": [
    {
     "data": {
      "text/latex": [
       "$267^\\circ34{}^\\prime42.0275{}^{\\prime\\prime}$"
      ],
      "text/plain": [
       "<Longitude 267.57834097 deg>"
      ]
     },
     "execution_count": 264,
     "metadata": {},
     "output_type": "execute_result"
    }
   ],
   "source": [
    "where_to_look_monte_t2.az"
   ]
  },
  {
   "cell_type": "code",
   "execution_count": 265,
   "metadata": {},
   "outputs": [
    {
     "data": {
      "text/latex": [
       "$1.0398517 \\; \\mathrm{}$"
      ],
      "text/plain": [
       "<Quantity 1.03985172>"
      ]
     },
     "execution_count": 265,
     "metadata": {},
     "output_type": "execute_result"
    }
   ],
   "source": [
    "where_to_look_monte_t2.secz"
   ]
  },
  {
   "cell_type": "code",
   "execution_count": 266,
   "metadata": {},
   "outputs": [],
   "source": [
    "where_to_look_monte_t3 = monte_cafe.altaz(my_midnight_monte, my_target_three)"
   ]
  },
  {
   "cell_type": "code",
   "execution_count": 267,
   "metadata": {},
   "outputs": [
    {
     "data": {
      "text/latex": [
       "$28^\\circ24{}^\\prime52.3155{}^{\\prime\\prime}$"
      ],
      "text/plain": [
       "<Latitude 28.41453209 deg>"
      ]
     },
     "execution_count": 267,
     "metadata": {},
     "output_type": "execute_result"
    }
   ],
   "source": [
    "where_to_look_monte_t3.alt"
   ]
  },
  {
   "cell_type": "code",
   "execution_count": 268,
   "metadata": {},
   "outputs": [
    {
     "data": {
      "text/latex": [
       "$179^\\circ22{}^\\prime16.6743{}^{\\prime\\prime}$"
      ],
      "text/plain": [
       "<Longitude 179.37129842 deg>"
      ]
     },
     "execution_count": 268,
     "metadata": {},
     "output_type": "execute_result"
    }
   ],
   "source": [
    "where_to_look_monte_t3.az"
   ]
  },
  {
   "cell_type": "code",
   "execution_count": 269,
   "metadata": {},
   "outputs": [
    {
     "data": {
      "text/latex": [
       "$2.1015145 \\; \\mathrm{}$"
      ],
      "text/plain": [
       "<Quantity 2.10151449>"
      ]
     },
     "execution_count": 269,
     "metadata": {},
     "output_type": "execute_result"
    }
   ],
   "source": [
    "where_to_look_monte_t3.secz"
   ]
  },
  {
   "cell_type": "code",
   "execution_count": 270,
   "metadata": {},
   "outputs": [],
   "source": [
    "where_to_look_monte_t4 = monte_cafe.altaz(my_midnight_monte, my_target_four)"
   ]
  },
  {
   "cell_type": "code",
   "execution_count": 271,
   "metadata": {},
   "outputs": [
    {
     "data": {
      "text/latex": [
       "$42^\\circ43{}^\\prime45.0843{}^{\\prime\\prime}$"
      ],
      "text/plain": [
       "<Latitude 42.72919009 deg>"
      ]
     },
     "execution_count": 271,
     "metadata": {},
     "output_type": "execute_result"
    }
   ],
   "source": [
    "where_to_look_monte_t4.alt"
   ]
  },
  {
   "cell_type": "code",
   "execution_count": 272,
   "metadata": {},
   "outputs": [
    {
     "data": {
      "text/latex": [
       "$197^\\circ14{}^\\prime59.7508{}^{\\prime\\prime}$"
      ],
      "text/plain": [
       "<Longitude 197.24993077 deg>"
      ]
     },
     "execution_count": 272,
     "metadata": {},
     "output_type": "execute_result"
    }
   ],
   "source": [
    "where_to_look_monte_t4.az"
   ]
  },
  {
   "cell_type": "code",
   "execution_count": 273,
   "metadata": {},
   "outputs": [
    {
     "data": {
      "text/latex": [
       "$1.4737655 \\; \\mathrm{}$"
      ],
      "text/plain": [
       "<Quantity 1.47376551>"
      ]
     },
     "execution_count": 273,
     "metadata": {},
     "output_type": "execute_result"
    }
   ],
   "source": [
    "where_to_look_monte_t4.secz"
   ]
  },
  {
   "cell_type": "code",
   "execution_count": 274,
   "metadata": {},
   "outputs": [],
   "source": [
    "## Third location: air mass and location at midnight for all targets"
   ]
  },
  {
   "cell_type": "code",
   "execution_count": 275,
   "metadata": {},
   "outputs": [],
   "source": [
    "where_to_look_hija_t1 = hija_cafe.altaz(my_midnight_hija, my_target_one)"
   ]
  },
  {
   "cell_type": "code",
   "execution_count": 276,
   "metadata": {},
   "outputs": [
    {
     "data": {
      "text/latex": [
       "$32^\\circ11{}^\\prime23.8176{}^{\\prime\\prime}$"
      ],
      "text/plain": [
       "<Latitude 32.18994935 deg>"
      ]
     },
     "execution_count": 276,
     "metadata": {},
     "output_type": "execute_result"
    }
   ],
   "source": [
    "where_to_look_monte_t1.alt"
   ]
  },
  {
   "cell_type": "code",
   "execution_count": 277,
   "metadata": {},
   "outputs": [
    {
     "data": {
      "text/latex": [
       "$342^\\circ53{}^\\prime35.3685{}^{\\prime\\prime}$"
      ],
      "text/plain": [
       "<Longitude 342.89315792 deg>"
      ]
     },
     "execution_count": 277,
     "metadata": {},
     "output_type": "execute_result"
    }
   ],
   "source": [
    "where_to_look_monte_t1.az"
   ]
  },
  {
   "cell_type": "code",
   "execution_count": 278,
   "metadata": {},
   "outputs": [
    {
     "data": {
      "text/latex": [
       "$-2.1383472 \\; \\mathrm{}$"
      ],
      "text/plain": [
       "<Quantity -2.1383472>"
      ]
     },
     "execution_count": 278,
     "metadata": {},
     "output_type": "execute_result"
    }
   ],
   "source": [
    "where_to_look_hija_t1.secz"
   ]
  },
  {
   "cell_type": "code",
   "execution_count": 279,
   "metadata": {},
   "outputs": [],
   "source": [
    "where_to_look_hija_t2 = hija_cafe.altaz(my_midnight_hija, my_target_two)"
   ]
  },
  {
   "cell_type": "code",
   "execution_count": 280,
   "metadata": {},
   "outputs": [
    {
     "data": {
      "text/latex": [
       "$27^\\circ15{}^\\prime50.3119{}^{\\prime\\prime}$"
      ],
      "text/plain": [
       "<Latitude 27.26397553 deg>"
      ]
     },
     "execution_count": 280,
     "metadata": {},
     "output_type": "execute_result"
    }
   ],
   "source": [
    "where_to_look_hija_t2.alt"
   ]
  },
  {
   "cell_type": "code",
   "execution_count": 281,
   "metadata": {},
   "outputs": [
    {
     "data": {
      "text/latex": [
       "$341^\\circ46{}^\\prime31.0502{}^{\\prime\\prime}$"
      ],
      "text/plain": [
       "<Longitude 341.77529172 deg>"
      ]
     },
     "execution_count": 281,
     "metadata": {},
     "output_type": "execute_result"
    }
   ],
   "source": [
    "where_to_look_hija_t2.az"
   ]
  },
  {
   "cell_type": "code",
   "execution_count": 282,
   "metadata": {},
   "outputs": [
    {
     "data": {
      "text/latex": [
       "$2.1829736 \\; \\mathrm{}$"
      ],
      "text/plain": [
       "<Quantity 2.18297357>"
      ]
     },
     "execution_count": 282,
     "metadata": {},
     "output_type": "execute_result"
    }
   ],
   "source": [
    "where_to_look_hija_t2.secz"
   ]
  },
  {
   "cell_type": "code",
   "execution_count": 283,
   "metadata": {},
   "outputs": [],
   "source": [
    "where_to_look_hija_t3 = monte_cafe.altaz(my_midnight_hija, my_target_three)"
   ]
  },
  {
   "cell_type": "code",
   "execution_count": 284,
   "metadata": {},
   "outputs": [
    {
     "data": {
      "text/latex": [
       "$12^\\circ13{}^\\prime03.2236{}^{\\prime\\prime}$"
      ],
      "text/plain": [
       "<Latitude 12.21756212 deg>"
      ]
     },
     "execution_count": 284,
     "metadata": {},
     "output_type": "execute_result"
    }
   ],
   "source": [
    "where_to_look_hija_t3.alt"
   ]
  },
  {
   "cell_type": "code",
   "execution_count": 285,
   "metadata": {},
   "outputs": [
    {
     "data": {
      "text/latex": [
       "$206^\\circ02{}^\\prime44.9868{}^{\\prime\\prime}$"
      ],
      "text/plain": [
       "<Longitude 206.04582967 deg>"
      ]
     },
     "execution_count": 285,
     "metadata": {},
     "output_type": "execute_result"
    }
   ],
   "source": [
    "where_to_look_hija_t3.az"
   ]
  },
  {
   "cell_type": "code",
   "execution_count": 286,
   "metadata": {},
   "outputs": [
    {
     "data": {
      "text/latex": [
       "$4.7253535 \\; \\mathrm{}$"
      ],
      "text/plain": [
       "<Quantity 4.72535346>"
      ]
     },
     "execution_count": 286,
     "metadata": {},
     "output_type": "execute_result"
    }
   ],
   "source": [
    "where_to_look_hija_t3.secz"
   ]
  },
  {
   "cell_type": "code",
   "execution_count": 287,
   "metadata": {},
   "outputs": [],
   "source": [
    "where_to_look_hija_t4 = monte_cafe.altaz(my_midnight_hija, my_target_four)"
   ]
  },
  {
   "cell_type": "code",
   "execution_count": 288,
   "metadata": {},
   "outputs": [
    {
     "data": {
      "text/latex": [
       "$5^\\circ25{}^\\prime28.9956{}^{\\prime\\prime}$"
      ],
      "text/plain": [
       "<Latitude 5.42472101 deg>"
      ]
     },
     "execution_count": 288,
     "metadata": {},
     "output_type": "execute_result"
    }
   ],
   "source": [
    "where_to_look_hija_t4.alt"
   ]
  },
  {
   "cell_type": "code",
   "execution_count": 289,
   "metadata": {},
   "outputs": [
    {
     "data": {
      "text/latex": [
       "$225^\\circ26{}^\\prime35.1707{}^{\\prime\\prime}$"
      ],
      "text/plain": [
       "<Longitude 225.44310298 deg>"
      ]
     },
     "execution_count": 289,
     "metadata": {},
     "output_type": "execute_result"
    }
   ],
   "source": [
    "where_to_look_hija_t4.az"
   ]
  },
  {
   "cell_type": "code",
   "execution_count": 290,
   "metadata": {},
   "outputs": [
    {
     "data": {
      "text/latex": [
       "$10.577774 \\; \\mathrm{}$"
      ],
      "text/plain": [
       "<Quantity 10.57777358>"
      ]
     },
     "execution_count": 290,
     "metadata": {},
     "output_type": "execute_result"
    }
   ],
   "source": [
    "where_to_look_hija_t4.secz"
   ]
  },
  {
   "cell_type": "markdown",
   "metadata": {},
   "source": [
    "---\n",
    "## Make an airmass plot for each location for the observing night\n",
    "\n",
    "* Plot all of the targets on each plot\n",
    "* Plot size: Width - 12 in"
   ]
  },
  {
   "cell_type": "code",
   "execution_count": 291,
   "metadata": {},
   "outputs": [],
   "source": [
    "my_time_grid_blue = time_grid_from_range(observe_night_blue, time_resolution = 1 * u.min)"
   ]
  },
  {
   "cell_type": "code",
   "execution_count": 292,
   "metadata": {},
   "outputs": [
    {
     "data": {
      "text/plain": [
       "<Time object: scale='utc' format='jd' value=[2458988.96723297 2458988.96792742 2458988.96862186 2458988.96931631\n",
       " 2458988.97001075 2458988.97070519 2458988.97139964 2458988.97209408\n",
       " 2458988.97278853 2458988.97348297 2458988.97417742 2458988.97487186\n",
       " 2458988.97556631 2458988.97626075 2458988.97695519 2458988.97764964\n",
       " 2458988.97834408 2458988.97903853 2458988.97973297 2458988.98042742\n",
       " 2458988.98112186 2458988.9818163  2458988.98251075 2458988.98320519\n",
       " 2458988.98389964 2458988.98459408 2458988.98528853 2458988.98598297\n",
       " 2458988.98667742 2458988.98737186 2458988.9880663  2458988.98876075\n",
       " 2458988.98945519 2458988.99014964 2458988.99084408 2458988.99153853\n",
       " 2458988.99223297 2458988.99292742 2458988.99362186 2458988.9943163\n",
       " 2458988.99501075 2458988.99570519 2458988.99639964 2458988.99709408\n",
       " 2458988.99778853 2458988.99848297 2458988.99917741 2458988.99987186\n",
       " 2458989.0005663  2458989.00126075]>"
      ]
     },
     "execution_count": 292,
     "metadata": {},
     "output_type": "execute_result"
    }
   ],
   "source": [
    "my_time_grid_blue"
   ]
  },
  {
   "cell_type": "code",
   "execution_count": 293,
   "metadata": {},
   "outputs": [
    {
     "data": {
      "image/png": "[encoded data removed]",
      "text/plain": [
       "<Figure size 432x288 with 1 Axes>"
      ]
     },
     "metadata": {
      "needs_background": "light"
     },
     "output_type": "display_data"
    }
   ],
   "source": [
    "plot_airmass(my_target_one, blue_bird_cafe, my_time_grid_blue);"
   ]
  },
  {
   "cell_type": "code",
   "execution_count": 294,
   "metadata": {},
   "outputs": [
    {
     "data": {
      "image/png": "[encoded data removed]",
      "text/plain": [
       "<Figure size 432x288 with 1 Axes>"
      ]
     },
     "metadata": {
      "needs_background": "light"
     },
     "output_type": "display_data"
    }
   ],
   "source": [
    "plot_airmass(my_target_two, blue_bird_cafe, my_time_grid_blue);"
   ]
  },
  {
   "cell_type": "code",
   "execution_count": 295,
   "metadata": {},
   "outputs": [
    {
     "data": {
      "image/png": "[encoded data removed]",
      "text/plain": [
       "<Figure size 432x288 with 1 Axes>"
      ]
     },
     "metadata": {
      "needs_background": "light"
     },
     "output_type": "display_data"
    }
   ],
   "source": [
    "plot_airmass(my_target_three, blue_bird_cafe, my_time_grid_blue);"
   ]
  },
  {
   "cell_type": "code",
   "execution_count": 296,
   "metadata": {},
   "outputs": [
    {
     "data": {
      "image/png": "[encoded data removed]",
      "text/plain": [
       "<Figure size 432x288 with 1 Axes>"
      ]
     },
     "metadata": {
      "needs_background": "light"
     },
     "output_type": "display_data"
    }
   ],
   "source": [
    "plot_airmass(my_target_four, blue_bird_cafe, my_time_grid_blue);"
   ]
  },
  {
   "cell_type": "code",
   "execution_count": 297,
   "metadata": {},
   "outputs": [],
   "source": [
    "target_list_L1 = [my_target_one, my_target_two, my_target_three, my_target_four]"
   ]
  },
  {
   "cell_type": "code",
   "execution_count": 298,
   "metadata": {
    "jupyter": {
     "outputs_hidden": false
    }
   },
   "outputs": [
    {
     "data": {
      "image/png": "[encoded data removed]",
      "text/plain": [
       "<Figure size 864x432 with 1 Axes>"
      ]
     },
     "metadata": {
      "needs_background": "light"
     },
     "output_type": "display_data"
    }
   ],
   "source": [
    "# Location One\n",
    "fig,ax = plt.subplots(1,1)\n",
    "fig.set_size_inches(12,6)\n",
    "\n",
    "fig.tight_layout()\n",
    "\n",
    "for my_object in target_list_L1:\n",
    "    ax = plot_airmass(my_object, blue_bird_cafe, my_time_grid_blue)\n",
    "\n",
    "ax.legend(loc=0,shadow=True);\n",
    "plt.grid(True)\n",
    "plt.savefig('Location 1')"
   ]
  },
  {
   "cell_type": "code",
   "execution_count": 299,
   "metadata": {},
   "outputs": [],
   "source": [
    "my_time_grid_monte = time_grid_from_range(observe_night_monte, time_resolution = 1 * u.h)"
   ]
  },
  {
   "cell_type": "code",
   "execution_count": 300,
   "metadata": {},
   "outputs": [
    {
     "data": {
      "text/plain": [
       "<Time object: scale='utc' format='jd' value=[2458988.28267225 2458988.32433891 2458988.36600558 2458988.40767224\n",
       " 2458988.44933891 2458988.49100558 2458988.53267224 2458988.57433891\n",
       " 2458988.61600558 2458988.65767224]>"
      ]
     },
     "execution_count": 300,
     "metadata": {},
     "output_type": "execute_result"
    }
   ],
   "source": [
    "my_time_grid_monte"
   ]
  },
  {
   "cell_type": "code",
   "execution_count": 301,
   "metadata": {},
   "outputs": [],
   "source": [
    "target_list_L2 = [my_target_one, my_target_two, my_target_three, my_target_four]"
   ]
  },
  {
   "cell_type": "code",
   "execution_count": 302,
   "metadata": {},
   "outputs": [
    {
     "data": {
      "image/png": "[encoded data removed]",
      "text/plain": [
       "<Figure size 432x288 with 1 Axes>"
      ]
     },
     "metadata": {
      "needs_background": "light"
     },
     "output_type": "display_data"
    }
   ],
   "source": [
    "plot_airmass(my_target_one, monte_cafe, my_time_grid_monte);"
   ]
  },
  {
   "cell_type": "code",
   "execution_count": 303,
   "metadata": {},
   "outputs": [
    {
     "data": {
      "image/png": "[encoded data removed]",
      "text/plain": [
       "<Figure size 432x288 with 1 Axes>"
      ]
     },
     "metadata": {
      "needs_background": "light"
     },
     "output_type": "display_data"
    }
   ],
   "source": [
    "plot_airmass(my_target_two, monte_cafe, my_time_grid_monte);"
   ]
  },
  {
   "cell_type": "code",
   "execution_count": 304,
   "metadata": {},
   "outputs": [
    {
     "data": {
      "image/png": "[encoded data removed]",
      "text/plain": [
       "<Figure size 432x288 with 1 Axes>"
      ]
     },
     "metadata": {
      "needs_background": "light"
     },
     "output_type": "display_data"
    }
   ],
   "source": [
    "plot_airmass(my_target_three, monte_cafe, my_time_grid_monte);"
   ]
  },
  {
   "cell_type": "code",
   "execution_count": 305,
   "metadata": {},
   "outputs": [
    {
     "data": {
      "image/png": "[encoded data removed]",
      "text/plain": [
       "<Figure size 432x288 with 1 Axes>"
      ]
     },
     "metadata": {
      "needs_background": "light"
     },
     "output_type": "display_data"
    }
   ],
   "source": [
    "plot_airmass(my_target_four, monte_cafe, my_time_grid_monte);"
   ]
  },
  {
   "cell_type": "code",
   "execution_count": 306,
   "metadata": {
    "jupyter": {
     "outputs_hidden": false
    }
   },
   "outputs": [
    {
     "data": {
      "image/png": "[encoded data removed]",
      "text/plain": [
       "<Figure size 864x432 with 1 Axes>"
      ]
     },
     "metadata": {
      "needs_background": "light"
     },
     "output_type": "display_data"
    }
   ],
   "source": [
    "# Location Two\n",
    "fig,ax = plt.subplots(1,1)\n",
    "fig.set_size_inches(12,6)\n",
    "\n",
    "fig.tight_layout()\n",
    "\n",
    "for my_object in target_list_L1:\n",
    "    ax = plot_airmass(my_object, monte_cafe, my_time_grid_monte)\n",
    "\n",
    "ax.legend(loc=0,shadow=True);\n",
    "plt.grid(True)\n",
    "plt.savefig('Location 2')"
   ]
  },
  {
   "cell_type": "code",
   "execution_count": 307,
   "metadata": {},
   "outputs": [],
   "source": [
    "my_time_grid_hija = time_grid_from_range(observe_night_hija, time_resolution = 1 * u.h)"
   ]
  },
  {
   "cell_type": "code",
   "execution_count": 308,
   "metadata": {},
   "outputs": [
    {
     "data": {
      "text/plain": [
       "<Time object: scale='utc' format='jd' value=[2458988.41099889 2458988.45266555 2458988.49433222 2458988.53599889\n",
       " 2458988.57766555 2458988.61933222 2458988.66099888 2458988.70266555\n",
       " 2458988.74433222 2458988.78599888 2458988.82766555 2458988.86933222]>"
      ]
     },
     "execution_count": 308,
     "metadata": {},
     "output_type": "execute_result"
    }
   ],
   "source": [
    "my_time_grid_hija"
   ]
  },
  {
   "cell_type": "code",
   "execution_count": 309,
   "metadata": {},
   "outputs": [],
   "source": [
    "target_list_L3 = [my_target_one, my_target_two, my_target_three, my_target_four]"
   ]
  },
  {
   "cell_type": "code",
   "execution_count": 310,
   "metadata": {},
   "outputs": [
    {
     "data": {
      "image/png": "[encoded data removed]",
      "text/plain": [
       "<Figure size 432x288 with 1 Axes>"
      ]
     },
     "metadata": {
      "needs_background": "light"
     },
     "output_type": "display_data"
    }
   ],
   "source": [
    "plot_airmass(my_target_one, hija_cafe, my_time_grid_hija);"
   ]
  },
  {
   "cell_type": "code",
   "execution_count": 311,
   "metadata": {},
   "outputs": [
    {
     "data": {
      "image/png": "[encoded data removed]",
      "text/plain": [
       "<Figure size 432x288 with 1 Axes>"
      ]
     },
     "metadata": {
      "needs_background": "light"
     },
     "output_type": "display_data"
    }
   ],
   "source": [
    "plot_airmass(my_target_two, hija_cafe, my_time_grid_hija);"
   ]
  },
  {
   "cell_type": "code",
   "execution_count": 312,
   "metadata": {},
   "outputs": [
    {
     "data": {
      "image/png": "[encoded data removed]",
      "text/plain": [
       "<Figure size 432x288 with 1 Axes>"
      ]
     },
     "metadata": {
      "needs_background": "light"
     },
     "output_type": "display_data"
    }
   ],
   "source": [
    "plot_airmass(my_target_three, hija_cafe, my_time_grid_hija);"
   ]
  },
  {
   "cell_type": "code",
   "execution_count": 313,
   "metadata": {},
   "outputs": [
    {
     "data": {
      "image/png": "[encoded data removed]",
      "text/plain": [
       "<Figure size 432x288 with 1 Axes>"
      ]
     },
     "metadata": {
      "needs_background": "light"
     },
     "output_type": "display_data"
    }
   ],
   "source": [
    "plot_airmass(my_target_four, hija_cafe, my_time_grid_hija);"
   ]
  },
  {
   "cell_type": "code",
   "execution_count": 314,
   "metadata": {
    "jupyter": {
     "outputs_hidden": false
    }
   },
   "outputs": [
    {
     "data": {
      "image/png": "[encoded data removed]",
      "text/plain": [
       "<Figure size 864x432 with 1 Axes>"
      ]
     },
     "metadata": {
      "needs_background": "light"
     },
     "output_type": "display_data"
    }
   ],
   "source": [
    "# Location Three\n",
    "fig,ax = plt.subplots(1,1)\n",
    "fig.set_size_inches(12,6)\n",
    "\n",
    "fig.tight_layout()\n",
    "\n",
    "for my_object in target_list_L1:\n",
    "    ax = plot_airmass(my_object, hija_cafe, my_time_grid_hija)\n",
    "\n",
    "ax.legend(loc=0,shadow=True);\n",
    "plt.grid(True)\n",
    "plt.savefig('Location 3')"
   ]
  },
  {
   "cell_type": "markdown",
   "metadata": {},
   "source": [
    "---\n",
    "## Due Mon Feb 24 - 1 pm\n",
    "* `File -> Download as -> HTML (.html)`\n",
    "* `upload your .html file to the class Canvas page`"
   ]
  },
  {
   "cell_type": "code",
   "execution_count": null,
   "metadata": {},
   "outputs": [],
   "source": []
  },
  {
   "cell_type": "code",
   "execution_count": null,
   "metadata": {},
   "outputs": [],
   "source": []
  }
 ],
 "metadata": {
  "anaconda-cloud": {},
  "kernelspec": {
   "display_name": "Python 3",
   "language": "python",
   "name": "python3"
  },
  "language_info": {
   "codemirror_mode": {
    "name": "ipython",
    "version": 3
   },
   "file_extension": ".py",
   "mimetype": "text/x-python",
   "name": "python",
   "nbconvert_exporter": "python",
   "pygments_lexer": "ipython3",
   "version": "3.7.6"
  }
 },
 "nbformat": 4,
 "nbformat_minor": 4
}
