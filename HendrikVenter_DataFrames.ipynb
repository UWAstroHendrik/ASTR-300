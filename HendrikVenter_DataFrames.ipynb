{
 "cells": [
  {
   "cell_type": "markdown",
   "metadata": {},
   "source": [
    "## Hendrik Venter - DataFrames"
   ]
  },
  {
   "cell_type": "code",
   "execution_count": 1,
   "metadata": {
    "jupyter": {
     "outputs_hidden": false
    }
   },
   "outputs": [
    {
     "data": {
      "application/javascript": [
       "\n",
       "            setTimeout(function() {\n",
       "                var nbb_cell_id = 1;\n",
       "                var nbb_unformatted_code = \"%load_ext nb_black\\n\\n\\nimport math\\nimport pandas as pd\";\n",
       "                var nbb_formatted_code = \"%load_ext nb_black\\n\\n\\nimport math\\nimport pandas as pd\";\n",
       "                var nbb_cells = Jupyter.notebook.get_cells();\n",
       "                for (var i = 0; i < nbb_cells.length; ++i) {\n",
       "                    if (nbb_cells[i].input_prompt_number == nbb_cell_id) {\n",
       "                        if (nbb_cells[i].get_text() == nbb_unformatted_code) {\n",
       "                             nbb_cells[i].set_text(nbb_formatted_code);\n",
       "                        }\n",
       "                        break;\n",
       "                    }\n",
       "                }\n",
       "            }, 500);\n",
       "            "
      ],
      "text/plain": [
       "<IPython.core.display.Javascript object>"
      ]
     },
     "metadata": {},
     "output_type": "display_data"
    }
   ],
   "source": [
    "%load_ext nb_black\n",
    "\n",
    "\n",
    "import math\n",
    "import pandas as pd"
   ]
  },
  {
   "cell_type": "code",
   "execution_count": 2,
   "metadata": {
    "jupyter": {
     "outputs_hidden": false
    }
   },
   "outputs": [
    {
     "data": {
      "application/javascript": [
       "\n",
       "            setTimeout(function() {\n",
       "                var nbb_cell_id = 2;\n",
       "                var nbb_unformatted_code = \"star_table = pd.read_csv('./Data/NamedStars.csv')\";\n",
       "                var nbb_formatted_code = \"star_table = pd.read_csv(\\\"./Data/NamedStars.csv\\\")\";\n",
       "                var nbb_cells = Jupyter.notebook.get_cells();\n",
       "                for (var i = 0; i < nbb_cells.length; ++i) {\n",
       "                    if (nbb_cells[i].input_prompt_number == nbb_cell_id) {\n",
       "                        if (nbb_cells[i].get_text() == nbb_unformatted_code) {\n",
       "                             nbb_cells[i].set_text(nbb_formatted_code);\n",
       "                        }\n",
       "                        break;\n",
       "                    }\n",
       "                }\n",
       "            }, 500);\n",
       "            "
      ],
      "text/plain": [
       "<IPython.core.display.Javascript object>"
      ]
     },
     "metadata": {},
     "output_type": "display_data"
    }
   ],
   "source": [
    "star_table = pd.read_csv('./Data/NamedStars.csv')"
   ]
  },
  {
   "cell_type": "code",
   "execution_count": 4,
   "metadata": {
    "jupyter": {
     "outputs_hidden": false
    }
   },
   "outputs": [
    {
     "data": {
      "text/html": [
       "<div>\n",
       "<style scoped>\n",
       "    .dataframe tbody tr th:only-of-type {\n",
       "        vertical-align: middle;\n",
       "    }\n",
       "\n",
       "    .dataframe tbody tr th {\n",
       "        vertical-align: top;\n",
       "    }\n",
       "\n",
       "    .dataframe thead th {\n",
       "        text-align: right;\n",
       "    }\n",
       "</style>\n",
       "<table border=\"1\" class=\"dataframe\">\n",
       "  <thead>\n",
       "    <tr style=\"text-align: right;\">\n",
       "      <th></th>\n",
       "      <th>Name</th>\n",
       "      <th>RA</th>\n",
       "      <th>DEC</th>\n",
       "    </tr>\n",
       "  </thead>\n",
       "  <tbody>\n",
       "    <tr>\n",
       "      <th>0</th>\n",
       "      <td>Alpheratz</td>\n",
       "      <td>0.139769</td>\n",
       "      <td>29.090828</td>\n",
       "    </tr>\n",
       "    <tr>\n",
       "      <th>1</th>\n",
       "      <td>Caph</td>\n",
       "      <td>0.152803</td>\n",
       "      <td>59.150218</td>\n",
       "    </tr>\n",
       "    <tr>\n",
       "      <th>2</th>\n",
       "      <td>Algenib</td>\n",
       "      <td>0.220597</td>\n",
       "      <td>15.183616</td>\n",
       "    </tr>\n",
       "    <tr>\n",
       "      <th>3</th>\n",
       "      <td>Ankaa</td>\n",
       "      <td>0.438019</td>\n",
       "      <td>-42.305122</td>\n",
       "    </tr>\n",
       "    <tr>\n",
       "      <th>4</th>\n",
       "      <td>Shedir</td>\n",
       "      <td>0.675108</td>\n",
       "      <td>56.537409</td>\n",
       "    </tr>\n",
       "    <tr>\n",
       "      <th>...</th>\n",
       "      <td>...</td>\n",
       "      <td>...</td>\n",
       "      <td>...</td>\n",
       "    </tr>\n",
       "    <tr>\n",
       "      <th>65</th>\n",
       "      <td>Enif</td>\n",
       "      <td>21.736428</td>\n",
       "      <td>9.875008</td>\n",
       "    </tr>\n",
       "    <tr>\n",
       "      <th>66</th>\n",
       "      <td>Alnair</td>\n",
       "      <td>22.137188</td>\n",
       "      <td>-46.960616</td>\n",
       "    </tr>\n",
       "    <tr>\n",
       "      <th>67</th>\n",
       "      <td>Fomalhaut</td>\n",
       "      <td>22.960785</td>\n",
       "      <td>-29.621837</td>\n",
       "    </tr>\n",
       "    <tr>\n",
       "      <th>68</th>\n",
       "      <td>Scheat</td>\n",
       "      <td>23.062870</td>\n",
       "      <td>28.082455</td>\n",
       "    </tr>\n",
       "    <tr>\n",
       "      <th>69</th>\n",
       "      <td>Markab</td>\n",
       "      <td>23.079338</td>\n",
       "      <td>15.205368</td>\n",
       "    </tr>\n",
       "  </tbody>\n",
       "</table>\n",
       "<p>70 rows × 3 columns</p>\n",
       "</div>"
      ],
      "text/plain": [
       "         Name         RA        DEC\n",
       "0   Alpheratz   0.139769  29.090828\n",
       "1        Caph   0.152803  59.150218\n",
       "2     Algenib   0.220597  15.183616\n",
       "3       Ankaa   0.438019 -42.305122\n",
       "4      Shedir   0.675108  56.537409\n",
       "..        ...        ...        ...\n",
       "65       Enif  21.736428   9.875008\n",
       "66     Alnair  22.137188 -46.960616\n",
       "67  Fomalhaut  22.960785 -29.621837\n",
       "68     Scheat  23.062870  28.082455\n",
       "69     Markab  23.079338  15.205368\n",
       "\n",
       "[70 rows x 3 columns]"
      ]
     },
     "execution_count": 4,
     "metadata": {},
     "output_type": "execute_result"
    },
    {
     "data": {
      "application/javascript": [
       "\n",
       "            setTimeout(function() {\n",
       "                var nbb_cell_id = 4;\n",
       "                var nbb_unformatted_code = \"star_table.head(70)\";\n",
       "                var nbb_formatted_code = \"star_table.head(70)\";\n",
       "                var nbb_cells = Jupyter.notebook.get_cells();\n",
       "                for (var i = 0; i < nbb_cells.length; ++i) {\n",
       "                    if (nbb_cells[i].input_prompt_number == nbb_cell_id) {\n",
       "                        if (nbb_cells[i].get_text() == nbb_unformatted_code) {\n",
       "                             nbb_cells[i].set_text(nbb_formatted_code);\n",
       "                        }\n",
       "                        break;\n",
       "                    }\n",
       "                }\n",
       "            }, 500);\n",
       "            "
      ],
      "text/plain": [
       "<IPython.core.display.Javascript object>"
      ]
     },
     "metadata": {},
     "output_type": "display_data"
    }
   ],
   "source": [
    "star_table.head(70)"
   ]
  },
  {
   "cell_type": "markdown",
   "metadata": {},
   "source": [
    "## The `DataFrame` `star_table` has the following columns:\n",
    "\n",
    "* Name\n",
    "* RA (hours) [1 hour = 15 degrees]\n",
    "* DEC (degrees)"
   ]
  },
  {
   "cell_type": "markdown",
   "metadata": {},
   "source": [
    "---\n",
    "\n",
    "### Answer each of the following questions by applying various methods to the `star_table` DataFrame.\n",
    "\n",
    "### Try to make your use of methods clear and easy to read/follow.\n",
    "\n",
    "### Your answer should be obvious from the output of your work.\n",
    "\n",
    "---"
   ]
  },
  {
   "cell_type": "markdown",
   "metadata": {},
   "source": [
    "### How many stars are in `star_table`?"
   ]
  },
  {
   "cell_type": "code",
   "execution_count": 5,
   "metadata": {
    "jupyter": {
     "outputs_hidden": false
    }
   },
   "outputs": [
    {
     "data": {
      "text/plain": [
       "Name    70\n",
       "RA      70\n",
       "DEC     70\n",
       "dtype: int64"
      ]
     },
     "execution_count": 5,
     "metadata": {},
     "output_type": "execute_result"
    },
    {
     "data": {
      "application/javascript": [
       "\n",
       "            setTimeout(function() {\n",
       "                var nbb_cell_id = 5;\n",
       "                var nbb_unformatted_code = \"star_table.count()\";\n",
       "                var nbb_formatted_code = \"star_table.count()\";\n",
       "                var nbb_cells = Jupyter.notebook.get_cells();\n",
       "                for (var i = 0; i < nbb_cells.length; ++i) {\n",
       "                    if (nbb_cells[i].input_prompt_number == nbb_cell_id) {\n",
       "                        if (nbb_cells[i].get_text() == nbb_unformatted_code) {\n",
       "                             nbb_cells[i].set_text(nbb_formatted_code);\n",
       "                        }\n",
       "                        break;\n",
       "                    }\n",
       "                }\n",
       "            }, 500);\n",
       "            "
      ],
      "text/plain": [
       "<IPython.core.display.Javascript object>"
      ]
     },
     "metadata": {},
     "output_type": "display_data"
    }
   ],
   "source": [
    "star_table.count()"
   ]
  },
  {
   "cell_type": "code",
   "execution_count": 6,
   "metadata": {},
   "outputs": [
    {
     "name": "stdout",
     "output_type": "stream",
     "text": [
      "Number of stars: 70\n"
     ]
    },
    {
     "data": {
      "application/javascript": [
       "\n",
       "            setTimeout(function() {\n",
       "                var nbb_cell_id = 6;\n",
       "                var nbb_unformatted_code = \"print('Number of stars:',star_table['Name'].count())\";\n",
       "                var nbb_formatted_code = \"print(\\\"Number of stars:\\\", star_table[\\\"Name\\\"].count())\";\n",
       "                var nbb_cells = Jupyter.notebook.get_cells();\n",
       "                for (var i = 0; i < nbb_cells.length; ++i) {\n",
       "                    if (nbb_cells[i].input_prompt_number == nbb_cell_id) {\n",
       "                        if (nbb_cells[i].get_text() == nbb_unformatted_code) {\n",
       "                             nbb_cells[i].set_text(nbb_formatted_code);\n",
       "                        }\n",
       "                        break;\n",
       "                    }\n",
       "                }\n",
       "            }, 500);\n",
       "            "
      ],
      "text/plain": [
       "<IPython.core.display.Javascript object>"
      ]
     },
     "metadata": {},
     "output_type": "display_data"
    }
   ],
   "source": [
    "print('Number of stars:',star_table['Name'].count())"
   ]
  },
  {
   "cell_type": "markdown",
   "metadata": {},
   "source": [
    "### What fraction of stars are circumpolar as seen from the North Pole ($\\theta$ = $+$90$^{\\circ}$)?"
   ]
  },
  {
   "cell_type": "code",
   "execution_count": 7,
   "metadata": {
    "jupyter": {
     "outputs_hidden": false
    }
   },
   "outputs": [
    {
     "data": {
      "application/javascript": [
       "\n",
       "            setTimeout(function() {\n",
       "                var nbb_cell_id = 7;\n",
       "                var nbb_unformatted_code = \"circ_polar_northpole = star_table.query('DEC>90-90')['Name'].count()\\ncirc_polar_northpole_fraction = circ_polar_northpole/70\";\n",
       "                var nbb_formatted_code = \"circ_polar_northpole = star_table.query(\\\"DEC>90-90\\\")[\\\"Name\\\"].count()\\ncirc_polar_northpole_fraction = circ_polar_northpole / 70\";\n",
       "                var nbb_cells = Jupyter.notebook.get_cells();\n",
       "                for (var i = 0; i < nbb_cells.length; ++i) {\n",
       "                    if (nbb_cells[i].input_prompt_number == nbb_cell_id) {\n",
       "                        if (nbb_cells[i].get_text() == nbb_unformatted_code) {\n",
       "                             nbb_cells[i].set_text(nbb_formatted_code);\n",
       "                        }\n",
       "                        break;\n",
       "                    }\n",
       "                }\n",
       "            }, 500);\n",
       "            "
      ],
      "text/plain": [
       "<IPython.core.display.Javascript object>"
      ]
     },
     "metadata": {},
     "output_type": "display_data"
    }
   ],
   "source": [
    "circ_polar_northpole = star_table.query('DEC>90-90')['Name'].count()\n",
    "circ_polar_northpole_fraction = circ_polar_northpole/70"
   ]
  },
  {
   "cell_type": "code",
   "execution_count": 8,
   "metadata": {
    "jupyter": {
     "outputs_hidden": false
    }
   },
   "outputs": [
    {
     "name": "stdout",
     "output_type": "stream",
     "text": [
      "0.6571428571428571\n"
     ]
    },
    {
     "data": {
      "application/javascript": [
       "\n",
       "            setTimeout(function() {\n",
       "                var nbb_cell_id = 8;\n",
       "                var nbb_unformatted_code = \"print(circ_polar_northpole_fraction)\";\n",
       "                var nbb_formatted_code = \"print(circ_polar_northpole_fraction)\";\n",
       "                var nbb_cells = Jupyter.notebook.get_cells();\n",
       "                for (var i = 0; i < nbb_cells.length; ++i) {\n",
       "                    if (nbb_cells[i].input_prompt_number == nbb_cell_id) {\n",
       "                        if (nbb_cells[i].get_text() == nbb_unformatted_code) {\n",
       "                             nbb_cells[i].set_text(nbb_formatted_code);\n",
       "                        }\n",
       "                        break;\n",
       "                    }\n",
       "                }\n",
       "            }, 500);\n",
       "            "
      ],
      "text/plain": [
       "<IPython.core.display.Javascript object>"
      ]
     },
     "metadata": {},
     "output_type": "display_data"
    }
   ],
   "source": [
    "print(circ_polar_northpole_fraction)"
   ]
  },
  {
   "cell_type": "markdown",
   "metadata": {},
   "source": [
    "### What fraction of stars are never seen from Quito, Ecuador ($\\theta$ = $-$0.2$^{\\circ}$)?"
   ]
  },
  {
   "cell_type": "code",
   "execution_count": 9,
   "metadata": {
    "jupyter": {
     "outputs_hidden": false
    }
   },
   "outputs": [
    {
     "data": {
      "application/javascript": [
       "\n",
       "            setTimeout(function() {\n",
       "                var nbb_cell_id = 9;\n",
       "                var nbb_unformatted_code = \"stars_nul_visible_Quito_Ecuador = star_table.query('DEC > 90+(-0.2)')['Name'].count()\\nstars_nul_visible_Quito_Ecuador_fraction = stars_nul_visible_Quito_Ecuador/70\";\n",
       "                var nbb_formatted_code = \"stars_nul_visible_Quito_Ecuador = star_table.query(\\\"DEC > 90+(-0.2)\\\")[\\\"Name\\\"].count()\\nstars_nul_visible_Quito_Ecuador_fraction = stars_nul_visible_Quito_Ecuador / 70\";\n",
       "                var nbb_cells = Jupyter.notebook.get_cells();\n",
       "                for (var i = 0; i < nbb_cells.length; ++i) {\n",
       "                    if (nbb_cells[i].input_prompt_number == nbb_cell_id) {\n",
       "                        if (nbb_cells[i].get_text() == nbb_unformatted_code) {\n",
       "                             nbb_cells[i].set_text(nbb_formatted_code);\n",
       "                        }\n",
       "                        break;\n",
       "                    }\n",
       "                }\n",
       "            }, 500);\n",
       "            "
      ],
      "text/plain": [
       "<IPython.core.display.Javascript object>"
      ]
     },
     "metadata": {},
     "output_type": "display_data"
    }
   ],
   "source": [
    "stars_nul_visible_Quito_Ecuador = star_table.query('DEC > 90+(-0.2)')['Name'].count()\n",
    "stars_nul_visible_Quito_Ecuador_fraction = stars_nul_visible_Quito_Ecuador/70"
   ]
  },
  {
   "cell_type": "code",
   "execution_count": 10,
   "metadata": {
    "jupyter": {
     "outputs_hidden": false
    }
   },
   "outputs": [
    {
     "name": "stdout",
     "output_type": "stream",
     "text": [
      "Fraction: 0.0\n"
     ]
    },
    {
     "data": {
      "application/javascript": [
       "\n",
       "            setTimeout(function() {\n",
       "                var nbb_cell_id = 10;\n",
       "                var nbb_unformatted_code = \"print(\\\"Fraction:\\\", stars_nul_visible_Quito_Ecuador_fraction)\";\n",
       "                var nbb_formatted_code = \"print(\\\"Fraction:\\\", stars_nul_visible_Quito_Ecuador_fraction)\";\n",
       "                var nbb_cells = Jupyter.notebook.get_cells();\n",
       "                for (var i = 0; i < nbb_cells.length; ++i) {\n",
       "                    if (nbb_cells[i].input_prompt_number == nbb_cell_id) {\n",
       "                        if (nbb_cells[i].get_text() == nbb_unformatted_code) {\n",
       "                             nbb_cells[i].set_text(nbb_formatted_code);\n",
       "                        }\n",
       "                        break;\n",
       "                    }\n",
       "                }\n",
       "            }, 500);\n",
       "            "
      ],
      "text/plain": [
       "<IPython.core.display.Javascript object>"
      ]
     },
     "metadata": {},
     "output_type": "display_data"
    }
   ],
   "source": [
    "print(\"Fraction:\", stars_nul_visible_Quito_Ecuador_fraction)"
   ]
  },
  {
   "cell_type": "markdown",
   "metadata": {},
   "source": [
    "### What fraction of stars are circumpolar as seen from Mount Cook, New Zealand ($\\theta$ = $-$43.6$^{\\circ}$)?"
   ]
  },
  {
   "cell_type": "code",
   "execution_count": 11,
   "metadata": {
    "jupyter": {
     "outputs_hidden": false
    }
   },
   "outputs": [
    {
     "data": {
      "application/javascript": [
       "\n",
       "            setTimeout(function() {\n",
       "                var nbb_cell_id = 11;\n",
       "                var nbb_unformatted_code = \"circ_polar_MtCook_NewZealand = star_table.query('DEC <-90-(-43.6)')['Name'].count()\\ncirc_polar_MtCook_NewZealand_fraction = circ_polar_MtCook_NewZealand/70\";\n",
       "                var nbb_formatted_code = \"circ_polar_MtCook_NewZealand = star_table.query(\\\"DEC <-90-(-43.6)\\\")[\\\"Name\\\"].count()\\ncirc_polar_MtCook_NewZealand_fraction = circ_polar_MtCook_NewZealand / 70\";\n",
       "                var nbb_cells = Jupyter.notebook.get_cells();\n",
       "                for (var i = 0; i < nbb_cells.length; ++i) {\n",
       "                    if (nbb_cells[i].input_prompt_number == nbb_cell_id) {\n",
       "                        if (nbb_cells[i].get_text() == nbb_unformatted_code) {\n",
       "                             nbb_cells[i].set_text(nbb_formatted_code);\n",
       "                        }\n",
       "                        break;\n",
       "                    }\n",
       "                }\n",
       "            }, 500);\n",
       "            "
      ],
      "text/plain": [
       "<IPython.core.display.Javascript object>"
      ]
     },
     "metadata": {},
     "output_type": "display_data"
    }
   ],
   "source": [
    "circ_polar_MtCook_NewZealand = star_table.query('DEC <-90-(-43.6)')['Name'].count()\n",
    "circ_polar_MtCook_NewZealand_fraction = circ_polar_MtCook_NewZealand/70"
   ]
  },
  {
   "cell_type": "code",
   "execution_count": 12,
   "metadata": {},
   "outputs": [
    {
     "name": "stdout",
     "output_type": "stream",
     "text": [
      "7\n"
     ]
    },
    {
     "data": {
      "application/javascript": [
       "\n",
       "            setTimeout(function() {\n",
       "                var nbb_cell_id = 12;\n",
       "                var nbb_unformatted_code = \"print(circ_polar_MtCook_NewZealand)\";\n",
       "                var nbb_formatted_code = \"print(circ_polar_MtCook_NewZealand)\";\n",
       "                var nbb_cells = Jupyter.notebook.get_cells();\n",
       "                for (var i = 0; i < nbb_cells.length; ++i) {\n",
       "                    if (nbb_cells[i].input_prompt_number == nbb_cell_id) {\n",
       "                        if (nbb_cells[i].get_text() == nbb_unformatted_code) {\n",
       "                             nbb_cells[i].set_text(nbb_formatted_code);\n",
       "                        }\n",
       "                        break;\n",
       "                    }\n",
       "                }\n",
       "            }, 500);\n",
       "            "
      ],
      "text/plain": [
       "<IPython.core.display.Javascript object>"
      ]
     },
     "metadata": {},
     "output_type": "display_data"
    }
   ],
   "source": [
    "print(circ_polar_MtCook_NewZealand)"
   ]
  },
  {
   "cell_type": "code",
   "execution_count": 13,
   "metadata": {
    "jupyter": {
     "outputs_hidden": false
    }
   },
   "outputs": [
    {
     "name": "stdout",
     "output_type": "stream",
     "text": [
      "Fraction: 0.1\n"
     ]
    },
    {
     "data": {
      "application/javascript": [
       "\n",
       "            setTimeout(function() {\n",
       "                var nbb_cell_id = 13;\n",
       "                var nbb_unformatted_code = \"print(\\\"Fraction:\\\",circ_polar_MtCook_NewZealand_fraction)\";\n",
       "                var nbb_formatted_code = \"print(\\\"Fraction:\\\", circ_polar_MtCook_NewZealand_fraction)\";\n",
       "                var nbb_cells = Jupyter.notebook.get_cells();\n",
       "                for (var i = 0; i < nbb_cells.length; ++i) {\n",
       "                    if (nbb_cells[i].input_prompt_number == nbb_cell_id) {\n",
       "                        if (nbb_cells[i].get_text() == nbb_unformatted_code) {\n",
       "                             nbb_cells[i].set_text(nbb_formatted_code);\n",
       "                        }\n",
       "                        break;\n",
       "                    }\n",
       "                }\n",
       "            }, 500);\n",
       "            "
      ],
      "text/plain": [
       "<IPython.core.display.Javascript object>"
      ]
     },
     "metadata": {},
     "output_type": "display_data"
    }
   ],
   "source": [
    "print(\"Fraction:\",circ_polar_MtCook_NewZealand_fraction)"
   ]
  },
  {
   "cell_type": "markdown",
   "metadata": {},
   "source": [
    "### What star is closest to the Sun on the Vernal Equinox?"
   ]
  },
  {
   "cell_type": "code",
   "execution_count": 14,
   "metadata": {
    "jupyter": {
     "outputs_hidden": false
    }
   },
   "outputs": [
    {
     "data": {
      "application/javascript": [
       "\n",
       "            setTimeout(function() {\n",
       "                var nbb_cell_id = 14;\n",
       "                var nbb_unformatted_code = \"star_closest_to_sun_vernal_equinox = star_table.query('-5 < RA < 5 and -30 < DEC < 30')\";\n",
       "                var nbb_formatted_code = \"star_closest_to_sun_vernal_equinox = star_table.query(\\\"-5 < RA < 5 and -30 < DEC < 30\\\")\";\n",
       "                var nbb_cells = Jupyter.notebook.get_cells();\n",
       "                for (var i = 0; i < nbb_cells.length; ++i) {\n",
       "                    if (nbb_cells[i].input_prompt_number == nbb_cell_id) {\n",
       "                        if (nbb_cells[i].get_text() == nbb_unformatted_code) {\n",
       "                             nbb_cells[i].set_text(nbb_formatted_code);\n",
       "                        }\n",
       "                        break;\n",
       "                    }\n",
       "                }\n",
       "            }, 500);\n",
       "            "
      ],
      "text/plain": [
       "<IPython.core.display.Javascript object>"
      ]
     },
     "metadata": {},
     "output_type": "display_data"
    }
   ],
   "source": [
    "star_closest_to_sun_vernal_equinox = star_table.query('-5 < RA < 5 and -30 < DEC < 30')"
   ]
  },
  {
   "cell_type": "code",
   "execution_count": 15,
   "metadata": {
    "jupyter": {
     "outputs_hidden": false
    }
   },
   "outputs": [
    {
     "data": {
      "text/html": [
       "<div>\n",
       "<style scoped>\n",
       "    .dataframe tbody tr th:only-of-type {\n",
       "        vertical-align: middle;\n",
       "    }\n",
       "\n",
       "    .dataframe tbody tr th {\n",
       "        vertical-align: top;\n",
       "    }\n",
       "\n",
       "    .dataframe thead th {\n",
       "        text-align: right;\n",
       "    }\n",
       "</style>\n",
       "<table border=\"1\" class=\"dataframe\">\n",
       "  <thead>\n",
       "    <tr style=\"text-align: right;\">\n",
       "      <th></th>\n",
       "      <th>Name</th>\n",
       "      <th>RA</th>\n",
       "      <th>DEC</th>\n",
       "    </tr>\n",
       "  </thead>\n",
       "  <tbody>\n",
       "    <tr>\n",
       "      <th>0</th>\n",
       "      <td>Alpheratz</td>\n",
       "      <td>0.139769</td>\n",
       "      <td>29.090828</td>\n",
       "    </tr>\n",
       "    <tr>\n",
       "      <th>2</th>\n",
       "      <td>Algenib</td>\n",
       "      <td>0.220597</td>\n",
       "      <td>15.183616</td>\n",
       "    </tr>\n",
       "    <tr>\n",
       "      <th>5</th>\n",
       "      <td>Diphda</td>\n",
       "      <td>0.726452</td>\n",
       "      <td>-17.986684</td>\n",
       "    </tr>\n",
       "    <tr>\n",
       "      <th>8</th>\n",
       "      <td>Hamal</td>\n",
       "      <td>2.119524</td>\n",
       "      <td>23.462777</td>\n",
       "    </tr>\n",
       "    <tr>\n",
       "      <th>10</th>\n",
       "      <td>Menkar</td>\n",
       "      <td>3.037994</td>\n",
       "      <td>4.089925</td>\n",
       "    </tr>\n",
       "    <tr>\n",
       "      <th>13</th>\n",
       "      <td>Alcyone</td>\n",
       "      <td>3.791407</td>\n",
       "      <td>24.105242</td>\n",
       "    </tr>\n",
       "    <tr>\n",
       "      <th>14</th>\n",
       "      <td>Aldebaran</td>\n",
       "      <td>4.598667</td>\n",
       "      <td>16.509762</td>\n",
       "    </tr>\n",
       "  </tbody>\n",
       "</table>\n",
       "</div>"
      ],
      "text/plain": [
       "         Name        RA        DEC\n",
       "0   Alpheratz  0.139769  29.090828\n",
       "2     Algenib  0.220597  15.183616\n",
       "5      Diphda  0.726452 -17.986684\n",
       "8       Hamal  2.119524  23.462777\n",
       "10     Menkar  3.037994   4.089925\n",
       "13    Alcyone  3.791407  24.105242\n",
       "14  Aldebaran  4.598667  16.509762"
      ]
     },
     "execution_count": 15,
     "metadata": {},
     "output_type": "execute_result"
    },
    {
     "data": {
      "application/javascript": [
       "\n",
       "            setTimeout(function() {\n",
       "                var nbb_cell_id = 15;\n",
       "                var nbb_unformatted_code = \"star_closest_to_sun_vernal_equinox\";\n",
       "                var nbb_formatted_code = \"star_closest_to_sun_vernal_equinox\";\n",
       "                var nbb_cells = Jupyter.notebook.get_cells();\n",
       "                for (var i = 0; i < nbb_cells.length; ++i) {\n",
       "                    if (nbb_cells[i].input_prompt_number == nbb_cell_id) {\n",
       "                        if (nbb_cells[i].get_text() == nbb_unformatted_code) {\n",
       "                             nbb_cells[i].set_text(nbb_formatted_code);\n",
       "                        }\n",
       "                        break;\n",
       "                    }\n",
       "                }\n",
       "            }, 500);\n",
       "            "
      ],
      "text/plain": [
       "<IPython.core.display.Javascript object>"
      ]
     },
     "metadata": {},
     "output_type": "display_data"
    }
   ],
   "source": [
    "star_closest_to_sun_vernal_equinox"
   ]
  },
  {
   "cell_type": "code",
   "execution_count": 16,
   "metadata": {},
   "outputs": [
    {
     "data": {
      "application/javascript": [
       "\n",
       "            setTimeout(function() {\n",
       "                var nbb_cell_id = 16;\n",
       "                var nbb_unformatted_code = \"#Take the stars from above, and assign RA and DEC variables for them all\\n#Index [0,2,5,8,10,13,14] -> [0,1,2,3,4,5,6]\\nRA0 = star_table['RA'][0]\\nDEC0 = star_table['DEC'][0]\\n\\nRA1 = star_table['RA'][2]\\nDEC1 = star_table['DEC'][2]\\n\\nRA2 = star_table['RA'][5]\\nDEC2 = star_table['DEC'][5]\\n\\nRA3 = star_table['RA'][8]\\nDEC3 = star_table['DEC'][8]\\n\\nRA4 = star_table['RA'][10]\\nDEC4 = star_table['DEC'][10]\\n\\nRA5 = star_table['RA'][13]\\nDEC5 = star_table['DEC'][13]\\n\\nRA6 = star_table['RA'][14]\\nDEC6 = star_table['DEC'][14]\";\n",
       "                var nbb_formatted_code = \"# Take the stars from above, and assign RA and DEC variables for them all\\n# Index [0,2,5,8,10,13,14] -> [0,1,2,3,4,5,6]\\nRA0 = star_table[\\\"RA\\\"][0]\\nDEC0 = star_table[\\\"DEC\\\"][0]\\n\\nRA1 = star_table[\\\"RA\\\"][2]\\nDEC1 = star_table[\\\"DEC\\\"][2]\\n\\nRA2 = star_table[\\\"RA\\\"][5]\\nDEC2 = star_table[\\\"DEC\\\"][5]\\n\\nRA3 = star_table[\\\"RA\\\"][8]\\nDEC3 = star_table[\\\"DEC\\\"][8]\\n\\nRA4 = star_table[\\\"RA\\\"][10]\\nDEC4 = star_table[\\\"DEC\\\"][10]\\n\\nRA5 = star_table[\\\"RA\\\"][13]\\nDEC5 = star_table[\\\"DEC\\\"][13]\\n\\nRA6 = star_table[\\\"RA\\\"][14]\\nDEC6 = star_table[\\\"DEC\\\"][14]\";\n",
       "                var nbb_cells = Jupyter.notebook.get_cells();\n",
       "                for (var i = 0; i < nbb_cells.length; ++i) {\n",
       "                    if (nbb_cells[i].input_prompt_number == nbb_cell_id) {\n",
       "                        if (nbb_cells[i].get_text() == nbb_unformatted_code) {\n",
       "                             nbb_cells[i].set_text(nbb_formatted_code);\n",
       "                        }\n",
       "                        break;\n",
       "                    }\n",
       "                }\n",
       "            }, 500);\n",
       "            "
      ],
      "text/plain": [
       "<IPython.core.display.Javascript object>"
      ]
     },
     "metadata": {},
     "output_type": "display_data"
    }
   ],
   "source": [
    "#Take the stars from above, and assign RA and DEC variables for them all\n",
    "#Index [0,2,5,8,10,13,14] -> [0,1,2,3,4,5,6]\n",
    "RA0 = star_table['RA'][0]\n",
    "DEC0 = star_table['DEC'][0]\n",
    "\n",
    "RA1 = star_table['RA'][2]\n",
    "DEC1 = star_table['DEC'][2]\n",
    "\n",
    "RA2 = star_table['RA'][5]\n",
    "DEC2 = star_table['DEC'][5]\n",
    "\n",
    "RA3 = star_table['RA'][8]\n",
    "DEC3 = star_table['DEC'][8]\n",
    "\n",
    "RA4 = star_table['RA'][10]\n",
    "DEC4 = star_table['DEC'][10]\n",
    "\n",
    "RA5 = star_table['RA'][13]\n",
    "DEC5 = star_table['DEC'][13]\n",
    "\n",
    "RA6 = star_table['RA'][14]\n",
    "DEC6 = star_table['DEC'][14]"
   ]
  },
  {
   "cell_type": "code",
   "execution_count": 17,
   "metadata": {},
   "outputs": [
    {
     "name": "stdout",
     "output_type": "stream",
     "text": [
      "RA0: 0.13976888 DEC0: 29.09082805\n",
      "RA1: 0.22059721 DEC1: 15.18361593\n",
      "RA2: 0.7264523  DEC2: -17.9866841\n",
      "RA3: 2.11952383 DEC3: 23.46277743\n",
      "RA4: 3.03799418 DEC4: 4.08992539\n",
      "RA5: 3.79140671 DEC5: 24.10524193\n",
      "RA6: 4.59866679 DEC6: 16.50976164\n"
     ]
    },
    {
     "data": {
      "application/javascript": [
       "\n",
       "            setTimeout(function() {\n",
       "                var nbb_cell_id = 17;\n",
       "                var nbb_unformatted_code = \"print('RA0:',RA0,'DEC0:',DEC0)\\nprint('RA1:',RA1,'DEC1:',DEC1)\\nprint('RA2:',RA2,' DEC2:',DEC2)\\nprint('RA3:',RA3,'DEC3:',DEC3)\\nprint('RA4:',RA4,'DEC4:',DEC4)\\nprint('RA5:',RA5,'DEC5:',DEC5)\\nprint('RA6:',RA6,'DEC6:',DEC6)\";\n",
       "                var nbb_formatted_code = \"print(\\\"RA0:\\\", RA0, \\\"DEC0:\\\", DEC0)\\nprint(\\\"RA1:\\\", RA1, \\\"DEC1:\\\", DEC1)\\nprint(\\\"RA2:\\\", RA2, \\\" DEC2:\\\", DEC2)\\nprint(\\\"RA3:\\\", RA3, \\\"DEC3:\\\", DEC3)\\nprint(\\\"RA4:\\\", RA4, \\\"DEC4:\\\", DEC4)\\nprint(\\\"RA5:\\\", RA5, \\\"DEC5:\\\", DEC5)\\nprint(\\\"RA6:\\\", RA6, \\\"DEC6:\\\", DEC6)\";\n",
       "                var nbb_cells = Jupyter.notebook.get_cells();\n",
       "                for (var i = 0; i < nbb_cells.length; ++i) {\n",
       "                    if (nbb_cells[i].input_prompt_number == nbb_cell_id) {\n",
       "                        if (nbb_cells[i].get_text() == nbb_unformatted_code) {\n",
       "                             nbb_cells[i].set_text(nbb_formatted_code);\n",
       "                        }\n",
       "                        break;\n",
       "                    }\n",
       "                }\n",
       "            }, 500);\n",
       "            "
      ],
      "text/plain": [
       "<IPython.core.display.Javascript object>"
      ]
     },
     "metadata": {},
     "output_type": "display_data"
    }
   ],
   "source": [
    "print('RA0:',RA0,'DEC0:',DEC0)\n",
    "print('RA1:',RA1,'DEC1:',DEC1)\n",
    "print('RA2:',RA2,' DEC2:',DEC2)\n",
    "print('RA3:',RA3,'DEC3:',DEC3)\n",
    "print('RA4:',RA4,'DEC4:',DEC4)\n",
    "print('RA5:',RA5,'DEC5:',DEC5)\n",
    "print('RA6:',RA6,'DEC6:',DEC6)"
   ]
  },
  {
   "cell_type": "code",
   "execution_count": 18,
   "metadata": {},
   "outputs": [
    {
     "data": {
      "application/javascript": [
       "\n",
       "            setTimeout(function() {\n",
       "                var nbb_cell_id = 18;\n",
       "                var nbb_unformatted_code = \"#Function calculates the apparent distance between a star and the sun at the vernal equinox using each stars RA & DEC\\ndef calc_distance_vernal_equinox(RA,DEC):\\n    apparent_distance = math.sqrt((RA*15)**2+(DEC)**2) #Convert RA to degrees (multiply by 15) and use pythagorean theorem to get app distance #Vernal equinox: RA:0h DEC:0 degrees\\n    return apparent_distance\";\n",
       "                var nbb_formatted_code = \"# Function calculates the apparent distance between a star and the sun at the vernal equinox using each stars RA & DEC\\ndef calc_distance_vernal_equinox(RA, DEC):\\n    apparent_distance = math.sqrt(\\n        (RA * 15) ** 2 + (DEC) ** 2\\n    )  # Convert RA to degrees (multiply by 15) and use pythagorean theorem to get app distance #Vernal equinox: RA:0h DEC:0 degrees\\n    return apparent_distance\";\n",
       "                var nbb_cells = Jupyter.notebook.get_cells();\n",
       "                for (var i = 0; i < nbb_cells.length; ++i) {\n",
       "                    if (nbb_cells[i].input_prompt_number == nbb_cell_id) {\n",
       "                        if (nbb_cells[i].get_text() == nbb_unformatted_code) {\n",
       "                             nbb_cells[i].set_text(nbb_formatted_code);\n",
       "                        }\n",
       "                        break;\n",
       "                    }\n",
       "                }\n",
       "            }, 500);\n",
       "            "
      ],
      "text/plain": [
       "<IPython.core.display.Javascript object>"
      ]
     },
     "metadata": {},
     "output_type": "display_data"
    }
   ],
   "source": [
    "#Function calculates the apparent distance between a star and the sun at the vernal equinox using each stars RA & DEC\n",
    "def calc_distance_vernal_equinox(RA,DEC):\n",
    "    apparent_distance = math.sqrt((RA*15)**2+(DEC)**2) #Convert RA to degrees (multiply by 15) and use pythagorean theorem to get app distance #Vernal equinox: RA:0h DEC:0 degrees\n",
    "    return apparent_distance"
   ]
  },
  {
   "cell_type": "code",
   "execution_count": 21,
   "metadata": {},
   "outputs": [
    {
     "name": "stdout",
     "output_type": "stream",
     "text": [
      "(29.166277240905618, 15.539993460365459, 21.029995657456354, 39.513133380760095, 45.75308113320225, 61.7688010054126, 70.92822347017878)\n"
     ]
    },
    {
     "data": {
      "application/javascript": [
       "\n",
       "            setTimeout(function() {\n",
       "                var nbb_cell_id = 21;\n",
       "                var nbb_unformatted_code = \"distance_array_vernal_equinox = (calc_distance_vernal_equinox(RA0,DEC0), #Create an array of the apparent distances\\n                                 calc_distance_vernal_equinox(RA1,DEC1),\\n                                 calc_distance_vernal_equinox(RA2,DEC2),\\n                                 calc_distance_vernal_equinox(RA3,DEC3),\\n                                 calc_distance_vernal_equinox(RA4,DEC4),\\n                                 calc_distance_vernal_equinox(RA5,DEC5),\\n                                 calc_distance_vernal_equinox(RA6,DEC6))\\nprint(distance_array_vernal_equinox) #Print array of apparent distances\";\n",
       "                var nbb_formatted_code = \"distance_array_vernal_equinox = (\\n    calc_distance_vernal_equinox(\\n        RA0, DEC0\\n    ),  # Create an array of the apparent distances\\n    calc_distance_vernal_equinox(RA1, DEC1),\\n    calc_distance_vernal_equinox(RA2, DEC2),\\n    calc_distance_vernal_equinox(RA3, DEC3),\\n    calc_distance_vernal_equinox(RA4, DEC4),\\n    calc_distance_vernal_equinox(RA5, DEC5),\\n    calc_distance_vernal_equinox(RA6, DEC6),\\n)\\nprint(distance_array_vernal_equinox)  # Print array of apparent distances\";\n",
       "                var nbb_cells = Jupyter.notebook.get_cells();\n",
       "                for (var i = 0; i < nbb_cells.length; ++i) {\n",
       "                    if (nbb_cells[i].input_prompt_number == nbb_cell_id) {\n",
       "                        if (nbb_cells[i].get_text() == nbb_unformatted_code) {\n",
       "                             nbb_cells[i].set_text(nbb_formatted_code);\n",
       "                        }\n",
       "                        break;\n",
       "                    }\n",
       "                }\n",
       "            }, 500);\n",
       "            "
      ],
      "text/plain": [
       "<IPython.core.display.Javascript object>"
      ]
     },
     "metadata": {},
     "output_type": "display_data"
    }
   ],
   "source": [
    "distance_array_vernal_equinox = (calc_distance_vernal_equinox(RA0,DEC0), #Create an array of the apparent distances\n",
    "                                 calc_distance_vernal_equinox(RA1,DEC1),\n",
    "                                 calc_distance_vernal_equinox(RA2,DEC2),\n",
    "                                 calc_distance_vernal_equinox(RA3,DEC3),\n",
    "                                 calc_distance_vernal_equinox(RA4,DEC4),\n",
    "                                 calc_distance_vernal_equinox(RA5,DEC5),\n",
    "                                 calc_distance_vernal_equinox(RA6,DEC6))\n",
    "print(distance_array_vernal_equinox) #Print array of apparent distances"
   ]
  },
  {
   "cell_type": "code",
   "execution_count": 22,
   "metadata": {},
   "outputs": [
    {
     "data": {
      "application/javascript": [
       "\n",
       "            setTimeout(function() {\n",
       "                var nbb_cell_id = 22;\n",
       "                var nbb_unformatted_code = \"distance_dataframe_vernal_equinox = pd.DataFrame({'Name':star_closest_to_sun_vernal_equinox['Name'],'Distance':distance_array_vernal_equinox}) #Convert array to a dataframe\";\n",
       "                var nbb_formatted_code = \"distance_dataframe_vernal_equinox = pd.DataFrame(\\n    {\\n        \\\"Name\\\": star_closest_to_sun_vernal_equinox[\\\"Name\\\"],\\n        \\\"Distance\\\": distance_array_vernal_equinox,\\n    }\\n)  # Convert array to a dataframe\";\n",
       "                var nbb_cells = Jupyter.notebook.get_cells();\n",
       "                for (var i = 0; i < nbb_cells.length; ++i) {\n",
       "                    if (nbb_cells[i].input_prompt_number == nbb_cell_id) {\n",
       "                        if (nbb_cells[i].get_text() == nbb_unformatted_code) {\n",
       "                             nbb_cells[i].set_text(nbb_formatted_code);\n",
       "                        }\n",
       "                        break;\n",
       "                    }\n",
       "                }\n",
       "            }, 500);\n",
       "            "
      ],
      "text/plain": [
       "<IPython.core.display.Javascript object>"
      ]
     },
     "metadata": {},
     "output_type": "display_data"
    }
   ],
   "source": [
    "distance_dataframe_vernal_equinox = pd.DataFrame({'Name':star_closest_to_sun_vernal_equinox['Name'],'Distance':distance_array_vernal_equinox}) #Convert array to a dataframe"
   ]
  },
  {
   "cell_type": "code",
   "execution_count": 23,
   "metadata": {},
   "outputs": [
    {
     "data": {
      "text/html": [
       "<div>\n",
       "<style scoped>\n",
       "    .dataframe tbody tr th:only-of-type {\n",
       "        vertical-align: middle;\n",
       "    }\n",
       "\n",
       "    .dataframe tbody tr th {\n",
       "        vertical-align: top;\n",
       "    }\n",
       "\n",
       "    .dataframe thead th {\n",
       "        text-align: right;\n",
       "    }\n",
       "</style>\n",
       "<table border=\"1\" class=\"dataframe\">\n",
       "  <thead>\n",
       "    <tr style=\"text-align: right;\">\n",
       "      <th></th>\n",
       "      <th>Name</th>\n",
       "      <th>Distance</th>\n",
       "    </tr>\n",
       "  </thead>\n",
       "  <tbody>\n",
       "    <tr>\n",
       "      <th>0</th>\n",
       "      <td>Alpheratz</td>\n",
       "      <td>29.166277</td>\n",
       "    </tr>\n",
       "    <tr>\n",
       "      <th>2</th>\n",
       "      <td>Algenib</td>\n",
       "      <td>15.539993</td>\n",
       "    </tr>\n",
       "    <tr>\n",
       "      <th>5</th>\n",
       "      <td>Diphda</td>\n",
       "      <td>21.029996</td>\n",
       "    </tr>\n",
       "    <tr>\n",
       "      <th>8</th>\n",
       "      <td>Hamal</td>\n",
       "      <td>39.513133</td>\n",
       "    </tr>\n",
       "    <tr>\n",
       "      <th>10</th>\n",
       "      <td>Menkar</td>\n",
       "      <td>45.753081</td>\n",
       "    </tr>\n",
       "    <tr>\n",
       "      <th>13</th>\n",
       "      <td>Alcyone</td>\n",
       "      <td>61.768801</td>\n",
       "    </tr>\n",
       "    <tr>\n",
       "      <th>14</th>\n",
       "      <td>Aldebaran</td>\n",
       "      <td>70.928223</td>\n",
       "    </tr>\n",
       "  </tbody>\n",
       "</table>\n",
       "</div>"
      ],
      "text/plain": [
       "         Name   Distance\n",
       "0   Alpheratz  29.166277\n",
       "2     Algenib  15.539993\n",
       "5      Diphda  21.029996\n",
       "8       Hamal  39.513133\n",
       "10     Menkar  45.753081\n",
       "13    Alcyone  61.768801\n",
       "14  Aldebaran  70.928223"
      ]
     },
     "execution_count": 23,
     "metadata": {},
     "output_type": "execute_result"
    },
    {
     "data": {
      "application/javascript": [
       "\n",
       "            setTimeout(function() {\n",
       "                var nbb_cell_id = 23;\n",
       "                var nbb_unformatted_code = \"distance_dataframe_vernal_equinox #Print apparent distances (dataframe) of stars\";\n",
       "                var nbb_formatted_code = \"distance_dataframe_vernal_equinox  # Print apparent distances (dataframe) of stars\";\n",
       "                var nbb_cells = Jupyter.notebook.get_cells();\n",
       "                for (var i = 0; i < nbb_cells.length; ++i) {\n",
       "                    if (nbb_cells[i].input_prompt_number == nbb_cell_id) {\n",
       "                        if (nbb_cells[i].get_text() == nbb_unformatted_code) {\n",
       "                             nbb_cells[i].set_text(nbb_formatted_code);\n",
       "                        }\n",
       "                        break;\n",
       "                    }\n",
       "                }\n",
       "            }, 500);\n",
       "            "
      ],
      "text/plain": [
       "<IPython.core.display.Javascript object>"
      ]
     },
     "metadata": {},
     "output_type": "display_data"
    }
   ],
   "source": [
    "distance_dataframe_vernal_equinox #Print apparent distances (dataframe) of stars"
   ]
  },
  {
   "cell_type": "code",
   "execution_count": 24,
   "metadata": {},
   "outputs": [
    {
     "data": {
      "application/javascript": [
       "\n",
       "            setTimeout(function() {\n",
       "                var nbb_cell_id = 24;\n",
       "                var nbb_unformatted_code = \"minimum_idx_vernal_equinox = distance_dataframe_vernal_equinox['Distance'].idxmin() #Finding the index of the minimum distance value\";\n",
       "                var nbb_formatted_code = \"minimum_idx_vernal_equinox = distance_dataframe_vernal_equinox[\\n    \\\"Distance\\\"\\n].idxmin()  # Finding the index of the minimum distance value\";\n",
       "                var nbb_cells = Jupyter.notebook.get_cells();\n",
       "                for (var i = 0; i < nbb_cells.length; ++i) {\n",
       "                    if (nbb_cells[i].input_prompt_number == nbb_cell_id) {\n",
       "                        if (nbb_cells[i].get_text() == nbb_unformatted_code) {\n",
       "                             nbb_cells[i].set_text(nbb_formatted_code);\n",
       "                        }\n",
       "                        break;\n",
       "                    }\n",
       "                }\n",
       "            }, 500);\n",
       "            "
      ],
      "text/plain": [
       "<IPython.core.display.Javascript object>"
      ]
     },
     "metadata": {},
     "output_type": "display_data"
    }
   ],
   "source": [
    "minimum_idx_vernal_equinox = distance_dataframe_vernal_equinox['Distance'].idxmin() #Finding the index of the minimum distance value"
   ]
  },
  {
   "cell_type": "code",
   "execution_count": 25,
   "metadata": {},
   "outputs": [
    {
     "name": "stdout",
     "output_type": "stream",
     "text": [
      "Index: 2\n"
     ]
    },
    {
     "data": {
      "application/javascript": [
       "\n",
       "            setTimeout(function() {\n",
       "                var nbb_cell_id = 25;\n",
       "                var nbb_unformatted_code = \"print('Index:',minimum_idx_vernal_equinox) #Print index value\";\n",
       "                var nbb_formatted_code = \"print(\\\"Index:\\\", minimum_idx_vernal_equinox)  # Print index value\";\n",
       "                var nbb_cells = Jupyter.notebook.get_cells();\n",
       "                for (var i = 0; i < nbb_cells.length; ++i) {\n",
       "                    if (nbb_cells[i].input_prompt_number == nbb_cell_id) {\n",
       "                        if (nbb_cells[i].get_text() == nbb_unformatted_code) {\n",
       "                             nbb_cells[i].set_text(nbb_formatted_code);\n",
       "                        }\n",
       "                        break;\n",
       "                    }\n",
       "                }\n",
       "            }, 500);\n",
       "            "
      ],
      "text/plain": [
       "<IPython.core.display.Javascript object>"
      ]
     },
     "metadata": {},
     "output_type": "display_data"
    }
   ],
   "source": [
    "print('Index:',minimum_idx_vernal_equinox) #Print index value"
   ]
  },
  {
   "cell_type": "code",
   "execution_count": 26,
   "metadata": {},
   "outputs": [
    {
     "name": "stdout",
     "output_type": "stream",
     "text": [
      "Star: Algenib\n"
     ]
    },
    {
     "data": {
      "application/javascript": [
       "\n",
       "            setTimeout(function() {\n",
       "                var nbb_cell_id = 26;\n",
       "                var nbb_unformatted_code = \"print('Star:',star_table['Name'].loc[minimum_idx_vernal_equinox]) #Access the cell in the given dataframe and print the name\";\n",
       "                var nbb_formatted_code = \"print(\\n    \\\"Star:\\\", star_table[\\\"Name\\\"].loc[minimum_idx_vernal_equinox]\\n)  # Access the cell in the given dataframe and print the name\";\n",
       "                var nbb_cells = Jupyter.notebook.get_cells();\n",
       "                for (var i = 0; i < nbb_cells.length; ++i) {\n",
       "                    if (nbb_cells[i].input_prompt_number == nbb_cell_id) {\n",
       "                        if (nbb_cells[i].get_text() == nbb_unformatted_code) {\n",
       "                             nbb_cells[i].set_text(nbb_formatted_code);\n",
       "                        }\n",
       "                        break;\n",
       "                    }\n",
       "                }\n",
       "            }, 500);\n",
       "            "
      ],
      "text/plain": [
       "<IPython.core.display.Javascript object>"
      ]
     },
     "metadata": {},
     "output_type": "display_data"
    }
   ],
   "source": [
    "print('Star:',star_table['Name'].loc[minimum_idx_vernal_equinox]) #Access the cell in the given dataframe and print the name"
   ]
  },
  {
   "cell_type": "code",
   "execution_count": 27,
   "metadata": {},
   "outputs": [
    {
     "name": "stdout",
     "output_type": "stream",
     "text": [
      "Apparent Distance: 15.539993460365459\n"
     ]
    },
    {
     "data": {
      "application/javascript": [
       "\n",
       "            setTimeout(function() {\n",
       "                var nbb_cell_id = 27;\n",
       "                var nbb_unformatted_code = \"print('Apparent Distance:',distance_dataframe_vernal_equinox['Distance'].loc[minimum_idx_vernal_equinox]) #Print apparent distance in degrees\";\n",
       "                var nbb_formatted_code = \"print(\\n    \\\"Apparent Distance:\\\",\\n    distance_dataframe_vernal_equinox[\\\"Distance\\\"].loc[minimum_idx_vernal_equinox],\\n)  # Print apparent distance in degrees\";\n",
       "                var nbb_cells = Jupyter.notebook.get_cells();\n",
       "                for (var i = 0; i < nbb_cells.length; ++i) {\n",
       "                    if (nbb_cells[i].input_prompt_number == nbb_cell_id) {\n",
       "                        if (nbb_cells[i].get_text() == nbb_unformatted_code) {\n",
       "                             nbb_cells[i].set_text(nbb_formatted_code);\n",
       "                        }\n",
       "                        break;\n",
       "                    }\n",
       "                }\n",
       "            }, 500);\n",
       "            "
      ],
      "text/plain": [
       "<IPython.core.display.Javascript object>"
      ]
     },
     "metadata": {},
     "output_type": "display_data"
    }
   ],
   "source": [
    "print('Apparent Distance:',distance_dataframe_vernal_equinox['Distance'].loc[minimum_idx_vernal_equinox]) #Print apparent distance in degrees"
   ]
  },
  {
   "cell_type": "code",
   "execution_count": 28,
   "metadata": {},
   "outputs": [
    {
     "name": "stdout",
     "output_type": "stream",
     "text": [
      "Name     Algenib\n",
      "RA      0.220597\n",
      "DEC      15.1836\n",
      "Name: 2, dtype: object\n"
     ]
    },
    {
     "data": {
      "application/javascript": [
       "\n",
       "            setTimeout(function() {\n",
       "                var nbb_cell_id = 28;\n",
       "                var nbb_unformatted_code = \"print(star_table.loc[minimum_idx_vernal_equinox]) #Print data for star closest to the sun on the Vernal Equinox\";\n",
       "                var nbb_formatted_code = \"print(\\n    star_table.loc[minimum_idx_vernal_equinox]\\n)  # Print data for star closest to the sun on the Vernal Equinox\";\n",
       "                var nbb_cells = Jupyter.notebook.get_cells();\n",
       "                for (var i = 0; i < nbb_cells.length; ++i) {\n",
       "                    if (nbb_cells[i].input_prompt_number == nbb_cell_id) {\n",
       "                        if (nbb_cells[i].get_text() == nbb_unformatted_code) {\n",
       "                             nbb_cells[i].set_text(nbb_formatted_code);\n",
       "                        }\n",
       "                        break;\n",
       "                    }\n",
       "                }\n",
       "            }, 500);\n",
       "            "
      ],
      "text/plain": [
       "<IPython.core.display.Javascript object>"
      ]
     },
     "metadata": {},
     "output_type": "display_data"
    }
   ],
   "source": [
    "print(star_table.loc[minimum_idx_vernal_equinox]) #Print data for star closest to the sun on the Vernal Equinox"
   ]
  },
  {
   "cell_type": "markdown",
   "metadata": {},
   "source": [
    "### What star is closest to the Sun on the Winter Solstice?"
   ]
  },
  {
   "cell_type": "code",
   "execution_count": 29,
   "metadata": {},
   "outputs": [
    {
     "data": {
      "application/javascript": [
       "\n",
       "            setTimeout(function() {\n",
       "                var nbb_cell_id = 29;\n",
       "                var nbb_unformatted_code = \"star_closest_to_sun_winter_solstice = star_table.query('13 < RA < 23 and -53.4 < DEC < 6.6') #Winter solstice RA = 18H Dec= -23.4'\";\n",
       "                var nbb_formatted_code = \"star_closest_to_sun_winter_solstice = star_table.query(\\n    \\\"13 < RA < 23 and -53.4 < DEC < 6.6\\\"\\n)  # Winter solstice RA = 18H Dec= -23.4'\";\n",
       "                var nbb_cells = Jupyter.notebook.get_cells();\n",
       "                for (var i = 0; i < nbb_cells.length; ++i) {\n",
       "                    if (nbb_cells[i].input_prompt_number == nbb_cell_id) {\n",
       "                        if (nbb_cells[i].get_text() == nbb_unformatted_code) {\n",
       "                             nbb_cells[i].set_text(nbb_formatted_code);\n",
       "                        }\n",
       "                        break;\n",
       "                    }\n",
       "                }\n",
       "            }, 500);\n",
       "            "
      ],
      "text/plain": [
       "<IPython.core.display.Javascript object>"
      ]
     },
     "metadata": {},
     "output_type": "display_data"
    }
   ],
   "source": [
    "star_closest_to_sun_winter_solstice = star_table.query('13 < RA < 23 and -53.4 < DEC < 6.6') #Winter solstice RA = 18H Dec= -23.4'"
   ]
  },
  {
   "cell_type": "code",
   "execution_count": 30,
   "metadata": {
    "jupyter": {
     "outputs_hidden": false
    }
   },
   "outputs": [
    {
     "data": {
      "text/html": [
       "<div>\n",
       "<style scoped>\n",
       "    .dataframe tbody tr th:only-of-type {\n",
       "        vertical-align: middle;\n",
       "    }\n",
       "\n",
       "    .dataframe tbody tr th {\n",
       "        vertical-align: top;\n",
       "    }\n",
       "\n",
       "    .dataframe thead th {\n",
       "        text-align: right;\n",
       "    }\n",
       "</style>\n",
       "<table border=\"1\" class=\"dataframe\">\n",
       "  <thead>\n",
       "    <tr style=\"text-align: right;\">\n",
       "      <th></th>\n",
       "      <th>Name</th>\n",
       "      <th>RA</th>\n",
       "      <th>DEC</th>\n",
       "    </tr>\n",
       "  </thead>\n",
       "  <tbody>\n",
       "    <tr>\n",
       "      <th>43</th>\n",
       "      <td>Spica</td>\n",
       "      <td>13.419890</td>\n",
       "      <td>-11.161245</td>\n",
       "    </tr>\n",
       "    <tr>\n",
       "      <th>52</th>\n",
       "      <td>Unukalhai</td>\n",
       "      <td>15.737777</td>\n",
       "      <td>6.425520</td>\n",
       "    </tr>\n",
       "    <tr>\n",
       "      <th>53</th>\n",
       "      <td>Antares</td>\n",
       "      <td>16.490130</td>\n",
       "      <td>-26.431946</td>\n",
       "    </tr>\n",
       "    <tr>\n",
       "      <th>55</th>\n",
       "      <td>Shaula</td>\n",
       "      <td>17.560146</td>\n",
       "      <td>-37.103748</td>\n",
       "    </tr>\n",
       "    <tr>\n",
       "      <th>58</th>\n",
       "      <td>KausAustralis</td>\n",
       "      <td>18.402874</td>\n",
       "      <td>-34.384315</td>\n",
       "    </tr>\n",
       "    <tr>\n",
       "      <th>60</th>\n",
       "      <td>Nunki</td>\n",
       "      <td>18.921088</td>\n",
       "      <td>-26.296594</td>\n",
       "    </tr>\n",
       "    <tr>\n",
       "      <th>66</th>\n",
       "      <td>Alnair</td>\n",
       "      <td>22.137188</td>\n",
       "      <td>-46.960616</td>\n",
       "    </tr>\n",
       "    <tr>\n",
       "      <th>67</th>\n",
       "      <td>Fomalhaut</td>\n",
       "      <td>22.960785</td>\n",
       "      <td>-29.621837</td>\n",
       "    </tr>\n",
       "  </tbody>\n",
       "</table>\n",
       "</div>"
      ],
      "text/plain": [
       "             Name         RA        DEC\n",
       "43          Spica  13.419890 -11.161245\n",
       "52      Unukalhai  15.737777   6.425520\n",
       "53        Antares  16.490130 -26.431946\n",
       "55         Shaula  17.560146 -37.103748\n",
       "58  KausAustralis  18.402874 -34.384315\n",
       "60          Nunki  18.921088 -26.296594\n",
       "66         Alnair  22.137188 -46.960616\n",
       "67      Fomalhaut  22.960785 -29.621837"
      ]
     },
     "execution_count": 30,
     "metadata": {},
     "output_type": "execute_result"
    },
    {
     "data": {
      "application/javascript": [
       "\n",
       "            setTimeout(function() {\n",
       "                var nbb_cell_id = 30;\n",
       "                var nbb_unformatted_code = \"star_closest_to_sun_winter_solstice\";\n",
       "                var nbb_formatted_code = \"star_closest_to_sun_winter_solstice\";\n",
       "                var nbb_cells = Jupyter.notebook.get_cells();\n",
       "                for (var i = 0; i < nbb_cells.length; ++i) {\n",
       "                    if (nbb_cells[i].input_prompt_number == nbb_cell_id) {\n",
       "                        if (nbb_cells[i].get_text() == nbb_unformatted_code) {\n",
       "                             nbb_cells[i].set_text(nbb_formatted_code);\n",
       "                        }\n",
       "                        break;\n",
       "                    }\n",
       "                }\n",
       "            }, 500);\n",
       "            "
      ],
      "text/plain": [
       "<IPython.core.display.Javascript object>"
      ]
     },
     "metadata": {},
     "output_type": "display_data"
    }
   ],
   "source": [
    "star_closest_to_sun_winter_solstice"
   ]
  },
  {
   "cell_type": "code",
   "execution_count": 31,
   "metadata": {
    "jupyter": {
     "outputs_hidden": false
    }
   },
   "outputs": [
    {
     "data": {
      "application/javascript": [
       "\n",
       "            setTimeout(function() {\n",
       "                var nbb_cell_id = 31;\n",
       "                var nbb_unformatted_code = \"#Take the stars from above, and assign RA and DEC variables for them all\\n#Index [43,52,53,55,58,60,66,67] -> [7,8,9,10,11,12,13,14]\\nRA7 = star_table['RA'][43]\\nDEC7 = star_table['DEC'][43]\\n\\nRA8 = star_table['RA'][52]\\nDEC8 = star_table['DEC'][52]\\n\\nRA9 = star_table['RA'][53]\\nDEC9 = star_table['DEC'][53]\\n\\nRA10 = star_table['RA'][55]\\nDEC10 = star_table['DEC'][55]\\n\\nRA11 = star_table['RA'][58]\\nDEC11 = star_table['DEC'][58]\\n\\nRA12 = star_table['RA'][60]\\nDEC12 = star_table['DEC'][60]\\n\\nRA13 = star_table['RA'][66]\\nDEC13 = star_table['DEC'][66]\\n\\nRA14 = star_table['RA'][67]\\nDEC14 = star_table['DEC'][67]\";\n",
       "                var nbb_formatted_code = \"# Take the stars from above, and assign RA and DEC variables for them all\\n# Index [43,52,53,55,58,60,66,67] -> [7,8,9,10,11,12,13,14]\\nRA7 = star_table[\\\"RA\\\"][43]\\nDEC7 = star_table[\\\"DEC\\\"][43]\\n\\nRA8 = star_table[\\\"RA\\\"][52]\\nDEC8 = star_table[\\\"DEC\\\"][52]\\n\\nRA9 = star_table[\\\"RA\\\"][53]\\nDEC9 = star_table[\\\"DEC\\\"][53]\\n\\nRA10 = star_table[\\\"RA\\\"][55]\\nDEC10 = star_table[\\\"DEC\\\"][55]\\n\\nRA11 = star_table[\\\"RA\\\"][58]\\nDEC11 = star_table[\\\"DEC\\\"][58]\\n\\nRA12 = star_table[\\\"RA\\\"][60]\\nDEC12 = star_table[\\\"DEC\\\"][60]\\n\\nRA13 = star_table[\\\"RA\\\"][66]\\nDEC13 = star_table[\\\"DEC\\\"][66]\\n\\nRA14 = star_table[\\\"RA\\\"][67]\\nDEC14 = star_table[\\\"DEC\\\"][67]\";\n",
       "                var nbb_cells = Jupyter.notebook.get_cells();\n",
       "                for (var i = 0; i < nbb_cells.length; ++i) {\n",
       "                    if (nbb_cells[i].input_prompt_number == nbb_cell_id) {\n",
       "                        if (nbb_cells[i].get_text() == nbb_unformatted_code) {\n",
       "                             nbb_cells[i].set_text(nbb_formatted_code);\n",
       "                        }\n",
       "                        break;\n",
       "                    }\n",
       "                }\n",
       "            }, 500);\n",
       "            "
      ],
      "text/plain": [
       "<IPython.core.display.Javascript object>"
      ]
     },
     "metadata": {},
     "output_type": "display_data"
    }
   ],
   "source": [
    "#Take the stars from above, and assign RA and DEC variables for them all\n",
    "#Index [43,52,53,55,58,60,66,67] -> [7,8,9,10,11,12,13,14]\n",
    "RA7 = star_table['RA'][43]\n",
    "DEC7 = star_table['DEC'][43]\n",
    "\n",
    "RA8 = star_table['RA'][52]\n",
    "DEC8 = star_table['DEC'][52]\n",
    "\n",
    "RA9 = star_table['RA'][53]\n",
    "DEC9 = star_table['DEC'][53]\n",
    "\n",
    "RA10 = star_table['RA'][55]\n",
    "DEC10 = star_table['DEC'][55]\n",
    "\n",
    "RA11 = star_table['RA'][58]\n",
    "DEC11 = star_table['DEC'][58]\n",
    "\n",
    "RA12 = star_table['RA'][60]\n",
    "DEC12 = star_table['DEC'][60]\n",
    "\n",
    "RA13 = star_table['RA'][66]\n",
    "DEC13 = star_table['DEC'][66]\n",
    "\n",
    "RA14 = star_table['RA'][67]\n",
    "DEC14 = star_table['DEC'][67]"
   ]
  },
  {
   "cell_type": "code",
   "execution_count": 32,
   "metadata": {},
   "outputs": [
    {
     "name": "stdout",
     "output_type": "stream",
     "text": [
      "RA7: 13.41989015  DEC7: -11.16124491\n",
      "RA8: 15.7377766   DEC8: 6.42551971\n",
      "RA9: 16.49012986  DEC9: -26.43194608\n",
      "RA10: 17.56014624 DEC10: -37.10374835\n",
      "RA11: 18.40287397 DEC11: -34.3843146\n",
      "RA12: 18.92108797 DEC12: -26.29659428\n",
      "RA13: 22.13718789 DEC13: -46.96061593\n",
      "RA14: 22.96078488 DEC14: -29.62183701\n"
     ]
    },
    {
     "data": {
      "application/javascript": [
       "\n",
       "            setTimeout(function() {\n",
       "                var nbb_cell_id = 32;\n",
       "                var nbb_unformatted_code = \"print('RA7:',RA7,' DEC7:',DEC7)\\nprint('RA8:',RA8,'  DEC8:',DEC8)\\nprint('RA9:',RA9,' DEC9:',DEC9)\\nprint('RA10:',RA10,'DEC10:',DEC10)\\nprint('RA11:',RA11,'DEC11:',DEC11)\\nprint('RA12:',RA12,'DEC12:',DEC12)\\nprint('RA13:',RA13,'DEC13:',DEC13)\\nprint('RA14:',RA14,'DEC14:',DEC14)\";\n",
       "                var nbb_formatted_code = \"print(\\\"RA7:\\\", RA7, \\\" DEC7:\\\", DEC7)\\nprint(\\\"RA8:\\\", RA8, \\\"  DEC8:\\\", DEC8)\\nprint(\\\"RA9:\\\", RA9, \\\" DEC9:\\\", DEC9)\\nprint(\\\"RA10:\\\", RA10, \\\"DEC10:\\\", DEC10)\\nprint(\\\"RA11:\\\", RA11, \\\"DEC11:\\\", DEC11)\\nprint(\\\"RA12:\\\", RA12, \\\"DEC12:\\\", DEC12)\\nprint(\\\"RA13:\\\", RA13, \\\"DEC13:\\\", DEC13)\\nprint(\\\"RA14:\\\", RA14, \\\"DEC14:\\\", DEC14)\";\n",
       "                var nbb_cells = Jupyter.notebook.get_cells();\n",
       "                for (var i = 0; i < nbb_cells.length; ++i) {\n",
       "                    if (nbb_cells[i].input_prompt_number == nbb_cell_id) {\n",
       "                        if (nbb_cells[i].get_text() == nbb_unformatted_code) {\n",
       "                             nbb_cells[i].set_text(nbb_formatted_code);\n",
       "                        }\n",
       "                        break;\n",
       "                    }\n",
       "                }\n",
       "            }, 500);\n",
       "            "
      ],
      "text/plain": [
       "<IPython.core.display.Javascript object>"
      ]
     },
     "metadata": {},
     "output_type": "display_data"
    }
   ],
   "source": [
    "print('RA7:',RA7,' DEC7:',DEC7)\n",
    "print('RA8:',RA8,'  DEC8:',DEC8)\n",
    "print('RA9:',RA9,' DEC9:',DEC9)\n",
    "print('RA10:',RA10,'DEC10:',DEC10)\n",
    "print('RA11:',RA11,'DEC11:',DEC11)\n",
    "print('RA12:',RA12,'DEC12:',DEC12)\n",
    "print('RA13:',RA13,'DEC13:',DEC13)\n",
    "print('RA14:',RA14,'DEC14:',DEC14)"
   ]
  },
  {
   "cell_type": "code",
   "execution_count": 33,
   "metadata": {},
   "outputs": [
    {
     "data": {
      "application/javascript": [
       "\n",
       "            setTimeout(function() {\n",
       "                var nbb_cell_id = 33;\n",
       "                var nbb_unformatted_code = \"#Function calculates the apparent distance between a star and the sun at the winter solstice using each stars RA & DEC\\ndef calc_distance_winter_solstice(RA,DEC):\\n    apparent_distance = math.sqrt(((18*15)-RA*15)**2+(((-23.4)-DEC)**2)) #Convert RA to degrees (multiply by 15) and use pythagorean theorem to get app distance #Winter solstice: RA=18h DEC:-23.4 degrees\\n    return apparent_distance\";\n",
       "                var nbb_formatted_code = \"# Function calculates the apparent distance between a star and the sun at the winter solstice using each stars RA & DEC\\ndef calc_distance_winter_solstice(RA, DEC):\\n    apparent_distance = math.sqrt(\\n        ((18 * 15) - RA * 15) ** 2 + (((-23.4) - DEC) ** 2)\\n    )  # Convert RA to degrees (multiply by 15) and use pythagorean theorem to get app distance #Winter solstice: RA=18h DEC:-23.4 degrees\\n    return apparent_distance\";\n",
       "                var nbb_cells = Jupyter.notebook.get_cells();\n",
       "                for (var i = 0; i < nbb_cells.length; ++i) {\n",
       "                    if (nbb_cells[i].input_prompt_number == nbb_cell_id) {\n",
       "                        if (nbb_cells[i].get_text() == nbb_unformatted_code) {\n",
       "                             nbb_cells[i].set_text(nbb_formatted_code);\n",
       "                        }\n",
       "                        break;\n",
       "                    }\n",
       "                }\n",
       "            }, 500);\n",
       "            "
      ],
      "text/plain": [
       "<IPython.core.display.Javascript object>"
      ]
     },
     "metadata": {},
     "output_type": "display_data"
    }
   ],
   "source": [
    "#Function calculates the apparent distance between a star and the sun at the winter solstice using each stars RA & DEC\n",
    "def calc_distance_winter_solstice(RA,DEC):\n",
    "    apparent_distance = math.sqrt(((18*15)-RA*15)**2+(((-23.4)-DEC)**2)) #Convert RA to degrees (multiply by 15) and use pythagorean theorem to get app distance #Winter solstice: RA=18h DEC:-23.4 degrees\n",
    "    return apparent_distance"
   ]
  },
  {
   "cell_type": "code",
   "execution_count": 35,
   "metadata": {},
   "outputs": [
    {
     "name": "stdout",
     "output_type": "stream",
     "text": [
      "(69.78326109976577, 45.17780357720812, 22.85009761371583, 15.209331613585396, 12.536919089835234, 14.116690275366992, 66.3797818719116, 74.67143527847338)\n"
     ]
    },
    {
     "data": {
      "application/javascript": [
       "\n",
       "            setTimeout(function() {\n",
       "                var nbb_cell_id = 35;\n",
       "                var nbb_unformatted_code = \"distance_array_winter_solstice = (calc_distance_winter_solstice(RA7,DEC7), #Create an array of the apparent distances\\n                                  calc_distance_winter_solstice(RA8,DEC8),\\n                                  calc_distance_winter_solstice(RA9,DEC9),\\n                                  calc_distance_winter_solstice(RA10,DEC10),\\n                                  calc_distance_winter_solstice(RA11,DEC11),\\n                                  calc_distance_winter_solstice(RA12,DEC12),\\n                                  calc_distance_winter_solstice(RA13,DEC13),\\n                                  calc_distance_winter_solstice(RA14,DEC14))\\nprint(distance_array_winter_solstice) #Print array of apparent distances\";\n",
       "                var nbb_formatted_code = \"distance_array_winter_solstice = (\\n    calc_distance_winter_solstice(\\n        RA7, DEC7\\n    ),  # Create an array of the apparent distances\\n    calc_distance_winter_solstice(RA8, DEC8),\\n    calc_distance_winter_solstice(RA9, DEC9),\\n    calc_distance_winter_solstice(RA10, DEC10),\\n    calc_distance_winter_solstice(RA11, DEC11),\\n    calc_distance_winter_solstice(RA12, DEC12),\\n    calc_distance_winter_solstice(RA13, DEC13),\\n    calc_distance_winter_solstice(RA14, DEC14),\\n)\\nprint(distance_array_winter_solstice)  # Print array of apparent distances\";\n",
       "                var nbb_cells = Jupyter.notebook.get_cells();\n",
       "                for (var i = 0; i < nbb_cells.length; ++i) {\n",
       "                    if (nbb_cells[i].input_prompt_number == nbb_cell_id) {\n",
       "                        if (nbb_cells[i].get_text() == nbb_unformatted_code) {\n",
       "                             nbb_cells[i].set_text(nbb_formatted_code);\n",
       "                        }\n",
       "                        break;\n",
       "                    }\n",
       "                }\n",
       "            }, 500);\n",
       "            "
      ],
      "text/plain": [
       "<IPython.core.display.Javascript object>"
      ]
     },
     "metadata": {},
     "output_type": "display_data"
    }
   ],
   "source": [
    "distance_array_winter_solstice = (calc_distance_winter_solstice(RA7,DEC7), #Create an array of the apparent distances\n",
    "                                  calc_distance_winter_solstice(RA8,DEC8),\n",
    "                                  calc_distance_winter_solstice(RA9,DEC9),\n",
    "                                  calc_distance_winter_solstice(RA10,DEC10),\n",
    "                                  calc_distance_winter_solstice(RA11,DEC11),\n",
    "                                  calc_distance_winter_solstice(RA12,DEC12),\n",
    "                                  calc_distance_winter_solstice(RA13,DEC13),\n",
    "                                  calc_distance_winter_solstice(RA14,DEC14))\n",
    "print(distance_array_winter_solstice) #Print array of apparent distances"
   ]
  },
  {
   "cell_type": "code",
   "execution_count": 36,
   "metadata": {},
   "outputs": [
    {
     "data": {
      "application/javascript": [
       "\n",
       "            setTimeout(function() {\n",
       "                var nbb_cell_id = 36;\n",
       "                var nbb_unformatted_code = \"distance_dataframe_winter_solstice = pd.DataFrame({'Name':star_closest_to_sun_winter_solstice['Name'],'Distance':distance_array_winter_solstice}) #Convert array to a dataframe\";\n",
       "                var nbb_formatted_code = \"distance_dataframe_winter_solstice = pd.DataFrame(\\n    {\\n        \\\"Name\\\": star_closest_to_sun_winter_solstice[\\\"Name\\\"],\\n        \\\"Distance\\\": distance_array_winter_solstice,\\n    }\\n)  # Convert array to a dataframe\";\n",
       "                var nbb_cells = Jupyter.notebook.get_cells();\n",
       "                for (var i = 0; i < nbb_cells.length; ++i) {\n",
       "                    if (nbb_cells[i].input_prompt_number == nbb_cell_id) {\n",
       "                        if (nbb_cells[i].get_text() == nbb_unformatted_code) {\n",
       "                             nbb_cells[i].set_text(nbb_formatted_code);\n",
       "                        }\n",
       "                        break;\n",
       "                    }\n",
       "                }\n",
       "            }, 500);\n",
       "            "
      ],
      "text/plain": [
       "<IPython.core.display.Javascript object>"
      ]
     },
     "metadata": {},
     "output_type": "display_data"
    }
   ],
   "source": [
    "distance_dataframe_winter_solstice = pd.DataFrame({'Name':star_closest_to_sun_winter_solstice['Name'],'Distance':distance_array_winter_solstice}) #Convert array to a dataframe"
   ]
  },
  {
   "cell_type": "code",
   "execution_count": 37,
   "metadata": {},
   "outputs": [
    {
     "data": {
      "text/html": [
       "<div>\n",
       "<style scoped>\n",
       "    .dataframe tbody tr th:only-of-type {\n",
       "        vertical-align: middle;\n",
       "    }\n",
       "\n",
       "    .dataframe tbody tr th {\n",
       "        vertical-align: top;\n",
       "    }\n",
       "\n",
       "    .dataframe thead th {\n",
       "        text-align: right;\n",
       "    }\n",
       "</style>\n",
       "<table border=\"1\" class=\"dataframe\">\n",
       "  <thead>\n",
       "    <tr style=\"text-align: right;\">\n",
       "      <th></th>\n",
       "      <th>Name</th>\n",
       "      <th>Distance</th>\n",
       "    </tr>\n",
       "  </thead>\n",
       "  <tbody>\n",
       "    <tr>\n",
       "      <th>43</th>\n",
       "      <td>Spica</td>\n",
       "      <td>69.783261</td>\n",
       "    </tr>\n",
       "    <tr>\n",
       "      <th>52</th>\n",
       "      <td>Unukalhai</td>\n",
       "      <td>45.177804</td>\n",
       "    </tr>\n",
       "    <tr>\n",
       "      <th>53</th>\n",
       "      <td>Antares</td>\n",
       "      <td>22.850098</td>\n",
       "    </tr>\n",
       "    <tr>\n",
       "      <th>55</th>\n",
       "      <td>Shaula</td>\n",
       "      <td>15.209332</td>\n",
       "    </tr>\n",
       "    <tr>\n",
       "      <th>58</th>\n",
       "      <td>KausAustralis</td>\n",
       "      <td>12.536919</td>\n",
       "    </tr>\n",
       "    <tr>\n",
       "      <th>60</th>\n",
       "      <td>Nunki</td>\n",
       "      <td>14.116690</td>\n",
       "    </tr>\n",
       "    <tr>\n",
       "      <th>66</th>\n",
       "      <td>Alnair</td>\n",
       "      <td>66.379782</td>\n",
       "    </tr>\n",
       "    <tr>\n",
       "      <th>67</th>\n",
       "      <td>Fomalhaut</td>\n",
       "      <td>74.671435</td>\n",
       "    </tr>\n",
       "  </tbody>\n",
       "</table>\n",
       "</div>"
      ],
      "text/plain": [
       "             Name   Distance\n",
       "43          Spica  69.783261\n",
       "52      Unukalhai  45.177804\n",
       "53        Antares  22.850098\n",
       "55         Shaula  15.209332\n",
       "58  KausAustralis  12.536919\n",
       "60          Nunki  14.116690\n",
       "66         Alnair  66.379782\n",
       "67      Fomalhaut  74.671435"
      ]
     },
     "execution_count": 37,
     "metadata": {},
     "output_type": "execute_result"
    },
    {
     "data": {
      "application/javascript": [
       "\n",
       "            setTimeout(function() {\n",
       "                var nbb_cell_id = 37;\n",
       "                var nbb_unformatted_code = \"distance_dataframe_winter_solstice #Print apparent distance (dataframe) of stars\";\n",
       "                var nbb_formatted_code = \"distance_dataframe_winter_solstice  # Print apparent distance (dataframe) of stars\";\n",
       "                var nbb_cells = Jupyter.notebook.get_cells();\n",
       "                for (var i = 0; i < nbb_cells.length; ++i) {\n",
       "                    if (nbb_cells[i].input_prompt_number == nbb_cell_id) {\n",
       "                        if (nbb_cells[i].get_text() == nbb_unformatted_code) {\n",
       "                             nbb_cells[i].set_text(nbb_formatted_code);\n",
       "                        }\n",
       "                        break;\n",
       "                    }\n",
       "                }\n",
       "            }, 500);\n",
       "            "
      ],
      "text/plain": [
       "<IPython.core.display.Javascript object>"
      ]
     },
     "metadata": {},
     "output_type": "display_data"
    }
   ],
   "source": [
    "distance_dataframe_winter_solstice #Print apparent distance (dataframe) of stars"
   ]
  },
  {
   "cell_type": "code",
   "execution_count": 38,
   "metadata": {},
   "outputs": [
    {
     "data": {
      "application/javascript": [
       "\n",
       "            setTimeout(function() {\n",
       "                var nbb_cell_id = 38;\n",
       "                var nbb_unformatted_code = \"minimum_idx_winter_solstice = distance_dataframe_winter_solstice['Distance'].idxmin() #Finding the index of the minimum distance value\";\n",
       "                var nbb_formatted_code = \"minimum_idx_winter_solstice = distance_dataframe_winter_solstice[\\n    \\\"Distance\\\"\\n].idxmin()  # Finding the index of the minimum distance value\";\n",
       "                var nbb_cells = Jupyter.notebook.get_cells();\n",
       "                for (var i = 0; i < nbb_cells.length; ++i) {\n",
       "                    if (nbb_cells[i].input_prompt_number == nbb_cell_id) {\n",
       "                        if (nbb_cells[i].get_text() == nbb_unformatted_code) {\n",
       "                             nbb_cells[i].set_text(nbb_formatted_code);\n",
       "                        }\n",
       "                        break;\n",
       "                    }\n",
       "                }\n",
       "            }, 500);\n",
       "            "
      ],
      "text/plain": [
       "<IPython.core.display.Javascript object>"
      ]
     },
     "metadata": {},
     "output_type": "display_data"
    }
   ],
   "source": [
    "minimum_idx_winter_solstice = distance_dataframe_winter_solstice['Distance'].idxmin() #Finding the index of the minimum distance value"
   ]
  },
  {
   "cell_type": "code",
   "execution_count": 39,
   "metadata": {},
   "outputs": [
    {
     "name": "stdout",
     "output_type": "stream",
     "text": [
      "Index: 58\n"
     ]
    },
    {
     "data": {
      "application/javascript": [
       "\n",
       "            setTimeout(function() {\n",
       "                var nbb_cell_id = 39;\n",
       "                var nbb_unformatted_code = \"print('Index:',minimum_idx_winter_solstice) #Print index value\";\n",
       "                var nbb_formatted_code = \"print(\\\"Index:\\\", minimum_idx_winter_solstice)  # Print index value\";\n",
       "                var nbb_cells = Jupyter.notebook.get_cells();\n",
       "                for (var i = 0; i < nbb_cells.length; ++i) {\n",
       "                    if (nbb_cells[i].input_prompt_number == nbb_cell_id) {\n",
       "                        if (nbb_cells[i].get_text() == nbb_unformatted_code) {\n",
       "                             nbb_cells[i].set_text(nbb_formatted_code);\n",
       "                        }\n",
       "                        break;\n",
       "                    }\n",
       "                }\n",
       "            }, 500);\n",
       "            "
      ],
      "text/plain": [
       "<IPython.core.display.Javascript object>"
      ]
     },
     "metadata": {},
     "output_type": "display_data"
    }
   ],
   "source": [
    "print('Index:',minimum_idx_winter_solstice) #Print index value"
   ]
  },
  {
   "cell_type": "code",
   "execution_count": 40,
   "metadata": {},
   "outputs": [
    {
     "name": "stdout",
     "output_type": "stream",
     "text": [
      "Star: KausAustralis\n"
     ]
    },
    {
     "data": {
      "application/javascript": [
       "\n",
       "            setTimeout(function() {\n",
       "                var nbb_cell_id = 40;\n",
       "                var nbb_unformatted_code = \"print('Star:',star_table['Name'].loc[minimum_idx_winter_solstice]) #Access the cell in the given dataframe and print the name\";\n",
       "                var nbb_formatted_code = \"print(\\n    \\\"Star:\\\", star_table[\\\"Name\\\"].loc[minimum_idx_winter_solstice]\\n)  # Access the cell in the given dataframe and print the name\";\n",
       "                var nbb_cells = Jupyter.notebook.get_cells();\n",
       "                for (var i = 0; i < nbb_cells.length; ++i) {\n",
       "                    if (nbb_cells[i].input_prompt_number == nbb_cell_id) {\n",
       "                        if (nbb_cells[i].get_text() == nbb_unformatted_code) {\n",
       "                             nbb_cells[i].set_text(nbb_formatted_code);\n",
       "                        }\n",
       "                        break;\n",
       "                    }\n",
       "                }\n",
       "            }, 500);\n",
       "            "
      ],
      "text/plain": [
       "<IPython.core.display.Javascript object>"
      ]
     },
     "metadata": {},
     "output_type": "display_data"
    }
   ],
   "source": [
    "print('Star:',star_table['Name'].loc[minimum_idx_winter_solstice]) #Access the cell in the given dataframe and print the name"
   ]
  },
  {
   "cell_type": "code",
   "execution_count": 41,
   "metadata": {},
   "outputs": [
    {
     "name": "stdout",
     "output_type": "stream",
     "text": [
      "Apparent Distance: 12.536919089835234\n"
     ]
    },
    {
     "data": {
      "application/javascript": [
       "\n",
       "            setTimeout(function() {\n",
       "                var nbb_cell_id = 41;\n",
       "                var nbb_unformatted_code = \"print('Apparent Distance:',distance_dataframe_winter_solstice['Distance'].loc[minimum_idx_winter_solstice]) #Print apparent distance in degrees\";\n",
       "                var nbb_formatted_code = \"print(\\n    \\\"Apparent Distance:\\\",\\n    distance_dataframe_winter_solstice[\\\"Distance\\\"].loc[minimum_idx_winter_solstice],\\n)  # Print apparent distance in degrees\";\n",
       "                var nbb_cells = Jupyter.notebook.get_cells();\n",
       "                for (var i = 0; i < nbb_cells.length; ++i) {\n",
       "                    if (nbb_cells[i].input_prompt_number == nbb_cell_id) {\n",
       "                        if (nbb_cells[i].get_text() == nbb_unformatted_code) {\n",
       "                             nbb_cells[i].set_text(nbb_formatted_code);\n",
       "                        }\n",
       "                        break;\n",
       "                    }\n",
       "                }\n",
       "            }, 500);\n",
       "            "
      ],
      "text/plain": [
       "<IPython.core.display.Javascript object>"
      ]
     },
     "metadata": {},
     "output_type": "display_data"
    }
   ],
   "source": [
    "print('Apparent Distance:',distance_dataframe_winter_solstice['Distance'].loc[minimum_idx_winter_solstice]) #Print apparent distance in degrees"
   ]
  },
  {
   "cell_type": "code",
   "execution_count": 42,
   "metadata": {},
   "outputs": [
    {
     "name": "stdout",
     "output_type": "stream",
     "text": [
      "Name    KausAustralis\n",
      "RA            18.4029\n",
      "DEC          -34.3843\n",
      "Name: 58, dtype: object\n"
     ]
    },
    {
     "data": {
      "application/javascript": [
       "\n",
       "            setTimeout(function() {\n",
       "                var nbb_cell_id = 42;\n",
       "                var nbb_unformatted_code = \"print(star_table.loc[minimum_idx_winter_solstice]) #Print data for star closest to the sun on the Winter Solstice\";\n",
       "                var nbb_formatted_code = \"print(\\n    star_table.loc[minimum_idx_winter_solstice]\\n)  # Print data for star closest to the sun on the Winter Solstice\";\n",
       "                var nbb_cells = Jupyter.notebook.get_cells();\n",
       "                for (var i = 0; i < nbb_cells.length; ++i) {\n",
       "                    if (nbb_cells[i].input_prompt_number == nbb_cell_id) {\n",
       "                        if (nbb_cells[i].get_text() == nbb_unformatted_code) {\n",
       "                             nbb_cells[i].set_text(nbb_formatted_code);\n",
       "                        }\n",
       "                        break;\n",
       "                    }\n",
       "                }\n",
       "            }, 500);\n",
       "            "
      ],
      "text/plain": [
       "<IPython.core.display.Javascript object>"
      ]
     },
     "metadata": {},
     "output_type": "display_data"
    }
   ],
   "source": [
    "print(star_table.loc[minimum_idx_winter_solstice]) #Print data for star closest to the sun on the Winter Solstice"
   ]
  },
  {
   "cell_type": "markdown",
   "metadata": {},
   "source": [
    "---\n",
    "\n",
    "### Due Wed Jan 22 - 1pm\n",
    "- `Make sure to change the filename to your name!`\n",
    "- `Make sure to change the Title to your name!`\n",
    "- `Save notebook as .html: File -> Download as -> HTML (.html)`\n",
    "- `Upload .html to Canvas`"
   ]
  },
  {
   "cell_type": "code",
   "execution_count": null,
   "metadata": {},
   "outputs": [],
   "source": []
  }
 ],
 "metadata": {
  "anaconda-cloud": {},
  "kernelspec": {
   "display_name": "Python 3",
   "language": "python",
   "name": "python3"
  },
  "language_info": {
   "codemirror_mode": {
    "name": "ipython",
    "version": 3
   },
   "file_extension": ".py",
   "mimetype": "text/x-python",
   "name": "python",
   "nbconvert_exporter": "python",
   "pygments_lexer": "ipython3",
   "version": "3.7.6"
  }
 },
 "nbformat": 4,
 "nbformat_minor": 4
}
