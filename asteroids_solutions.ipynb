{
 "cells": [
  {
   "cell_type": "markdown",
   "metadata": {},
   "source": [
    "# Asteroid Detection Module\n",
    "\n",
    "**Lecturer:** Quanzhi Ye<br>\n",
    "**Jupyter Notebook Authors:** Quanzhi Ye, Ashish Mahabal, Dmitry Duev, & Cameron Hummels\n",
    "\n",
    "This is a Jupyter notebook lesson taken from the GROWTH Summer School 2019.  For other lessons and their accompanying lectures, please see: http://growth.caltech.edu/growth-astro-school-2019-resources.html\n",
    "\n",
    "## Objective\n",
    "Compute the detection rate of fast-moving asteroids, asteroids that pass within ~20 lunar distances from Earth, and leave trails/streaks on astronomical images.\n",
    "\n",
    "## Key steps\n",
    "- Figure out which known asteroids will show up as streaks in ZTF images, and\n",
    "- Examine the streak catalog to see how many of them are detected.\n",
    "- [Optional] Run DeepStreaks, is a convolutional-neural-network, deep-learning system designed to efficiently identify streaking fast-moving near-Earth objects detected in the ZTF data\n",
    "\n",
    "## Required dependencies\n",
    "\n",
    "See GROWTH school webpage for detailed instructions on how to install these modules and packages.  Nominally, you should be able to install the python modules with `pip install <module>`.  The external astromatic packages are easiest installed using package managers (e.g., `rpm`, `apt-get`).\n",
    "\n",
    "### Python modules\n",
    "* python 3\n",
    "* astropy\n",
    "* numpy\n",
    "* pandas\n",
    "* astroquery\n",
    "* matplotlib\n",
    "* pillow\n",
    "\n",
    "### External packages\n",
    "None"
   ]
  },
  {
   "cell_type": "code",
   "execution_count": 1,
   "metadata": {},
   "outputs": [
    {
     "ename": "ModuleNotFoundError",
     "evalue": "No module named 'astroquery'",
     "output_type": "error",
     "traceback": [
      "\u001b[0;31m---------------------------------------------------------------------------\u001b[0m",
      "\u001b[0;31mModuleNotFoundError\u001b[0m                       Traceback (most recent call last)",
      "\u001b[0;32m<ipython-input-1-c4bad6d39d55>\u001b[0m in \u001b[0;36m<module>\u001b[0;34m\u001b[0m\n\u001b[1;32m      6\u001b[0m \u001b[0;32mimport\u001b[0m \u001b[0mos\u001b[0m\u001b[0;34m\u001b[0m\u001b[0;34m\u001b[0m\u001b[0m\n\u001b[1;32m      7\u001b[0m \u001b[0;32mimport\u001b[0m \u001b[0mtarfile\u001b[0m\u001b[0;34m\u001b[0m\u001b[0;34m\u001b[0m\u001b[0m\n\u001b[0;32m----> 8\u001b[0;31m \u001b[0;32mfrom\u001b[0m \u001b[0mastroquery\u001b[0m\u001b[0;34m.\u001b[0m\u001b[0mjplhorizons\u001b[0m \u001b[0;32mimport\u001b[0m \u001b[0mHorizons\u001b[0m\u001b[0;34m\u001b[0m\u001b[0;34m\u001b[0m\u001b[0m\n\u001b[0m\u001b[1;32m      9\u001b[0m \u001b[0;32mimport\u001b[0m \u001b[0mdatetime\u001b[0m\u001b[0;34m\u001b[0m\u001b[0;34m\u001b[0m\u001b[0m\n\u001b[1;32m     10\u001b[0m \u001b[0;32mfrom\u001b[0m \u001b[0mastropy\u001b[0m\u001b[0;34m.\u001b[0m\u001b[0mtime\u001b[0m \u001b[0;32mimport\u001b[0m \u001b[0mTime\u001b[0m\u001b[0;34m\u001b[0m\u001b[0;34m\u001b[0m\u001b[0m\n",
      "\u001b[0;31mModuleNotFoundError\u001b[0m: No module named 'astroquery'"
     ]
    }
   ],
   "source": [
    "import requests\n",
    "import numpy as np\n",
    "import pandas as pd\n",
    "import glob\n",
    "import matplotlib.pyplot as plt\n",
    "import os\n",
    "import tarfile\n",
    "from astroquery.jplhorizons import Horizons\n",
    "import datetime\n",
    "from astropy.time import Time\n",
    "from IPython.display import Image as Image_jupyter\n",
    "from IPython.display import display\n",
    "import pdb\n",
    "import warnings"
   ]
  },
  {
   "cell_type": "markdown",
   "metadata": {},
   "source": [
    "If you are missing dependencies, pip-install them from this notebook:"
   ]
  },
  {
   "cell_type": "code",
   "execution_count": 2,
   "metadata": {},
   "outputs": [],
   "source": [
    "# !pip install astroquery\n",
    "# !pip install pillow"
   ]
  },
  {
   "cell_type": "markdown",
   "metadata": {},
   "source": [
    "## Step 1: fast-moving asteroids that fall on ZTF images\n",
    "\n",
    "We will loop over the catalog of known NEAs (Near-Earth Asteroids) and make a series of queries to JPL's Horizon service and IPAC's IRSA service, to determine if and when they will be visible at Palomar (where ZTF runs from)."
   ]
  },
  {
   "cell_type": "markdown",
   "metadata": {},
   "source": [
    "Let's download the catalog of known NEAs from the Minor Planet Center (MPC)."
   ]
  },
  {
   "cell_type": "code",
   "execution_count": 3,
   "metadata": {},
   "outputs": [
    {
     "name": "stdout",
     "output_type": "stream",
     "text": [
      "total 29M\n",
      "-rwxr--r--    1 growth growth 347K Jul  2 19:14 check_fmo.txt\n",
      "-rwxr--r--    1 growth growth 3.9M Jul  2 19:14 NEA.txt\n",
      "-rw-r--r--    1 growth growth 4.3K Jul  8 11:28 rb_vgg6.architecture.json\n",
      "-rw-r--r--    1 growth growth 4.3K Jul  8 11:28 sl_vgg6.architecture.json\n",
      "-rw-r--r--    1 growth growth 8.1M Jul  8 11:28 rb_vgg6.weights.h5\n",
      "-rw-r--r--    1 growth growth 8.1M Jul  8 11:28 sl_vgg6.weights.h5\n",
      "-rw-r--r--    1 growth growth 4.3K Jul  8 11:28 kd_vgg6.architecture.json\n",
      "-rw-r--r--    1 growth growth 8.1M Jul  8 11:28 kd_vgg6.weights.h5\n",
      "drwxr-xr-x 1005 growth growth 136K Jul  9 01:50 run_merged\n"
     ]
    }
   ],
   "source": [
    "# !wget -O data/NEA.txt https://www.minorplanetcenter.net/iau/MPCORB/NEA.txt\n",
    "!ls -lhtr data"
   ]
  },
  {
   "cell_type": "code",
   "execution_count": 4,
   "metadata": {},
   "outputs": [
    {
     "name": "stdout",
     "output_type": "stream",
     "text": [
      "retrieving MPCORB...\n",
      "MPCORB file retrieved.\n"
     ]
    }
   ],
   "source": [
    "path_data = 'data'  # All relevant data are in data directory\n",
    "path_nea = os.path.join(path_data, 'NEA.txt')\n",
    "\n",
    "print('retrieving MPCORB...')\n",
    "with open(path_nea, 'r') as f:\n",
    "    mpcorb = f.read()\n",
    "mpcorb = mpcorb.split(\"\\n\")\n",
    "print('MPCORB file retrieved.')"
   ]
  },
  {
   "cell_type": "markdown",
   "metadata": {},
   "source": [
    "Let's convert the catalog into a `pandas` DataFrame for convenience. The format of the MPC catalog is described [here](https://www.minorplanetcenter.net/iau/info/MPOrbitFormat.html), it's best for machines but is also somewhat human readable."
   ]
  },
  {
   "cell_type": "code",
   "execution_count": 5,
   "metadata": {},
   "outputs": [
    {
     "data": {
      "text/html": [
       "<div>\n",
       "<style scoped>\n",
       "    .dataframe tbody tr th:only-of-type {\n",
       "        vertical-align: middle;\n",
       "    }\n",
       "\n",
       "    .dataframe tbody tr th {\n",
       "        vertical-align: top;\n",
       "    }\n",
       "\n",
       "    .dataframe thead th {\n",
       "        text-align: right;\n",
       "    }\n",
       "</style>\n",
       "<table border=\"1\" class=\"dataframe\">\n",
       "  <thead>\n",
       "    <tr style=\"text-align: right;\">\n",
       "      <th></th>\n",
       "      <th>num</th>\n",
       "      <th>H</th>\n",
       "      <th>G</th>\n",
       "      <th>epoch</th>\n",
       "      <th>n</th>\n",
       "      <th>omega</th>\n",
       "      <th>Omega</th>\n",
       "      <th>i</th>\n",
       "      <th>e</th>\n",
       "      <th>n_daily</th>\n",
       "      <th>...</th>\n",
       "      <th>date_1</th>\n",
       "      <th>date_2</th>\n",
       "      <th>date_3</th>\n",
       "      <th>rms_residual</th>\n",
       "      <th>coarse_ind_per</th>\n",
       "      <th>presice_ind_per</th>\n",
       "      <th>computer_name</th>\n",
       "      <th>hex_flags</th>\n",
       "      <th>designation</th>\n",
       "      <th>date_last_obs</th>\n",
       "    </tr>\n",
       "  </thead>\n",
       "  <tbody>\n",
       "    <tr>\n",
       "      <th>0</th>\n",
       "      <td>00433</td>\n",
       "      <td>11.16</td>\n",
       "      <td>0.46</td>\n",
       "      <td>K1972</td>\n",
       "      <td>84.17190</td>\n",
       "      <td>178.83549</td>\n",
       "      <td>304.30424</td>\n",
       "      <td>10.82858</td>\n",
       "      <td>0.222739</td>\n",
       "      <td>0.559740</td>\n",
       "      <td>...</td>\n",
       "      <td>1893</td>\n",
       "      <td>-</td>\n",
       "      <td>2019</td>\n",
       "      <td>0.69</td>\n",
       "      <td>M-v</td>\n",
       "      <td>38h</td>\n",
       "      <td>MPCLINUX</td>\n",
       "      <td>1804</td>\n",
       "      <td>(433) Eros</td>\n",
       "      <td>20190509</td>\n",
       "    </tr>\n",
       "    <tr>\n",
       "      <th>1</th>\n",
       "      <td>00719</td>\n",
       "      <td>15.50</td>\n",
       "      <td>0.15</td>\n",
       "      <td>K1972</td>\n",
       "      <td>63.48955</td>\n",
       "      <td>156.16594</td>\n",
       "      <td>183.88436</td>\n",
       "      <td>11.56493</td>\n",
       "      <td>0.546328</td>\n",
       "      <td>0.229926</td>\n",
       "      <td>...</td>\n",
       "      <td>1911</td>\n",
       "      <td>-</td>\n",
       "      <td>2019</td>\n",
       "      <td>0.41</td>\n",
       "      <td>M-v</td>\n",
       "      <td>38h</td>\n",
       "      <td>MPCLINUX</td>\n",
       "      <td>1804</td>\n",
       "      <td>(719) Albert</td>\n",
       "      <td>20190125</td>\n",
       "    </tr>\n",
       "    <tr>\n",
       "      <th>2</th>\n",
       "      <td>00887</td>\n",
       "      <td>13.40</td>\n",
       "      <td>-0.12</td>\n",
       "      <td>K1972</td>\n",
       "      <td>210.09971</td>\n",
       "      <td>350.42271</td>\n",
       "      <td>110.42767</td>\n",
       "      <td>9.38774</td>\n",
       "      <td>0.569419</td>\n",
       "      <td>0.252978</td>\n",
       "      <td>...</td>\n",
       "      <td>1918</td>\n",
       "      <td>-</td>\n",
       "      <td>2018</td>\n",
       "      <td>0.65</td>\n",
       "      <td>M-v</td>\n",
       "      <td>3Eh</td>\n",
       "      <td>MPCLINUX</td>\n",
       "      <td>1804</td>\n",
       "      <td>(887) Alinda</td>\n",
       "      <td>20180712</td>\n",
       "    </tr>\n",
       "    <tr>\n",
       "      <th>3</th>\n",
       "      <td>01036</td>\n",
       "      <td>9.45</td>\n",
       "      <td>0.30</td>\n",
       "      <td>K1972</td>\n",
       "      <td>289.12776</td>\n",
       "      <td>132.38404</td>\n",
       "      <td>215.55779</td>\n",
       "      <td>26.68543</td>\n",
       "      <td>0.533195</td>\n",
       "      <td>0.226617</td>\n",
       "      <td>...</td>\n",
       "      <td>1924</td>\n",
       "      <td>-</td>\n",
       "      <td>2019</td>\n",
       "      <td>0.43</td>\n",
       "      <td>M-v</td>\n",
       "      <td>38h</td>\n",
       "      <td>MPCLINUX</td>\n",
       "      <td>1804</td>\n",
       "      <td>(1036) Ganymed</td>\n",
       "      <td>20190511</td>\n",
       "    </tr>\n",
       "    <tr>\n",
       "      <th>4</th>\n",
       "      <td>01221</td>\n",
       "      <td>17.70</td>\n",
       "      <td>0.15</td>\n",
       "      <td>K1972</td>\n",
       "      <td>274.74024</td>\n",
       "      <td>26.67623</td>\n",
       "      <td>171.33453</td>\n",
       "      <td>11.87634</td>\n",
       "      <td>0.435289</td>\n",
       "      <td>0.370632</td>\n",
       "      <td>...</td>\n",
       "      <td>1932</td>\n",
       "      <td>-</td>\n",
       "      <td>2018</td>\n",
       "      <td>1.15</td>\n",
       "      <td>M-v</td>\n",
       "      <td>3Eh</td>\n",
       "      <td>MPCW</td>\n",
       "      <td>1804</td>\n",
       "      <td>(1221) Amor</td>\n",
       "      <td>20181015</td>\n",
       "    </tr>\n",
       "  </tbody>\n",
       "</table>\n",
       "<p>5 rows × 25 columns</p>\n",
       "</div>"
      ],
      "text/plain": [
       "     num      H     G  epoch          n      omega      Omega         i  \\\n",
       "0  00433  11.16  0.46  K1972   84.17190  178.83549  304.30424  10.82858   \n",
       "1  00719  15.50  0.15  K1972   63.48955  156.16594  183.88436  11.56493   \n",
       "2  00887  13.40 -0.12  K1972  210.09971  350.42271  110.42767   9.38774   \n",
       "3  01036   9.45  0.30  K1972  289.12776  132.38404  215.55779  26.68543   \n",
       "4  01221  17.70  0.15  K1972  274.74024   26.67623  171.33453  11.87634   \n",
       "\n",
       "          e   n_daily  ...  date_1 date_2 date_3  rms_residual  \\\n",
       "0  0.222739  0.559740  ...    1893      -   2019          0.69   \n",
       "1  0.546328  0.229926  ...    1911      -   2019          0.41   \n",
       "2  0.569419  0.252978  ...    1918      -   2018          0.65   \n",
       "3  0.533195  0.226617  ...    1924      -   2019          0.43   \n",
       "4  0.435289  0.370632  ...    1932      -   2018          1.15   \n",
       "\n",
       "   coarse_ind_per  presice_ind_per computer_name hex_flags     designation  \\\n",
       "0             M-v              38h      MPCLINUX      1804      (433) Eros   \n",
       "1             M-v              38h      MPCLINUX      1804    (719) Albert   \n",
       "2             M-v              3Eh      MPCLINUX      1804    (887) Alinda   \n",
       "3             M-v              38h      MPCLINUX      1804  (1036) Ganymed   \n",
       "4             M-v              3Eh          MPCW      1804     (1221) Amor   \n",
       "\n",
       "  date_last_obs  \n",
       "0      20190509  \n",
       "1      20190125  \n",
       "2      20180712  \n",
       "3      20190511  \n",
       "4      20181015  \n",
       "\n",
       "[5 rows x 25 columns]"
      ]
     },
     "metadata": {},
     "output_type": "display_data"
    },
    {
     "data": {
      "text/html": [
       "<div>\n",
       "<style scoped>\n",
       "    .dataframe tbody tr th:only-of-type {\n",
       "        vertical-align: middle;\n",
       "    }\n",
       "\n",
       "    .dataframe tbody tr th {\n",
       "        vertical-align: top;\n",
       "    }\n",
       "\n",
       "    .dataframe thead th {\n",
       "        text-align: right;\n",
       "    }\n",
       "</style>\n",
       "<table border=\"1\" class=\"dataframe\">\n",
       "  <thead>\n",
       "    <tr style=\"text-align: right;\">\n",
       "      <th></th>\n",
       "      <th>num</th>\n",
       "      <th>H</th>\n",
       "      <th>G</th>\n",
       "      <th>epoch</th>\n",
       "      <th>n</th>\n",
       "      <th>omega</th>\n",
       "      <th>Omega</th>\n",
       "      <th>i</th>\n",
       "      <th>e</th>\n",
       "      <th>n_daily</th>\n",
       "      <th>...</th>\n",
       "      <th>date_1</th>\n",
       "      <th>date_2</th>\n",
       "      <th>date_3</th>\n",
       "      <th>rms_residual</th>\n",
       "      <th>coarse_ind_per</th>\n",
       "      <th>presice_ind_per</th>\n",
       "      <th>computer_name</th>\n",
       "      <th>hex_flags</th>\n",
       "      <th>designation</th>\n",
       "      <th>date_last_obs</th>\n",
       "    </tr>\n",
       "  </thead>\n",
       "  <tbody>\n",
       "    <tr>\n",
       "      <th>20055</th>\n",
       "      <td>r8979</td>\n",
       "      <td>19.5</td>\n",
       "      <td>0.15</td>\n",
       "      <td>K1972</td>\n",
       "      <td>15.35038</td>\n",
       "      <td>79.71863</td>\n",
       "      <td>111.82334</td>\n",
       "      <td>22.73754</td>\n",
       "      <td>0.428860</td>\n",
       "      <td>0.302067</td>\n",
       "      <td>...</td>\n",
       "      <td>2005</td>\n",
       "      <td>-</td>\n",
       "      <td>2019</td>\n",
       "      <td>0.37</td>\n",
       "      <td>M-v</td>\n",
       "      <td>38h</td>\n",
       "      <td>MPCLINUX</td>\n",
       "      <td>0804</td>\n",
       "      <td>(538979) 2016 KE</td>\n",
       "      <td>20190103</td>\n",
       "    </tr>\n",
       "    <tr>\n",
       "      <th>20056</th>\n",
       "      <td>r9063</td>\n",
       "      <td>19.1</td>\n",
       "      <td>0.15</td>\n",
       "      <td>K1972</td>\n",
       "      <td>137.97986</td>\n",
       "      <td>240.58600</td>\n",
       "      <td>178.41222</td>\n",
       "      <td>10.78043</td>\n",
       "      <td>0.716156</td>\n",
       "      <td>0.536098</td>\n",
       "      <td>...</td>\n",
       "      <td>2004</td>\n",
       "      <td>-</td>\n",
       "      <td>2019</td>\n",
       "      <td>0.38</td>\n",
       "      <td>M-v</td>\n",
       "      <td>3Eh</td>\n",
       "      <td>MPCLINUX</td>\n",
       "      <td>8803</td>\n",
       "      <td>(539063) 2016 MK1</td>\n",
       "      <td>20190404</td>\n",
       "    </tr>\n",
       "    <tr>\n",
       "      <th>20057</th>\n",
       "      <td>r9694</td>\n",
       "      <td>21.3</td>\n",
       "      <td>0.15</td>\n",
       "      <td>K1972</td>\n",
       "      <td>29.40139</td>\n",
       "      <td>353.21066</td>\n",
       "      <td>214.24905</td>\n",
       "      <td>22.73216</td>\n",
       "      <td>0.175726</td>\n",
       "      <td>0.935490</td>\n",
       "      <td>...</td>\n",
       "      <td>2016</td>\n",
       "      <td>-</td>\n",
       "      <td>2018</td>\n",
       "      <td>0.40</td>\n",
       "      <td>M-v</td>\n",
       "      <td>3Eh</td>\n",
       "      <td>MPCLINUX</td>\n",
       "      <td>0803</td>\n",
       "      <td>(539694) 2016 TE93</td>\n",
       "      <td>20181028</td>\n",
       "    </tr>\n",
       "    <tr>\n",
       "      <th>20058</th>\n",
       "      <td>r9856</td>\n",
       "      <td>20.9</td>\n",
       "      <td>0.15</td>\n",
       "      <td>K1972</td>\n",
       "      <td>202.27763</td>\n",
       "      <td>32.20509</td>\n",
       "      <td>3.17296</td>\n",
       "      <td>16.48798</td>\n",
       "      <td>0.557657</td>\n",
       "      <td>0.970590</td>\n",
       "      <td>...</td>\n",
       "      <td>2017</td>\n",
       "      <td>-</td>\n",
       "      <td>2019</td>\n",
       "      <td>0.40</td>\n",
       "      <td>M-v</td>\n",
       "      <td>3Eh</td>\n",
       "      <td>MPCLINUX</td>\n",
       "      <td>0803</td>\n",
       "      <td>(539856) 2017 EV2</td>\n",
       "      <td>20190408</td>\n",
       "    </tr>\n",
       "    <tr>\n",
       "      <th>20059</th>\n",
       "      <td>r9940</td>\n",
       "      <td>17.8</td>\n",
       "      <td>0.15</td>\n",
       "      <td>K1972</td>\n",
       "      <td>266.31834</td>\n",
       "      <td>168.86624</td>\n",
       "      <td>41.34972</td>\n",
       "      <td>33.94655</td>\n",
       "      <td>0.458861</td>\n",
       "      <td>0.315406</td>\n",
       "      <td>...</td>\n",
       "      <td>2012</td>\n",
       "      <td>-</td>\n",
       "      <td>2018</td>\n",
       "      <td>0.40</td>\n",
       "      <td>M-v</td>\n",
       "      <td>38h</td>\n",
       "      <td>MPCLINUX</td>\n",
       "      <td>1804</td>\n",
       "      <td>(539940) 2017 HW1</td>\n",
       "      <td>20181111</td>\n",
       "    </tr>\n",
       "  </tbody>\n",
       "</table>\n",
       "<p>5 rows × 25 columns</p>\n",
       "</div>"
      ],
      "text/plain": [
       "         num     H     G  epoch          n      omega      Omega         i  \\\n",
       "20055  r8979  19.5  0.15  K1972   15.35038   79.71863  111.82334  22.73754   \n",
       "20056  r9063  19.1  0.15  K1972  137.97986  240.58600  178.41222  10.78043   \n",
       "20057  r9694  21.3  0.15  K1972   29.40139  353.21066  214.24905  22.73216   \n",
       "20058  r9856  20.9  0.15  K1972  202.27763   32.20509    3.17296  16.48798   \n",
       "20059  r9940  17.8  0.15  K1972  266.31834  168.86624   41.34972  33.94655   \n",
       "\n",
       "              e   n_daily  ...  date_1 date_2 date_3  rms_residual  \\\n",
       "20055  0.428860  0.302067  ...    2005      -   2019          0.37   \n",
       "20056  0.716156  0.536098  ...    2004      -   2019          0.38   \n",
       "20057  0.175726  0.935490  ...    2016      -   2018          0.40   \n",
       "20058  0.557657  0.970590  ...    2017      -   2019          0.40   \n",
       "20059  0.458861  0.315406  ...    2012      -   2018          0.40   \n",
       "\n",
       "       coarse_ind_per  presice_ind_per computer_name hex_flags  \\\n",
       "20055             M-v              38h      MPCLINUX      0804   \n",
       "20056             M-v              3Eh      MPCLINUX      8803   \n",
       "20057             M-v              3Eh      MPCLINUX      0803   \n",
       "20058             M-v              3Eh      MPCLINUX      0803   \n",
       "20059             M-v              38h      MPCLINUX      1804   \n",
       "\n",
       "              designation date_last_obs  \n",
       "20055    (538979) 2016 KE      20190103  \n",
       "20056   (539063) 2016 MK1      20190404  \n",
       "20057  (539694) 2016 TE93      20181028  \n",
       "20058   (539856) 2017 EV2      20190408  \n",
       "20059   (539940) 2017 HW1      20181111  \n",
       "\n",
       "[5 rows x 25 columns]"
      ]
     },
     "metadata": {},
     "output_type": "display_data"
    }
   ],
   "source": [
    "df = pd.read_fwf(path_nea, \n",
    "                 colspecs=[(0, 7), (8, 13), (14, 19), (20, 25),\n",
    "                           (26, 35), (37, 46), (48, 57), (59, 68), \n",
    "                           (70, 79), (80, 91), (92, 103), (105, 106), \n",
    "                           (107, 116), (117, 122), (123, 126), (127, 131), \n",
    "                           (131, 132), (132, 136), (137, 141), (142, 145), \n",
    "                           (146, 149), (150, 160), (161, 165), (166, 194), (194, 202)], \n",
    "                 names=['num', 'H', 'G', 'epoch', \n",
    "                        'n', 'omega', 'Omega', 'i', \n",
    "                        'e', 'n_daily', 'a', 'U',\n",
    "                        'reference', 'num_obs', 'num_opp', 'date_1',\n",
    "                        'date_2', 'date_3', 'rms_residual', 'coarse_ind_per', \n",
    "                        'presice_ind_per', 'computer_name', 'hex_flags', 'designation', 'date_last_obs'])\n",
    "# display first and last five entries\n",
    "display(df.head())\n",
    "display(df.tail())"
   ]
  },
  {
   "cell_type": "markdown",
   "metadata": {},
   "source": [
    "Now let us loop over the MPC catalog to check the visibility for every NEA. We will do it for NEA 2018 CL (the first NEA found by ZTF), and it's up to you to write a loop for it.\n",
    "\n",
    "First, we create an instance for the Horizons query. We only need to tell Horizons the name of the object we want to query, and the time window we want to query, and let Horizons do the heavy-lifting. Oh, and the three-letter-code for ZTF is `I41`, as described [here](https://www.minorplanetcenter.net/iau/lists/ObsCodesF.html). If the query returns zero entries, it means that the object is not observable at Palomar at the suggested time (interval)."
   ]
  },
  {
   "cell_type": "code",
   "execution_count": 6,
   "metadata": {},
   "outputs": [],
   "source": [
    "ZTF_code = 'I41'"
   ]
  },
  {
   "cell_type": "markdown",
   "metadata": {},
   "source": [
    "First, let us define a time window we would like to query for. Our default is 20180205, the day ZTF science observations started:"
   ]
  },
  {
   "cell_type": "code",
   "execution_count": 7,
   "metadata": {},
   "outputs": [],
   "source": [
    "start_date = '20180205'\n",
    "end_date = '20180206'"
   ]
  },
  {
   "cell_type": "markdown",
   "metadata": {},
   "source": [
    "Then let's do all the tasks described above. For now, we do our test with 2018 CL (the first NEA found by ZTF)."
   ]
  },
  {
   "cell_type": "code",
   "execution_count": 8,
   "metadata": {},
   "outputs": [
    {
     "data": {
      "text/html": [
       "<div>\n",
       "<style scoped>\n",
       "    .dataframe tbody tr th:only-of-type {\n",
       "        vertical-align: middle;\n",
       "    }\n",
       "\n",
       "    .dataframe tbody tr th {\n",
       "        vertical-align: top;\n",
       "    }\n",
       "\n",
       "    .dataframe thead th {\n",
       "        text-align: right;\n",
       "    }\n",
       "</style>\n",
       "<table border=\"1\" class=\"dataframe\">\n",
       "  <thead>\n",
       "    <tr style=\"text-align: right;\">\n",
       "      <th></th>\n",
       "      <th>num</th>\n",
       "      <th>H</th>\n",
       "      <th>G</th>\n",
       "      <th>epoch</th>\n",
       "      <th>n</th>\n",
       "      <th>omega</th>\n",
       "      <th>Omega</th>\n",
       "      <th>i</th>\n",
       "      <th>e</th>\n",
       "      <th>n_daily</th>\n",
       "      <th>...</th>\n",
       "      <th>date_1</th>\n",
       "      <th>date_2</th>\n",
       "      <th>date_3</th>\n",
       "      <th>rms_residual</th>\n",
       "      <th>coarse_ind_per</th>\n",
       "      <th>presice_ind_per</th>\n",
       "      <th>computer_name</th>\n",
       "      <th>hex_flags</th>\n",
       "      <th>designation</th>\n",
       "      <th>date_last_obs</th>\n",
       "    </tr>\n",
       "  </thead>\n",
       "  <tbody>\n",
       "    <tr>\n",
       "      <th>15377</th>\n",
       "      <td>K18C00L</td>\n",
       "      <td>25.5</td>\n",
       "      <td>0.15</td>\n",
       "      <td>K1972</td>\n",
       "      <td>156.44302</td>\n",
       "      <td>141.71198</td>\n",
       "      <td>136.29656</td>\n",
       "      <td>11.85694</td>\n",
       "      <td>0.241386</td>\n",
       "      <td>1.247889</td>\n",
       "      <td>...</td>\n",
       "      <td>2</td>\n",
       "      <td>NaN</td>\n",
       "      <td>days</td>\n",
       "      <td>0.87</td>\n",
       "      <td>M-v</td>\n",
       "      <td>3Eh</td>\n",
       "      <td>MPCW</td>\n",
       "      <td>2802</td>\n",
       "      <td>2018 CL</td>\n",
       "      <td>20180207</td>\n",
       "    </tr>\n",
       "  </tbody>\n",
       "</table>\n",
       "<p>1 rows × 25 columns</p>\n",
       "</div>"
      ],
      "text/plain": [
       "           num     H     G  epoch          n      omega      Omega         i  \\\n",
       "15377  K18C00L  25.5  0.15  K1972  156.44302  141.71198  136.29656  11.85694   \n",
       "\n",
       "              e   n_daily  ...  date_1 date_2 date_3  rms_residual  \\\n",
       "15377  0.241386  1.247889  ...       2    NaN   days          0.87   \n",
       "\n",
       "       coarse_ind_per  presice_ind_per computer_name hex_flags  designation  \\\n",
       "15377             M-v              3Eh          MPCW      2802      2018 CL   \n",
       "\n",
       "      date_last_obs  \n",
       "15377      20180207  \n",
       "\n",
       "[1 rows x 25 columns]"
      ]
     },
     "metadata": {},
     "output_type": "display_data"
    }
   ],
   "source": [
    "# display db entry for 2018 CL:\n",
    "display(df[df.designation == '2018 CL'])\n",
    "\n",
    "obj_name = '2018 CL'"
   ]
  },
  {
   "cell_type": "code",
   "execution_count": 9,
   "metadata": {},
   "outputs": [],
   "source": [
    "obj = Horizons(id=obj_name, location=ZTF_code, \\\n",
    "               epochs={'start': '{}-{}-{}'.format(start_date[0:4], start_date[4:6], start_date[6:8]), \\\n",
    "               'stop': '{}-{}-{}'.format(end_date[0:4], end_date[4:6], end_date[6:8]), \\\n",
    "               'step': '1h'})\n",
    "\n",
    "eph = obj.ephemerides(skip_daylight=True, airmass_lessthan=5.0)\n",
    "if len(eph) <= 0:\n",
    "    print('object {} was not observable at Palomar'.format(obj_name))"
   ]
  },
  {
   "cell_type": "markdown",
   "metadata": {},
   "source": [
    "We also want to calculate the motion of the asteroid to see if it will show up as a streak in our images."
   ]
  },
  {
   "cell_type": "code",
   "execution_count": 10,
   "metadata": {},
   "outputs": [],
   "source": [
    "rate = np.sqrt(eph['RA_rate']**2+eph['DEC_rate']**2)"
   ]
  },
  {
   "cell_type": "markdown",
   "metadata": {},
   "source": [
    "Now, since we just discovered the power of JPL Horizons... why don't we take a short detour and do something fun? Let's say, we want to see the predicted trajectory of 2018 CL..."
   ]
  },
  {
   "cell_type": "code",
   "execution_count": 11,
   "metadata": {},
   "outputs": [
    {
     "data": {
      "image/png": "[encoded data removed]",
      "text/plain": [
       "<Figure size 432x288 with 1 Axes>"
      ]
     },
     "metadata": {
      "needs_background": "light"
     },
     "output_type": "display_data"
    }
   ],
   "source": [
    "fig = plt.figure()\n",
    "ax = fig.add_subplot(111)\n",
    "\n",
    "ax.plot(eph['RA'], eph['DEC'], 'o-')\n",
    "ax.set_title('trajectory of 2018 CL on from %s to %s' % (start_date, end_date))\n",
    "ax.set_xlabel('RA (deg)')\n",
    "ax.set_ylabel('DEC (deg)')\n",
    "\n",
    "for i, xy in enumerate(zip(eph['RA'], eph['DEC'])):\n",
    "    ax.annotate('%s' % eph['datetime_str'][i], xy=xy, textcoords='data')\n",
    "\n",
    "plt.show()"
   ]
  },
  {
   "cell_type": "markdown",
   "metadata": {},
   "source": [
    "What about the change of azimuth and elevation angle?"
   ]
  },
  {
   "cell_type": "code",
   "execution_count": 12,
   "metadata": {},
   "outputs": [
    {
     "data": {
      "image/png": "[encoded data removed]",
      "text/plain": [
       "<Figure size 432x288 with 1 Axes>"
      ]
     },
     "metadata": {
      "needs_background": "light"
     },
     "output_type": "display_data"
    }
   ],
   "source": [
    "fig = plt.figure()\n",
    "ax = fig.add_subplot(111)\n",
    "\n",
    "ax.plot(eph['AZ'], eph['EL'], 'o-')\n",
    "ax.set_title('azimuth/elevation angle of 2018 CL on from %s to %s' % (start_date, end_date))\n",
    "ax.set_xlabel('Azimuth (deg)')\n",
    "ax.set_ylabel('Elevation (deg)')\n",
    "\n",
    "for i, xy in enumerate(zip(eph['AZ'], eph['EL'])):\n",
    "    ax.annotate('%s' % eph['datetime_str'][i], xy=xy, textcoords='data')\n",
    "\n",
    "plt.show()"
   ]
  },
  {
   "cell_type": "markdown",
   "metadata": {},
   "source": [
    "The complete lists of the values supported by `astroquery.jplhorizons` can be found [here](https://astroquery.readthedocs.io/en/latest/api/astroquery.jplhorizons.HorizonsClass.html#astroquery.jplhorizons.HorizonsClass.ephemerides). Play with it and be creative! For example, can you plot the change of RA/DEC rate over time? And what about the change of predicted V magnitude?"
   ]
  },
  {
   "cell_type": "markdown",
   "metadata": {},
   "source": [
    "Now let's come back to our main journey. How fast does the asteroid need to be in order to show up as a streak? Let's take anything longer than 5 full-width-half-maximum (FWHM) as a streak. We know the exposure time of ZTF is 30 seconds, and the typical FWHM is 2''. Therefore, the minimum rate of motion is not too difficult to calculate:"
   ]
  },
  {
   "cell_type": "code",
   "execution_count": 13,
   "metadata": {},
   "outputs": [
    {
     "name": "stdout",
     "output_type": "stream",
     "text": [
      "minimum rate of motion for a streak: 0.33 arcsec/sec.\n"
     ]
    }
   ],
   "source": [
    "min_rate = 2*5/30\n",
    "\n",
    "print('minimum rate of motion for a streak: {:.2f} arcsec/sec.'.format(min_rate))"
   ]
  },
  {
   "cell_type": "markdown",
   "metadata": {},
   "source": [
    "If the object will be a fast-mover at some point within the time window being queried, we will use IPAC's Moving Object Search Tool (MOST) to get a list of the images that the object is a fast-mover on them."
   ]
  },
  {
   "cell_type": "code",
   "execution_count": 14,
   "metadata": {},
   "outputs": [],
   "source": [
    "if max(rate) > min_rate:\n",
    "    params = {'catalog': 'ztf', 'input_type': 'name_input', 'obj_name': '{}'.format(obj_name), \\\n",
    "              'obs_begin': '{}-{}-{}'.format(start_date[0:4], start_date[4:6], start_date[6:8]), \\\n",
    "              'obs_end': '{}-{}-{}'.format(end_date[0:4], end_date[4:6], end_date[6:8]), \\\n",
    "              'output_mode': 'Brief'}\n",
    "    irsa_return = requests.get('https://irsa.ipac.caltech.edu/cgi-bin/MOST/nph-most', params=params)"
   ]
  },
  {
   "cell_type": "markdown",
   "metadata": {},
   "source": [
    "...and MOST did give us something, right?"
   ]
  },
  {
   "cell_type": "code",
   "execution_count": 15,
   "metadata": {},
   "outputs": [
    {
     "data": {
      "text/html": [
       "<div>\n",
       "<style scoped>\n",
       "    .dataframe tbody tr th:only-of-type {\n",
       "        vertical-align: middle;\n",
       "    }\n",
       "\n",
       "    .dataframe tbody tr th {\n",
       "        vertical-align: top;\n",
       "    }\n",
       "\n",
       "    .dataframe thead th {\n",
       "        text-align: right;\n",
       "    }\n",
       "</style>\n",
       "<table border=\"1\" class=\"dataframe\">\n",
       "  <thead>\n",
       "    <tr style=\"text-align: right;\">\n",
       "      <th></th>\n",
       "      <th>obsdate</th>\n",
       "      <th>ra_obj</th>\n",
       "      <th>dec_obj</th>\n",
       "      <th>sun_dist</th>\n",
       "      <th>geo_dist</th>\n",
       "      <th>dist_ctr</th>\n",
       "      <th>phase</th>\n",
       "      <th>vmag</th>\n",
       "      <th>match</th>\n",
       "      <th>ra</th>\n",
       "      <th>...</th>\n",
       "      <th>imgtypecode</th>\n",
       "      <th>obsjd</th>\n",
       "      <th>ra1</th>\n",
       "      <th>dec1</th>\n",
       "      <th>ra2</th>\n",
       "      <th>dec2</th>\n",
       "      <th>ra3</th>\n",
       "      <th>dec3</th>\n",
       "      <th>ra4</th>\n",
       "      <th>dec4</th>\n",
       "    </tr>\n",
       "  </thead>\n",
       "  <tbody>\n",
       "    <tr>\n",
       "      <th>0</th>\n",
       "      <td>2018-02-05 05:33:25</td>\n",
       "      <td>130.243140</td>\n",
       "      <td>10.591412</td>\n",
       "      <td>0.9936</td>\n",
       "      <td>0.0077</td>\n",
       "      <td>0.3695</td>\n",
       "      <td>9.6662</td>\n",
       "      <td>15.69</td>\n",
       "      <td>1</td>\n",
       "      <td>129.946763</td>\n",
       "      <td>...</td>\n",
       "      <td>o</td>\n",
       "      <td>2.458155e+06</td>\n",
       "      <td>130.387829</td>\n",
       "      <td>10.796161</td>\n",
       "      <td>129.508055</td>\n",
       "      <td>10.798785</td>\n",
       "      <td>129.506884</td>\n",
       "      <td>9.932329</td>\n",
       "      <td>130.383994</td>\n",
       "      <td>9.929949</td>\n",
       "    </tr>\n",
       "    <tr>\n",
       "      <th>1</th>\n",
       "      <td>2018-02-05 06:01:52</td>\n",
       "      <td>129.946506</td>\n",
       "      <td>11.101031</td>\n",
       "      <td>0.9935</td>\n",
       "      <td>0.0077</td>\n",
       "      <td>0.1305</td>\n",
       "      <td>9.6479</td>\n",
       "      <td>15.67</td>\n",
       "      <td>1</td>\n",
       "      <td>129.949892</td>\n",
       "      <td>...</td>\n",
       "      <td>o</td>\n",
       "      <td>2.458155e+06</td>\n",
       "      <td>130.392207</td>\n",
       "      <td>11.663277</td>\n",
       "      <td>129.509977</td>\n",
       "      <td>11.666109</td>\n",
       "      <td>129.508681</td>\n",
       "      <td>10.799672</td>\n",
       "      <td>130.388448</td>\n",
       "      <td>10.797038</td>\n",
       "    </tr>\n",
       "    <tr>\n",
       "      <th>2</th>\n",
       "      <td>2018-02-05 06:31:50</td>\n",
       "      <td>129.625980</td>\n",
       "      <td>11.645721</td>\n",
       "      <td>0.9934</td>\n",
       "      <td>0.0076</td>\n",
       "      <td>0.5217</td>\n",
       "      <td>9.6703</td>\n",
       "      <td>15.65</td>\n",
       "      <td>1</td>\n",
       "      <td>129.950695</td>\n",
       "      <td>...</td>\n",
       "      <td>o</td>\n",
       "      <td>2.458155e+06</td>\n",
       "      <td>130.392986</td>\n",
       "      <td>11.664048</td>\n",
       "      <td>129.510776</td>\n",
       "      <td>11.666846</td>\n",
       "      <td>129.509495</td>\n",
       "      <td>10.800441</td>\n",
       "      <td>130.389246</td>\n",
       "      <td>10.797863</td>\n",
       "    </tr>\n",
       "    <tr>\n",
       "      <th>3</th>\n",
       "      <td>2018-02-05 06:32:33</td>\n",
       "      <td>129.618211</td>\n",
       "      <td>11.658854</td>\n",
       "      <td>0.9934</td>\n",
       "      <td>0.0076</td>\n",
       "      <td>0.3954</td>\n",
       "      <td>9.6713</td>\n",
       "      <td>15.65</td>\n",
       "      <td>1</td>\n",
       "      <td>129.648394</td>\n",
       "      <td>...</td>\n",
       "      <td>o</td>\n",
       "      <td>2.458155e+06</td>\n",
       "      <td>130.091191</td>\n",
       "      <td>12.485963</td>\n",
       "      <td>129.206230</td>\n",
       "      <td>12.486623</td>\n",
       "      <td>129.207328</td>\n",
       "      <td>11.620350</td>\n",
       "      <td>130.089108</td>\n",
       "      <td>11.619538</td>\n",
       "    </tr>\n",
       "    <tr>\n",
       "      <th>4</th>\n",
       "      <td>2018-02-05 07:01:11</td>\n",
       "      <td>129.304417</td>\n",
       "      <td>12.186967</td>\n",
       "      <td>0.9934</td>\n",
       "      <td>0.0075</td>\n",
       "      <td>0.2490</td>\n",
       "      <td>9.7350</td>\n",
       "      <td>15.64</td>\n",
       "      <td>1</td>\n",
       "      <td>129.070328</td>\n",
       "      <td>...</td>\n",
       "      <td>o</td>\n",
       "      <td>2.458155e+06</td>\n",
       "      <td>129.513283</td>\n",
       "      <td>12.718625</td>\n",
       "      <td>128.627360</td>\n",
       "      <td>12.718549</td>\n",
       "      <td>128.629102</td>\n",
       "      <td>11.852312</td>\n",
       "      <td>129.511896</td>\n",
       "      <td>11.852223</td>\n",
       "    </tr>\n",
       "    <tr>\n",
       "      <th>5</th>\n",
       "      <td>2018-02-05 07:01:54</td>\n",
       "      <td>129.296470</td>\n",
       "      <td>12.200286</td>\n",
       "      <td>0.9934</td>\n",
       "      <td>0.0075</td>\n",
       "      <td>0.3748</td>\n",
       "      <td>9.7371</td>\n",
       "      <td>15.64</td>\n",
       "      <td>1</td>\n",
       "      <td>129.649259</td>\n",
       "      <td>...</td>\n",
       "      <td>o</td>\n",
       "      <td>2.458155e+06</td>\n",
       "      <td>130.092073</td>\n",
       "      <td>12.486768</td>\n",
       "      <td>129.207114</td>\n",
       "      <td>12.487391</td>\n",
       "      <td>129.208189</td>\n",
       "      <td>11.621136</td>\n",
       "      <td>130.089971</td>\n",
       "      <td>11.620310</td>\n",
       "    </tr>\n",
       "    <tr>\n",
       "      <th>6</th>\n",
       "      <td>2018-02-05 07:30:26</td>\n",
       "      <td>128.976880</td>\n",
       "      <td>12.733908</td>\n",
       "      <td>0.9933</td>\n",
       "      <td>0.0075</td>\n",
       "      <td>0.4280</td>\n",
       "      <td>9.8423</td>\n",
       "      <td>15.62</td>\n",
       "      <td>1</td>\n",
       "      <td>129.071104</td>\n",
       "      <td>...</td>\n",
       "      <td>o</td>\n",
       "      <td>2.458155e+06</td>\n",
       "      <td>129.515615</td>\n",
       "      <td>13.585218</td>\n",
       "      <td>128.626757</td>\n",
       "      <td>13.584987</td>\n",
       "      <td>128.628209</td>\n",
       "      <td>12.718695</td>\n",
       "      <td>129.514140</td>\n",
       "      <td>12.718796</td>\n",
       "    </tr>\n",
       "  </tbody>\n",
       "</table>\n",
       "<p>7 rows × 32 columns</p>\n",
       "</div>"
      ],
      "text/plain": [
       "              obsdate      ra_obj    dec_obj  sun_dist  geo_dist  dist_ctr  \\\n",
       "0 2018-02-05 05:33:25  130.243140  10.591412    0.9936    0.0077    0.3695   \n",
       "1 2018-02-05 06:01:52  129.946506  11.101031    0.9935    0.0077    0.1305   \n",
       "2 2018-02-05 06:31:50  129.625980  11.645721    0.9934    0.0076    0.5217   \n",
       "3 2018-02-05 06:32:33  129.618211  11.658854    0.9934    0.0076    0.3954   \n",
       "4 2018-02-05 07:01:11  129.304417  12.186967    0.9934    0.0075    0.2490   \n",
       "5 2018-02-05 07:01:54  129.296470  12.200286    0.9934    0.0075    0.3748   \n",
       "6 2018-02-05 07:30:26  128.976880  12.733908    0.9933    0.0075    0.4280   \n",
       "\n",
       "    phase   vmag  match          ra  ...  imgtypecode         obsjd  \\\n",
       "0  9.6662  15.69      1  129.946763  ...            o  2.458155e+06   \n",
       "1  9.6479  15.67      1  129.949892  ...            o  2.458155e+06   \n",
       "2  9.6703  15.65      1  129.950695  ...            o  2.458155e+06   \n",
       "3  9.6713  15.65      1  129.648394  ...            o  2.458155e+06   \n",
       "4  9.7350  15.64      1  129.070328  ...            o  2.458155e+06   \n",
       "5  9.7371  15.64      1  129.649259  ...            o  2.458155e+06   \n",
       "6  9.8423  15.62      1  129.071104  ...            o  2.458155e+06   \n",
       "\n",
       "          ra1       dec1         ra2       dec2         ra3       dec3  \\\n",
       "0  130.387829  10.796161  129.508055  10.798785  129.506884   9.932329   \n",
       "1  130.392207  11.663277  129.509977  11.666109  129.508681  10.799672   \n",
       "2  130.392986  11.664048  129.510776  11.666846  129.509495  10.800441   \n",
       "3  130.091191  12.485963  129.206230  12.486623  129.207328  11.620350   \n",
       "4  129.513283  12.718625  128.627360  12.718549  128.629102  11.852312   \n",
       "5  130.092073  12.486768  129.207114  12.487391  129.208189  11.621136   \n",
       "6  129.515615  13.585218  128.626757  13.584987  128.628209  12.718695   \n",
       "\n",
       "          ra4       dec4  \n",
       "0  130.383994   9.929949  \n",
       "1  130.388448  10.797038  \n",
       "2  130.389246  10.797863  \n",
       "3  130.089108  11.619538  \n",
       "4  129.511896  11.852223  \n",
       "5  130.089971  11.620310  \n",
       "6  129.514140  12.718796  \n",
       "\n",
       "[7 rows x 32 columns]"
      ]
     },
     "execution_count": 15,
     "metadata": {},
     "output_type": "execute_result"
    }
   ],
   "source": [
    "from io import StringIO\n",
    "r = irsa_return.text.split(\"\\n\")\n",
    "r = [' '.join(rr.split())[0:] for rr in r]\n",
    "data_str = '\\n'.join(r[20:])\n",
    "# display(data_str)\n",
    "\n",
    "column_names = [cn.strip() for cn in r[18].split('|')[1:-1]]\n",
    "# display(column_names)\n",
    "\n",
    "dff = pd.read_csv(StringIO(data_str), sep=' ', parse_dates=[[22, 23]], header=None)\n",
    "column_names.remove('obsdate')\n",
    "dff.columns = ['obsdate'] + column_names\n",
    "dff"
   ]
  },
  {
   "cell_type": "markdown",
   "metadata": {},
   "source": [
    "Here is a loop over the query result from MOST to find out which images will contain the target as a fast-mover. Note that we want the predicted magnitude of the object to be <20 since that's the typical depth of ZTF."
   ]
  },
  {
   "cell_type": "code",
   "execution_count": 16,
   "metadata": {},
   "outputs": [],
   "source": [
    "limiting_magnitude = 20"
   ]
  },
  {
   "cell_type": "markdown",
   "metadata": {},
   "source": [
    "We also make another query to Horizons to ensure the object is really a fast-mover on these dates. We do this as a double-check since Horizons produces the most precise ephemerides for NEAs. Horizons also tells us what the expected positional uncertainty will be. Obviously, we don't want the positional uncertainty to be too big -- say, over 20\"."
   ]
  },
  {
   "cell_type": "code",
   "execution_count": 17,
   "metadata": {},
   "outputs": [],
   "source": [
    "max_unc = 20"
   ]
  },
  {
   "cell_type": "markdown",
   "metadata": {},
   "source": [
    "And then we print out all the metadata that are potentially useful. We will just return the first entry (or it will be a very long entry!)"
   ]
  },
  {
   "cell_type": "code",
   "execution_count": 18,
   "metadata": {},
   "outputs": [
    {
     "name": "stdout",
     "output_type": "stream",
     "text": [
      "hit: object 2018 CL\n",
      "object name: 2018 CL\n",
      "image date (UT): 2018-02-05 05:33:25\n",
      "fracday: 20180205231528\n",
      "filter code: zr\n",
      "distance to the Sun: 0.9936 AU\n",
      "distance to the Earth: 0.0077 AU\n",
      "predicted V magnitude: 15.69\n",
      "ecliptic latitude: -7.4574757\n",
      "positional uncertainty: 2.31 arcsec\n"
     ]
    }
   ],
   "source": [
    "w = dff.vmag < limiting_magnitude\n",
    "\n",
    "for index, row in dff.loc[w].iterrows():\n",
    "    obj_this = Horizons(id=obj_name, location=ZTF_code, epochs=row.obsjd)\n",
    "    eph = obj_this.ephemerides()\n",
    "    ztf_entry_rate = np.sqrt(eph['RA_rate'][0]**2 + eph['DEC_rate'][0]**2)\n",
    "\n",
    "    if ztf_entry_rate > min_rate:\n",
    "        ztf_entry_unc = np.sqrt(eph['RA_3sigma'][0]**2 + eph['DEC_3sigma'][0]**2)\n",
    "\n",
    "        if ztf_entry_unc < max_unc:\n",
    "            print('hit: object {}'.format(obj_name))\n",
    "\n",
    "            print('object name:', obj_name)\n",
    "            print('image date (UT):', row.obsdate)\n",
    "            print('fracday:', row.filefracday)\n",
    "            print('filter code:', row.filtercode)\n",
    "            print('distance to the Sun:', row.sun_dist, 'AU')\n",
    "            print('distance to the Earth:', row.geo_dist, 'AU')\n",
    "            print('predicted V magnitude:', row.vmag)\n",
    "            print('ecliptic latitude:', eph['ObsEclLat'][0])\n",
    "            print('positional uncertainty: {:.2f} arcsec'.format(ztf_entry_unc))\n",
    "\n",
    "            break"
   ]
  },
  {
   "cell_type": "markdown",
   "metadata": {},
   "source": [
    "Voila! You made it. Note that it takes quite a bit of time (a day or two) to loop over the entire NEA catalog -- this is because Horizons has to calculate the ephemerides for each of these ~15,000 NEAs and this is slow! Therefore, we provide a pre-generated result file for you to proceed to step 2. "
   ]
  },
  {
   "cell_type": "markdown",
   "metadata": {},
   "source": [
    "But do take a few known asteroids and see what you get for them. "
   ]
  },
  {
   "cell_type": "markdown",
   "metadata": {},
   "source": [
    "## Step 2: compare the catalog derived from step 1 to the source catalog generated by ZTF streak detection pipeline"
   ]
  },
  {
   "cell_type": "markdown",
   "metadata": {},
   "source": [
    "Let's read in the result of step 1... (OK, we cheated, it is pre-generated)"
   ]
  },
  {
   "cell_type": "code",
   "execution_count": 19,
   "metadata": {},
   "outputs": [],
   "source": [
    "path_fmo = os.path.join(path_data, 'check_fmo.txt')\n",
    "check_fmo = np.genfromtxt(path_fmo, dtype=None, \\\n",
    "                          delimiter=(12, 10, 6, 10, 10, 10, 5, 10, 10, 10), \\\n",
    "                          encoding='utf-8',\n",
    "                          names=[\"object\", \"dateUT\", \"filter\", \"rate\", \"sundist\", \\\n",
    "                                \"geodist\", \"vmag\", \"ecllat\", \"unc\", \"fracday\"])[:-1]\n",
    "# convert to pandas dataframe\n",
    "df_check_fmo = pd.DataFrame(check_fmo)\n",
    "# comb object names:\n",
    "df_check_fmo['object'] = df_check_fmo['object'].str.strip()\n",
    "# compute jd's:\n",
    "df_check_fmo['jd'] = df_check_fmo['dateUT'].apply(lambda x: \n",
    "                                                  Time(datetime.datetime.strptime(str(x), '%Y%m%d')).jd)\n",
    "df_check_fmo['jd'] = df_check_fmo['jd'] + df_check_fmo['fracday']/1000000"
   ]
  },
  {
   "cell_type": "markdown",
   "metadata": {},
   "source": [
    "And also we read the source files from ZTF... essentially, these are a large number of \"streak_qa\" files, each file contains candidate streaks in one image. Apparently, we want to loop over them and see if there is any candidate that coincides the position of a known streaking NEA. We also record the rate and mag of detections and non-detections for diagnostic purposes.\n",
    "\n",
    "For a demonstration, let us pick one of them to show how this whole thing works. Let us start with our old friend, `2018 CL`."
   ]
  },
  {
   "cell_type": "code",
   "execution_count": 20,
   "metadata": {},
   "outputs": [
    {
     "data": {
      "text/html": [
       "<div>\n",
       "<style scoped>\n",
       "    .dataframe tbody tr th:only-of-type {\n",
       "        vertical-align: middle;\n",
       "    }\n",
       "\n",
       "    .dataframe tbody tr th {\n",
       "        vertical-align: top;\n",
       "    }\n",
       "\n",
       "    .dataframe thead th {\n",
       "        text-align: right;\n",
       "    }\n",
       "</style>\n",
       "<table border=\"1\" class=\"dataframe\">\n",
       "  <thead>\n",
       "    <tr style=\"text-align: right;\">\n",
       "      <th></th>\n",
       "      <th>object</th>\n",
       "      <th>dateUT</th>\n",
       "      <th>filter</th>\n",
       "      <th>rate</th>\n",
       "      <th>sundist</th>\n",
       "      <th>geodist</th>\n",
       "      <th>vmag</th>\n",
       "      <th>ecllat</th>\n",
       "      <th>unc</th>\n",
       "      <th>fracday</th>\n",
       "      <th>jd</th>\n",
       "    </tr>\n",
       "  </thead>\n",
       "  <tbody>\n",
       "    <tr>\n",
       "      <th>2154</th>\n",
       "      <td>2018 CL</td>\n",
       "      <td>20180205</td>\n",
       "      <td>zr</td>\n",
       "      <td>1.227526</td>\n",
       "      <td>0.9936</td>\n",
       "      <td>0.0077</td>\n",
       "      <td>15.69</td>\n",
       "      <td>-7.4575</td>\n",
       "      <td>2.3094</td>\n",
       "      <td>231528</td>\n",
       "      <td>2.458155e+06</td>\n",
       "    </tr>\n",
       "    <tr>\n",
       "      <th>2155</th>\n",
       "      <td>2018 CL</td>\n",
       "      <td>20180205</td>\n",
       "      <td>zr</td>\n",
       "      <td>1.248343</td>\n",
       "      <td>0.9935</td>\n",
       "      <td>0.0077</td>\n",
       "      <td>15.67</td>\n",
       "      <td>-7.0404</td>\n",
       "      <td>2.2283</td>\n",
       "      <td>251296</td>\n",
       "      <td>2.458155e+06</td>\n",
       "    </tr>\n",
       "    <tr>\n",
       "      <th>2156</th>\n",
       "      <td>2018 CL</td>\n",
       "      <td>20180205</td>\n",
       "      <td>zr</td>\n",
       "      <td>1.269654</td>\n",
       "      <td>0.9934</td>\n",
       "      <td>0.0076</td>\n",
       "      <td>15.65</td>\n",
       "      <td>-6.5944</td>\n",
       "      <td>2.1525</td>\n",
       "      <td>272106</td>\n",
       "      <td>2.458155e+06</td>\n",
       "    </tr>\n",
       "    <tr>\n",
       "      <th>2157</th>\n",
       "      <td>2018 CL</td>\n",
       "      <td>20180205</td>\n",
       "      <td>zr</td>\n",
       "      <td>1.270154</td>\n",
       "      <td>0.9934</td>\n",
       "      <td>0.0076</td>\n",
       "      <td>15.65</td>\n",
       "      <td>-6.5837</td>\n",
       "      <td>2.1503</td>\n",
       "      <td>272593</td>\n",
       "      <td>2.458155e+06</td>\n",
       "    </tr>\n",
       "    <tr>\n",
       "      <th>2158</th>\n",
       "      <td>2018 CL</td>\n",
       "      <td>20180205</td>\n",
       "      <td>zr</td>\n",
       "      <td>1.289839</td>\n",
       "      <td>0.9934</td>\n",
       "      <td>0.0075</td>\n",
       "      <td>15.64</td>\n",
       "      <td>-6.1510</td>\n",
       "      <td>2.0896</td>\n",
       "      <td>292488</td>\n",
       "      <td>2.458155e+06</td>\n",
       "    </tr>\n",
       "    <tr>\n",
       "      <th>2159</th>\n",
       "      <td>2018 CL</td>\n",
       "      <td>20180205</td>\n",
       "      <td>zr</td>\n",
       "      <td>1.290324</td>\n",
       "      <td>0.9934</td>\n",
       "      <td>0.0075</td>\n",
       "      <td>15.64</td>\n",
       "      <td>-6.1401</td>\n",
       "      <td>2.0887</td>\n",
       "      <td>292986</td>\n",
       "      <td>2.458155e+06</td>\n",
       "    </tr>\n",
       "    <tr>\n",
       "      <th>2160</th>\n",
       "      <td>2018 CL</td>\n",
       "      <td>20180205</td>\n",
       "      <td>zr</td>\n",
       "      <td>1.309231</td>\n",
       "      <td>0.9933</td>\n",
       "      <td>0.0075</td>\n",
       "      <td>15.63</td>\n",
       "      <td>-5.7026</td>\n",
       "      <td>2.0425</td>\n",
       "      <td>312789</td>\n",
       "      <td>2.458155e+06</td>\n",
       "    </tr>\n",
       "    <tr>\n",
       "      <th>2161</th>\n",
       "      <td>2018 CL</td>\n",
       "      <td>20180206</td>\n",
       "      <td>zr</td>\n",
       "      <td>2.040896</td>\n",
       "      <td>0.9908</td>\n",
       "      <td>0.0060</td>\n",
       "      <td>16.25</td>\n",
       "      <td>20.8280</td>\n",
       "      <td>1.6937</td>\n",
       "      <td>200660</td>\n",
       "      <td>2.458156e+06</td>\n",
       "    </tr>\n",
       "    <tr>\n",
       "      <th>2162</th>\n",
       "      <td>2018 CL</td>\n",
       "      <td>20180206</td>\n",
       "      <td>zr</td>\n",
       "      <td>2.036865</td>\n",
       "      <td>0.9907</td>\n",
       "      <td>0.0060</td>\n",
       "      <td>16.29</td>\n",
       "      <td>21.5240</td>\n",
       "      <td>1.7108</td>\n",
       "      <td>221644</td>\n",
       "      <td>2.458156e+06</td>\n",
       "    </tr>\n",
       "    <tr>\n",
       "      <th>2163</th>\n",
       "      <td>2018 CL</td>\n",
       "      <td>20180206</td>\n",
       "      <td>zr</td>\n",
       "      <td>2.036738</td>\n",
       "      <td>0.9907</td>\n",
       "      <td>0.0060</td>\n",
       "      <td>16.29</td>\n",
       "      <td>21.5400</td>\n",
       "      <td>1.7116</td>\n",
       "      <td>222141</td>\n",
       "      <td>2.458156e+06</td>\n",
       "    </tr>\n",
       "    <tr>\n",
       "      <th>2164</th>\n",
       "      <td>2018 CL</td>\n",
       "      <td>20180206</td>\n",
       "      <td>zr</td>\n",
       "      <td>2.031008</td>\n",
       "      <td>0.9907</td>\n",
       "      <td>0.0060</td>\n",
       "      <td>16.31</td>\n",
       "      <td>22.1257</td>\n",
       "      <td>1.7434</td>\n",
       "      <td>239988</td>\n",
       "      <td>2.458156e+06</td>\n",
       "    </tr>\n",
       "  </tbody>\n",
       "</table>\n",
       "</div>"
      ],
      "text/plain": [
       "       object    dateUT  filter      rate  sundist  geodist   vmag   ecllat  \\\n",
       "2154  2018 CL  20180205    zr    1.227526   0.9936   0.0077  15.69  -7.4575   \n",
       "2155  2018 CL  20180205    zr    1.248343   0.9935   0.0077  15.67  -7.0404   \n",
       "2156  2018 CL  20180205    zr    1.269654   0.9934   0.0076  15.65  -6.5944   \n",
       "2157  2018 CL  20180205    zr    1.270154   0.9934   0.0076  15.65  -6.5837   \n",
       "2158  2018 CL  20180205    zr    1.289839   0.9934   0.0075  15.64  -6.1510   \n",
       "2159  2018 CL  20180205    zr    1.290324   0.9934   0.0075  15.64  -6.1401   \n",
       "2160  2018 CL  20180205    zr    1.309231   0.9933   0.0075  15.63  -5.7026   \n",
       "2161  2018 CL  20180206    zr    2.040896   0.9908   0.0060  16.25  20.8280   \n",
       "2162  2018 CL  20180206    zr    2.036865   0.9907   0.0060  16.29  21.5240   \n",
       "2163  2018 CL  20180206    zr    2.036738   0.9907   0.0060  16.29  21.5400   \n",
       "2164  2018 CL  20180206    zr    2.031008   0.9907   0.0060  16.31  22.1257   \n",
       "\n",
       "         unc  fracday            jd  \n",
       "2154  2.3094   231528  2.458155e+06  \n",
       "2155  2.2283   251296  2.458155e+06  \n",
       "2156  2.1525   272106  2.458155e+06  \n",
       "2157  2.1503   272593  2.458155e+06  \n",
       "2158  2.0896   292488  2.458155e+06  \n",
       "2159  2.0887   292986  2.458155e+06  \n",
       "2160  2.0425   312789  2.458155e+06  \n",
       "2161  1.6937   200660  2.458156e+06  \n",
       "2162  1.7108   221644  2.458156e+06  \n",
       "2163  1.7116   222141  2.458156e+06  \n",
       "2164  1.7434   239988  2.458156e+06  "
      ]
     },
     "execution_count": 20,
     "metadata": {},
     "output_type": "execute_result"
    }
   ],
   "source": [
    "# for cfi in check_fmo:\n",
    "#     if cfi[0].strip() == '2018 CL':\n",
    "#         break\n",
    "ww = df_check_fmo.object == '2018 CL'\n",
    "# df_check_fmo.loc[ww, 'jd'].values\n",
    "df_check_fmo.loc[ww]"
   ]
  },
  {
   "cell_type": "markdown",
   "metadata": {},
   "source": [
    "What are the uncertainty ranges (in arcsec) for these entries?"
   ]
  },
  {
   "cell_type": "code",
   "execution_count": 21,
   "metadata": {},
   "outputs": [
    {
     "data": {
      "text/plain": [
       "array([2.3094, 2.2283, 2.1525, 2.1503, 2.0896, 2.0887, 2.0425, 1.6937,\n",
       "       1.7108, 1.7116, 1.7434])"
      ]
     },
     "execution_count": 21,
     "metadata": {},
     "output_type": "execute_result"
    }
   ],
   "source": [
    "df_check_fmo.loc[ww, 'unc'].values"
   ]
  },
  {
   "cell_type": "markdown",
   "metadata": {},
   "source": [
    "This is very precise! Well, we know it should be small because the orbit from JPL was calculated using ZTF observations :)\n",
    "\n",
    "Now, let us obtain the predicted coordinates for `2018 CL` at these epochs using what we have just learned in Step 1."
   ]
  },
  {
   "cell_type": "code",
   "execution_count": 22,
   "metadata": {},
   "outputs": [
    {
     "data": {
      "text/plain": [
       "array([2458154.731528, 2458154.751296, 2458154.772106, 2458154.772593,\n",
       "       2458154.792488, 2458154.792986, 2458154.812789, 2458155.70066 ,\n",
       "       2458155.721644, 2458155.722141, 2458155.739988])"
      ]
     },
     "execution_count": 22,
     "metadata": {},
     "output_type": "execute_result"
    }
   ],
   "source": [
    "expTimeJD = df_check_fmo.loc[ww, 'jd'].values\n",
    "expTimeJD"
   ]
  },
  {
   "cell_type": "code",
   "execution_count": 23,
   "metadata": {},
   "outputs": [
    {
     "data": {
      "text/html": [
       "<i>Table masked=True length=11</i>\n",
       "<table id=\"table140253492018312\" class=\"table-striped table-bordered table-condensed\">\n",
       "<thead><tr><th>targetname</th><th>datetime_str</th><th>datetime_jd</th><th>H</th><th>G</th><th>solar_presence</th><th>flags</th><th>RA</th><th>DEC</th><th>RA_app</th><th>DEC_app</th><th>RA_rate</th><th>DEC_rate</th><th>AZ</th><th>EL</th><th>AZ_rate</th><th>EL_rate</th><th>sat_X</th><th>sat_Y</th><th>sat_PANG</th><th>siderealtime</th><th>airmass</th><th>magextinct</th><th>V</th><th>illumination</th><th>illum_defect</th><th>sat_sep</th><th>sat_vis</th><th>ang_width</th><th>PDObsLon</th><th>PDObsLat</th><th>PDSunLon</th><th>PDSunLat</th><th>SubSol_ang</th><th>SubSol_dist</th><th>NPole_ang</th><th>NPole_dist</th><th>EclLon</th><th>EclLat</th><th>r</th><th>r_rate</th><th>delta</th><th>delta_rate</th><th>lighttime</th><th>vel_sun</th><th>vel_obs</th><th>elong</th><th>elongFlag</th><th>alpha</th><th>lunar_elong</th><th>lunar_illum</th><th>sat_alpha</th><th>sunTargetPA</th><th>velocityPA</th><th>OrbPlaneAng</th><th>constellation</th><th>TDB-UT</th><th>ObsEclLon</th><th>ObsEclLat</th><th>NPole_RA</th><th>NPole_DEC</th><th>GlxLon</th><th>GlxLat</th><th>solartime</th><th>earth_lighttime</th><th>RA_3sigma</th><th>DEC_3sigma</th><th>SMAA_3sigma</th><th>SMIA_3sigma</th><th>Theta_3sigma</th><th>Area_3sigma</th><th>RSS_3sigma</th><th>r_3sigma</th><th>r_rate_3sigma</th><th>SBand_3sigma</th><th>XBand_3sigma</th><th>DoppDelay_3sigma</th><th>true_anom</th><th>hour_angle</th><th>alpha_true</th><th>PABLon</th><th>PABLat</th></tr></thead>\n",
       "<thead><tr><th>---</th><th>---</th><th>d</th><th>mag</th><th>---</th><th>---</th><th>---</th><th>deg</th><th>deg</th><th>deg</th><th>deg</th><th>arcsec / h</th><th>arcsec / h</th><th>deg</th><th>deg</th><th>arcsec / min</th><th>arcsec / min</th><th>arcsec</th><th>arcsec</th><th>deg</th><th>---</th><th>---</th><th>mag</th><th>mag</th><th>%</th><th>arcsec</th><th>arcsec</th><th>---</th><th>arcsec</th><th>deg</th><th>deg</th><th>deg</th><th>deg</th><th>deg</th><th>arcsec</th><th>deg</th><th>arcsec</th><th>deg</th><th>deg</th><th>AU</th><th>km / s</th><th>AU</th><th>km / s</th><th>min</th><th>km / s</th><th>km / s</th><th>deg</th><th>---</th><th>deg</th><th>deg</th><th>%</th><th>deg</th><th>deg</th><th>deg</th><th>deg</th><th>---</th><th>s</th><th>deg</th><th>deg</th><th>deg</th><th>deg</th><th>deg</th><th>deg</th><th>---</th><th>min</th><th>arcsec</th><th>arcsec</th><th>arcsec</th><th>arcsec</th><th>deg</th><th>arcsec2</th><th>arcsec</th><th>km</th><th>km / s</th><th>Hz</th><th>Hz</th><th>s</th><th>deg</th><th>---</th><th>deg</th><th>deg</th><th>deg</th></tr></thead>\n",
       "<thead><tr><th>str9</th><th>str24</th><th>float64</th><th>float64</th><th>float64</th><th>str1</th><th>str1</th><th>float64</th><th>float64</th><th>float64</th><th>float64</th><th>float64</th><th>float64</th><th>float64</th><th>float64</th><th>float64</th><th>float64</th><th>float64</th><th>float64</th><th>float64</th><th>float64</th><th>float64</th><th>float64</th><th>float64</th><th>float64</th><th>int64</th><th>float64</th><th>str1</th><th>int64</th><th>int64</th><th>int64</th><th>int64</th><th>int64</th><th>float64</th><th>float64</th><th>int64</th><th>int64</th><th>float64</th><th>float64</th><th>float64</th><th>float64</th><th>float64</th><th>float64</th><th>float64</th><th>float64</th><th>float64</th><th>float64</th><th>str2</th><th>float64</th><th>float64</th><th>float64</th><th>float64</th><th>float64</th><th>float64</th><th>float64</th><th>str3</th><th>float64</th><th>float64</th><th>float64</th><th>int64</th><th>int64</th><th>float64</th><th>float64</th><th>float64</th><th>float64</th><th>float64</th><th>float64</th><th>float64</th><th>float64</th><th>float64</th><th>float64</th><th>float64</th><th>float64</th><th>float64</th><th>float64</th><th>float64</th><th>float64</th><th>float64</th><th>float64</th><th>float64</th><th>float64</th><th>float64</th></tr></thead>\n",
       "<tr><td>(2018 CL)</td><td>2018-Feb-05 05:33:24.019</td><td>2458154.731527998</td><td>25.5</td><td>0.15</td><td></td><td></td><td>130.24304</td><td>10.59115</td><td>130.49171</td><td>10.52376</td><td>-2179.93</td><td>3843.943</td><td>124.2903</td><td>55.1746</td><td>612.91</td><td>693.91</td><td>594314.5</td><td>95242.96</td><td>122.733</td><td>6.7875558247</td><td>1.217</td><td>0.21</td><td>15.55</td><td>99.291</td><td>--</td><td>612957.6</td><td>*</td><td>--</td><td>--</td><td>--</td><td>--</td><td>--</td><td>235.37</td><td>0.0</td><td>--</td><td>--</td><td>136.0615</td><td>-0.0588</td><td>0.993552869965</td><td>-4.8924091</td><td>0.00768971056396</td><td>-5.5523857</td><td>0.063953</td><td>27.28735</td><td>8.81488</td><td>170.266</td><td>/T</td><td>9.6587</td><td>69.6</td><td>73.2</td><td>0.0714</td><td>55.334</td><td>274.969</td><td>6.00716</td><td>Cnc</td><td>69.18491</td><td>130.0804119</td><td>-7.4577146</td><td>--</td><td>--</td><td>215.728881</td><td>29.094296</td><td>21.5336100124</td><td>0.000354</td><td>1.32</td><td>1.895</td><td>2.098</td><td>0.965</td><td>-61.08</td><td>12.72</td><td>2.309</td><td>1487.7261</td><td>0.0070343</td><td>111.58</td><td>405.53</td><td>0.009925</td><td>217.3296</td><td>-1.911891179</td><td>9.6624</td><td>132.954</td><td>-3.7651</td></tr>\n",
       "<tr><td>(2018 CL)</td><td>2018-Feb-05 06:01:51.974</td><td>2458154.751296</td><td>25.5</td><td>0.15</td><td></td><td></td><td>129.94623</td><td>11.10104</td><td>130.19566</td><td>11.03406</td><td>-2233.08</td><td>3899.962</td><td>133.9728</td><td>60.3813</td><td>689.84</td><td>616.66</td><td>593238.0</td><td>97058.28</td><td>119.167</td><td>7.2632867938</td><td>1.15</td><td>0.198</td><td>15.53</td><td>99.293</td><td>--</td><td>613028.4</td><td>*</td><td>--</td><td>--</td><td>--</td><td>--</td><td>--</td><td>238.82</td><td>0.0</td><td>--</td><td>--</td><td>136.0788</td><td>-0.0551</td><td>0.9934969982</td><td>-4.894901</td><td>0.00762695954652</td><td>-5.439166</td><td>0.063431</td><td>27.28936</td><td>8.79055</td><td>170.2857</td><td>/T</td><td>9.6398</td><td>70.2</td><td>73.0</td><td>0.0704</td><td>58.787</td><td>274.758</td><td>5.5131</td><td>Cnc</td><td>69.18491</td><td>129.6637802</td><td>-7.0403874</td><td>--</td><td>--</td><td>215.059059</td><td>29.046948</td><td>22.0080011039</td><td>0.000354</td><td>1.251</td><td>1.844</td><td>2.034</td><td>0.909</td><td>-61.82</td><td>11.62</td><td>2.228</td><td>1475.7983</td><td>0.0069451</td><td>110.22</td><td>400.57</td><td>0.009845</td><td>217.3509</td><td>-1.41642367</td><td>9.6438</td><td>132.7537</td><td>-3.5551</td></tr>\n",
       "<tr><td>(2018 CL)</td><td>2018-Feb-05 06:31:49.958</td><td>2458154.772106</td><td>25.5</td><td>0.15</td><td></td><td>m</td><td>129.62568</td><td>11.64573</td><td>129.87595</td><td>11.57917</td><td>-2285.77</td><td>3958.154</td><td>147.4687</td><td>64.9993</td><td>789.3</td><td>481.45</td><td>592076.6</td><td>98997.85</td><td>115.351</td><td>7.764094176</td><td>1.103</td><td>0.19</td><td>15.51</td><td>99.29</td><td>--</td><td>612951.3</td><td>*</td><td>--</td><td>--</td><td>--</td><td>--</td><td>--</td><td>242.52</td><td>0.0</td><td>--</td><td>--</td><td>136.097</td><td>-0.0512</td><td>0.993438150594</td><td>-4.8975326</td><td>0.00756232325144</td><td>-5.3157637</td><td>0.062894</td><td>27.29148</td><td>8.76104</td><td>170.2642</td><td>/T</td><td>9.6618</td><td>70.9</td><td>72.8</td><td>0.0696</td><td>62.479</td><td>274.524</td><td>4.98493</td><td>Cnc</td><td>69.184911</td><td>129.2172479</td><td>-6.5944512</td><td>--</td><td>--</td><td>214.342815</td><td>28.990766</td><td>22.5073968139</td><td>0.000354</td><td>1.194</td><td>1.791</td><td>1.972</td><td>0.862</td><td>-62.232</td><td>10.68</td><td>2.152</td><td>1463.4023</td><td>0.0068488</td><td>108.74</td><td>395.22</td><td>0.009763</td><td>217.3734</td><td>-0.894302169</td><td>9.6661</td><td>132.5388</td><td>-3.3306</td></tr>\n",
       "<tr><td>(2018 CL)</td><td>2018-Feb-05 06:32:32.035</td><td>2458154.772593</td><td>25.5</td><td>0.15</td><td></td><td>m</td><td>129.61809</td><td>11.65857</td><td>129.86837</td><td>11.59203</td><td>-2286.96</td><td>3959.505</td><td>147.8337</td><td>65.0927</td><td>791.73</td><td>477.41</td><td>592049.1</td><td>99043.58</td><td>115.261</td><td>7.7758141697</td><td>1.102</td><td>0.19</td><td>15.51</td><td>99.29</td><td>--</td><td>612947.6</td><td>*</td><td>--</td><td>--</td><td>--</td><td>--</td><td>--</td><td>242.6</td><td>0.0</td><td>--</td><td>--</td><td>136.0974</td><td>-0.0512</td><td>0.993436773052</td><td>-4.8975943</td><td>0.00756082847737</td><td>-5.3128316</td><td>0.062881</td><td>27.29153</td><td>8.76031</td><td>170.2632</td><td>/T</td><td>9.6629</td><td>70.9</td><td>72.8</td><td>0.0696</td><td>62.566</td><td>274.519</td><td>4.97247</td><td>Cnc</td><td>69.184911</td><td>129.2067048</td><td>-6.5839336</td><td>--</td><td>--</td><td>214.325921</td><td>28.989375</td><td>22.5190837593</td><td>0.000354</td><td>1.193</td><td>1.789</td><td>1.971</td><td>0.861</td><td>-62.236</td><td>10.66</td><td>2.151</td><td>1463.1142</td><td>0.0068465</td><td>108.71</td><td>395.1</td><td>0.009761</td><td>217.3739</td><td>-0.882077</td><td>9.6671</td><td>132.5337</td><td>-3.3253</td></tr>\n",
       "<tr><td>(2018 CL)</td><td>2018-Feb-05 07:01:10.963</td><td>2458154.792488</td><td>25.5</td><td>0.15</td><td></td><td>m</td><td>129.30411</td><td>12.18697</td><td>129.55521</td><td>12.12085</td><td>-2333.78</td><td>4014.326</td><td>164.7942</td><td>68.1258</td><td>882.83</td><td>271.63</td><td>590912.7</td><td>100925.5</td><td>111.586</td><td>8.2546014242</td><td>1.077</td><td>0.186</td><td>15.5</td><td>99.281</td><td>--</td><td>612720.3</td><td>*</td><td>--</td><td>--</td><td>--</td><td>--</td><td>--</td><td>246.16</td><td>0.0</td><td>--</td><td>--</td><td>136.1148</td><td>-0.0475</td><td>0.993380482623</td><td>-4.9001186</td><td>0.00750047438745</td><td>-5.1916258</td><td>0.06238</td><td>27.29356</td><td>8.72871</td><td>170.2001</td><td>/T</td><td>9.7262</td><td>71.5</td><td>72.6</td><td>0.0692</td><td>66.116</td><td>274.285</td><td>4.45966</td><td>Cnc</td><td>69.184912</td><td>128.7725203</td><td>-6.1510505</td><td>--</td><td>--</td><td>213.630693</td><td>28.929715</td><td>22.9965205306</td><td>0.000354</td><td>1.16</td><td>1.738</td><td>1.916</td><td>0.834</td><td>-62.134</td><td>10.04</td><td>2.09</td><td>1451.4249</td><td>0.0067521</td><td>107.27</td><td>389.86</td><td>0.009683</td><td>217.3956</td><td>-0.382412295</td><td>9.7307</td><td>132.3244</td><td>-3.1074</td></tr>\n",
       "<tr><td>(2018 CL)</td><td>2018-Feb-05 07:01:53.990</td><td>2458154.792986</td><td>25.5</td><td>0.15</td><td></td><td>m</td><td>129.29616</td><td>12.20029</td><td>129.54728</td><td>12.13418</td><td>-2334.91</td><td>4015.688</td><td>165.2673</td><td>68.1793</td><td>884.67</td><td>265.48</td><td>590883.9</td><td>100973.0</td><td>111.494</td><td>8.2665861483</td><td>1.077</td><td>0.186</td><td>15.5</td><td>99.28</td><td>--</td><td>612712.7</td><td>*</td><td>--</td><td>--</td><td>--</td><td>--</td><td>--</td><td>246.25</td><td>0.0</td><td>--</td><td>--</td><td>136.1153</td><td>-0.0474</td><td>0.993379073222</td><td>-4.9001819</td><td>0.00749898157337</td><td>-5.1885602</td><td>0.062367</td><td>27.29361</td><td>8.72788</td><td>170.198</td><td>/T</td><td>9.7283</td><td>71.5</td><td>72.6</td><td>0.0692</td><td>66.204</td><td>274.279</td><td>4.44673</td><td>Cnc</td><td>69.184912</td><td>128.7615674</td><td>-6.140134</td><td>--</td><td>--</td><td>213.613166</td><td>28.928151</td><td>23.0084714417</td><td>0.000354</td><td>1.16</td><td>1.737</td><td>1.915</td><td>0.833</td><td>-62.124</td><td>10.03</td><td>2.089</td><td>1451.1343</td><td>0.0067497</td><td>107.23</td><td>389.72</td><td>0.009681</td><td>217.3961</td><td>-0.369899095</td><td>9.7328</td><td>132.3192</td><td>-3.1019</td></tr>\n",
       "<tr><td>(2018 CL)</td><td>2018-Feb-05 07:30:24.970</td><td>2458154.812789</td><td>25.5</td><td>0.15</td><td></td><td>m</td><td>128.97677</td><td>12.73357</td><td>129.22871</td><td>12.66791</td><td>-2377.76</td><td>4069.449</td><td>185.287</td><td>69.2366</td><td>922.61</td><td>-4.97</td><td>589728.9</td><td>102872.7</td><td>107.845</td><td>8.7431593634</td><td>1.069</td><td>0.184</td><td>15.48</td><td>99.265</td><td>--</td><td>612335.2</td><td>*</td><td>--</td><td>--</td><td>--</td><td>--</td><td>--</td><td>249.77</td><td>0.0</td><td>--</td><td>--</td><td>136.1326</td><td>-0.0437</td><td>0.993323013544</td><td>-4.9027026</td><td>0.00744033821926</td><td>-5.0657041</td><td>0.061879</td><td>27.29564</td><td>8.69363</td><td>170.0931</td><td>/T</td><td>9.833</td><td>72.1</td><td>72.4</td><td>0.0692</td><td>69.723</td><td>274.034</td><td>3.9287</td><td>Cnc</td><td>69.184913</td><td>128.3228512</td><td>-5.7028178</td><td>--</td><td>--</td><td>212.911418</td><td>28.863303</td><td>23.4836998391</td><td>0.000354</td><td>1.153</td><td>1.686</td><td>1.866</td><td>0.83</td><td>-61.408</td><td>9.74</td><td>2.043</td><td>1439.6601</td><td>0.0066534</td><td>105.76</td><td>384.38</td><td>0.009604</td><td>217.4177</td><td>0.127911975</td><td>9.8378</td><td>132.1075</td><td>-2.8817</td></tr>\n",
       "<tr><td>(2018 CL)</td><td>2018-Feb-06 04:48:57.024</td><td>2458155.70066</td><td>25.5</td><td>0.15</td><td></td><td></td><td>107.20645</td><td>43.47362</td><td>107.53192</td><td>43.4427</td><td>-4695.54</td><td>5650.992</td><td>46.2186</td><td>74.0321</td><td>-486.73</td><td>556.77</td><td>512214.4</td><td>212685.4</td><td>37.957</td><td>6.1104035819</td><td>1.04</td><td>0.179</td><td>15.91</td><td>88.95</td><td>--</td><td>507442.3</td><td>*</td><td>--</td><td>--</td><td>--</td><td>--</td><td>--</td><td>305.34</td><td>0.0</td><td>--</td><td>--</td><td>136.9116</td><td>0.1217</td><td>0.990778842386</td><td>-5.021017</td><td>0.00597905620757</td><td>-0.1683572</td><td>0.049726</td><td>27.39492</td><td>8.85183</td><td>140.9562</td><td>/T</td><td>38.8272</td><td>104.7</td><td>63.9</td><td>0.2131</td><td>125.192</td><td>245.393</td><td>-26.92459</td><td>Aur</td><td>69.184933</td><td>103.5331741</td><td>20.8275914</td><td>--</td><td>--</td><td>173.871595</td><td>21.269769</td><td>20.7916021618</td><td>0.000354</td><td>1.094</td><td>1.293</td><td>1.492</td><td>0.802</td><td>-53.722</td><td>7.52</td><td>1.694</td><td>1152.283</td><td>0.0002764</td><td>4.97</td><td>18.08</td><td>0.007687</td><td>218.4806</td><td>-1.058391279</td><td>38.831</td><td>120.6768</td><td>10.9286</td></tr>\n",
       "<tr><td>(2018 CL)</td><td>2018-Feb-06 05:19:10.042</td><td>2458155.721644</td><td>25.5</td><td>0.15</td><td></td><td></td><td>106.28558</td><td>44.2571</td><td>106.61406</td><td>44.2278</td><td>-4767.75</td><td>5571.128</td><td>25.6387</td><td>77.713</td><td>-673.85</td><td>286.06</td><td>508975.0</td><td>215488.3</td><td>37.557</td><td>6.6153984043</td><td>1.023</td><td>0.176</td><td>15.94</td><td>88.393</td><td>--</td><td>503802.4</td><td>*</td><td>--</td><td>--</td><td>--</td><td>--</td><td>--</td><td>305.0</td><td>0.0</td><td>--</td><td>--</td><td>136.9301</td><td>0.1256</td><td>0.990717974468</td><td>-5.023791</td><td>0.0059781910205</td><td>0.0255822</td><td>0.049719</td><td>27.39744</td><td>8.83151</td><td>139.9451</td><td>/T</td><td>39.8336</td><td>105.5</td><td>63.7</td><td>0.2178</td><td>124.85</td><td>244.05</td><td>-27.75445</td><td>Aur</td><td>69.184933</td><td>102.7233136</td><td>21.523604</td><td>--</td><td>--</td><td>172.853793</td><td>20.878946</td><td>21.2951815016</td><td>0.000354</td><td>1.092</td><td>1.317</td><td>1.544</td><td>0.738</td><td>-53.588</td><td>7.16</td><td>1.711</td><td>1152.256</td><td>0.000272</td><td>4.82</td><td>17.51</td><td>0.007687</td><td>218.5072</td><td>-0.49220531</td><td>39.8374</td><td>120.3382</td><td>11.3172</td></tr>\n",
       "<tr><td>(2018 CL)</td><td>2018-Feb-06 05:19:52.982</td><td>2458155.722141</td><td>25.5</td><td>0.15</td><td></td><td></td><td>106.26346</td><td>44.27552</td><td>106.592</td><td>44.24626</td><td>-4769.36</td><td>5569.131</td><td>25.0061</td><td>77.7689</td><td>-677.41</td><td>277.06</td><td>508897.2</td><td>215554.2</td><td>37.547</td><td>6.6273590572</td><td>1.023</td><td>0.176</td><td>15.94</td><td>88.38</td><td>--</td><td>503716.2</td><td>*</td><td>--</td><td>--</td><td>--</td><td>--</td><td>--</td><td>304.99</td><td>0.0</td><td>--</td><td>--</td><td>136.9305</td><td>0.1257</td><td>0.990716532422</td><td>-5.0238566</td><td>0.00597819902293</td><td>0.0301728</td><td>0.049719</td><td>27.3975</td><td>8.83097</td><td>139.9212</td><td>/T</td><td>39.8575</td><td>105.6</td><td>63.7</td><td>0.2179</td><td>124.841</td><td>244.018</td><td>-27.77402</td><td>Aur</td><td>69.184934</td><td>102.7040308</td><td>21.5399923</td><td>--</td><td>--</td><td>172.829795</td><td>20.869588</td><td>21.3071086089</td><td>0.000354</td><td>1.092</td><td>1.318</td><td>1.545</td><td>0.737</td><td>-53.562</td><td>7.15</td><td>1.712</td><td>1152.2596</td><td>0.0002737</td><td>4.84</td><td>17.59</td><td>0.007687</td><td>218.5078</td><td>-0.478774409</td><td>39.8612</td><td>120.3301</td><td>11.3264</td></tr>\n",
       "<tr><td>(2018 CL)</td><td>2018-Feb-06 05:45:34.963</td><td>2458155.739988</td><td>25.5</td><td>0.15</td><td></td><td></td><td>105.45952</td><td>44.93236</td><td>105.79065</td><td>44.90453</td><td>-4824.04</td><td>5494.437</td><td>359.7798</td><td>78.4527</td><td>-719.18</td><td>-94.84</td><td>506070.0</td><td>217904.0</td><td>37.225</td><td>7.0568597554</td><td>1.02</td><td>0.176</td><td>15.96</td><td>87.897</td><td>--</td><td>500622.1</td><td>*</td><td>--</td><td>--</td><td>--</td><td>--</td><td>--</td><td>304.66</td><td>0.0</td><td>--</td><td>--</td><td>136.9462</td><td>0.129</td><td>0.990664736889</td><td>-5.0262076</td><td>0.00597935850154</td><td>0.1946532</td><td>0.049729</td><td>27.39965</td><td>8.80994</td><td>139.0617</td><td>/T</td><td>40.7129</td><td>106.3</td><td>63.5</td><td>0.2219</td><td>124.512</td><td>242.848</td><td>-28.47374</td><td>Lyn</td><td>69.184934</td><td>102.0087912</td><td>22.12535</td><td>--</td><td>--</td><td>171.97169</td><td>20.530756</td><td>21.7354041407</td><td>0.000354</td><td>1.126</td><td>1.331</td><td>1.595</td><td>0.703</td><td>-52.122</td><td>7.05</td><td>1.743</td><td>1152.5196</td><td>0.0003702</td><td>6.11</td><td>22.19</td><td>0.007689</td><td>218.5305</td><td>0.004149742</td><td>40.7166</td><td>120.0416</td><td>11.6554</td></tr>\n",
       "</table>"
      ],
      "text/plain": [
       "<Table masked=True length=11>\n",
       "targetname       datetime_str          datetime_jd    ...  PABLon   PABLat\n",
       "   ---               ---                    d         ...   deg      deg  \n",
       "   str9             str24                float64      ... float64  float64\n",
       "---------- ------------------------ ----------------- ... -------- -------\n",
       " (2018 CL) 2018-Feb-05 05:33:24.019 2458154.731527998 ...  132.954 -3.7651\n",
       " (2018 CL) 2018-Feb-05 06:01:51.974    2458154.751296 ... 132.7537 -3.5551\n",
       " (2018 CL) 2018-Feb-05 06:31:49.958    2458154.772106 ... 132.5388 -3.3306\n",
       " (2018 CL) 2018-Feb-05 06:32:32.035    2458154.772593 ... 132.5337 -3.3253\n",
       " (2018 CL) 2018-Feb-05 07:01:10.963    2458154.792488 ... 132.3244 -3.1074\n",
       " (2018 CL) 2018-Feb-05 07:01:53.990    2458154.792986 ... 132.3192 -3.1019\n",
       " (2018 CL) 2018-Feb-05 07:30:24.970    2458154.812789 ... 132.1075 -2.8817\n",
       " (2018 CL) 2018-Feb-06 04:48:57.024     2458155.70066 ... 120.6768 10.9286\n",
       " (2018 CL) 2018-Feb-06 05:19:10.042    2458155.721644 ... 120.3382 11.3172\n",
       " (2018 CL) 2018-Feb-06 05:19:52.982    2458155.722141 ... 120.3301 11.3264\n",
       " (2018 CL) 2018-Feb-06 05:45:34.963    2458155.739988 ... 120.0416 11.6554"
      ]
     },
     "execution_count": 23,
     "metadata": {},
     "output_type": "execute_result"
    }
   ],
   "source": [
    "obj_this = Horizons(id=obj_name, location=ZTF_code, epochs=expTimeJD)\n",
    "eph = obj_this.ephemerides()\n",
    "\n",
    "eph"
   ]
  },
  {
   "cell_type": "markdown",
   "metadata": {},
   "source": [
    "A simplistic approach is to loop through each small folder generated by findStreaks and see if there is any candidate matching the predicted RA and DEC:"
   ]
  },
  {
   "cell_type": "code",
   "execution_count": 24,
   "metadata": {},
   "outputs": [],
   "source": [
    "detectionRadius = 5/3600"
   ]
  },
  {
   "cell_type": "code",
   "execution_count": 25,
   "metadata": {},
   "outputs": [
    {
     "name": "stdout",
     "output_type": "stream",
     "text": [
      "YES! Streak found in data/run_merged/ztf_20180205231528_000517_zr_c06_o_q4/ztf_20180205231528_000517_zr_c06_o_q4_streaksqa.txt\n"
     ]
    }
   ],
   "source": [
    "path_streaks = os.path.join(path_data, 'run_merged', 'ztf*')\n",
    "d = sorted(glob.glob(path_streaks))\n",
    "# display(d)\n",
    "\n",
    "# let's look at the first epoch:\n",
    "targetRA = eph['RA'][0]\n",
    "targetDec = eph['DEC'][0]\n",
    "\n",
    "for di in d:\n",
    "    fileName = os.path.basename(di)\n",
    "    streaksQA_path = '{}/{}_streaksqa.txt'.format(di, fileName)\n",
    "    \n",
    "    if os.stat(streaksQA_path).st_size > 500:\n",
    "        try:\n",
    "            streaksQA = np.loadtxt(streaksQA_path, delimiter=',', comments='\\\\')\n",
    "            for streaksQA_item in streaksQA:\n",
    "                if (abs(streaksQA_item[1]-targetRA) < detectionRadius and \\\n",
    "                abs(streaksQA_item[2]-targetDec) < detectionRadius) or \\\n",
    "                (abs(streaksQA_item[3]-targetRA) < detectionRadius and \\\n",
    "                abs(streaksQA_item[4]-targetDec) < detectionRadius):\n",
    "                        print('YES! Streak found in', streaksQA_path)\n",
    "        except:\n",
    "            continue"
   ]
  },
  {
   "cell_type": "markdown",
   "metadata": {},
   "source": [
    "Wonderful! We have a hit! We can even take a look at the cutout to see what it looks like:"
   ]
  },
  {
   "cell_type": "code",
   "execution_count": 26,
   "metadata": {},
   "outputs": [
    {
     "name": "stdout",
     "output_type": "stream",
     "text": [
      "ztf_20180205231528_000517_zr_c06_o_q4\n",
      "data/run_merged/ztf_20180205231528_000517_zr_c06_o_q4/ztf_20180205231528_000517_zr_c06_o_q4_cutouts/strkid4002315323150002_pid400231532315_scimref.jpg\n"
     ]
    },
    {
     "data": {
      "image/jpeg": "[encoded data removed]",
      "text/plain": [
       "<IPython.core.display.Image object>"
      ]
     },
     "metadata": {
      "image/jpeg": {
       "height": 157,
       "width": 157
      }
     },
     "output_type": "display_data"
    }
   ],
   "source": [
    "for di in d:\n",
    "    fileName = os.path.basename(di)\n",
    "            \n",
    "    streaksQA_path = '{}/{}_streaksqa.txt'.format(di, fileName)\n",
    "    \n",
    "    if os.stat(streaksQA_path).st_size > 500:\n",
    "        try:\n",
    "            streaksQA = np.loadtxt(streaksQA_path, delimiter=',', comments='\\\\')\n",
    "            for streaksQA_item in streaksQA:\n",
    "                if (abs(streaksQA_item[1]-targetRA) < detectionRadius and \\\n",
    "                    abs(streaksQA_item[2]-targetDec) < detectionRadius) or \\\n",
    "                    (abs(streaksQA_item[3]-targetRA) < detectionRadius and \\\n",
    "                    abs(streaksQA_item[4]-targetDec) < detectionRadius):\n",
    "                        folder_name = di.split('/')[-1]\n",
    "                        print(folder_name)\n",
    "                        path_jpgs = os.path.join(path_data, 'run_merged', \n",
    "                                                 folder_name, folder_name + '_cutouts', '*jpg')\n",
    "                        jpgs = glob.glob(path_jpgs)\n",
    "                        print(jpgs[0])\n",
    "                        display(Image_jupyter(filename = jpgs[0], width=157, height=157))\n",
    "        except:\n",
    "            continue"
   ]
  },
  {
   "cell_type": "markdown",
   "metadata": {},
   "source": [
    "Voila! Now, homework for you: can you use the example shown above to work out the detection efficiency of ZTF?"
   ]
  },
  {
   "cell_type": "markdown",
   "metadata": {},
   "source": [
    "## Step 3: run a light version of DeepStreaks [optional]"
   ]
  },
  {
   "cell_type": "markdown",
   "metadata": {},
   "source": [
    "`DeepStreaks` is a convolutional-neural-network, deep-learning system designed to efficiently identify streaking fast-moving near-Earth objects, detected in the ZTF data. \n",
    "\n",
    "For details, please see [Duev et al., MNRAS.486.4158D, 2019](https://academic.oup.com/mnras/article-abstract/486/3/4158/5472913), [arXiv:1904.05920](https://arxiv.org/pdf/1904.05920.pdf), and [this Github repo](https://github.com/dmitryduev/DeepStreaks).\n",
    "\n",
    "We will load a light version of DeepStreaks and run it on the streaks to see if they would have been identified. `DeepStreaks` is implemented using `Google`'s `TensorFlow` library, so we will need it for this part."
   ]
  },
  {
   "cell_type": "code",
   "execution_count": 27,
   "metadata": {},
   "outputs": [],
   "source": [
    "#!pip install tensorflow\n",
    "import tensorflow as tf\n",
    "from PIL import Image, ImageOps"
   ]
  },
  {
   "cell_type": "code",
   "execution_count": 28,
   "metadata": {},
   "outputs": [],
   "source": [
    "def load_model_helper(path, model_base_name):\n",
    "    # return load_model(path)\n",
    "    with open(os.path.join(path, f'{model_base_name}.architecture.json'), 'r') as json_file:\n",
    "        loaded_model_json = json_file.read()\n",
    "    m = tf.keras.models.model_from_json(loaded_model_json)\n",
    "    m.load_weights(os.path.join(path, f'{model_base_name}.weights.h5'))\n",
    "\n",
    "    return m"
   ]
  },
  {
   "cell_type": "markdown",
   "metadata": {},
   "source": [
    "`DeepStreaks` consists of three sets of binary classifiers: the first one (real/bogus or $rb$) decides if a particular cutout contains a steak-like object (which includes the actual streaks and cosmic rays, for example), the second (short/long or $sl$) decides if a streak is long (i.e. caused by something that moves too fast like a LEO satellite) or short, and the third (keep/ditch or $kd$) makes the final judgement. If all three parts output a score >0.5, a streak is designated as a plausible FMO candidate.\n",
    "\n",
    "Download models from Github if necessary:"
   ]
  },
  {
   "cell_type": "code",
   "execution_count": 29,
   "metadata": {},
   "outputs": [
    {
     "name": "stdout",
     "output_type": "stream",
     "text": [
      "fetching rb_vgg6\n",
      "fetching sl_vgg6\n",
      "fetching kd_vgg6\n"
     ]
    }
   ],
   "source": [
    "model_names = {\n",
    "    \"rb_vgg6\": \"5b96af9c0354c9000b0aea36_VGG6_20181207_151757\",\n",
    "    \"sl_vgg6\": \"5b99b2c6aec3c500103a14de_VGG6_20181207_182618\",\n",
    "    \"kd_vgg6\": \"5be0ae7958830a0018821794_VGG6_20190210_011644\"\n",
    "}\n",
    "\n",
    "base_url = 'https://raw.githubusercontent.com/dmitryduev/DeepStreaks/master/service/models/'\n",
    "\n",
    "for model in model_names.keys():\n",
    "    print('fetching {}'.format(model))\n",
    "    for part in ('.architecture.json', '.weights.h5'):\n",
    "        r = requests.get(os.path.join(base_url, model_names[model] + part))\n",
    "        with open(os.path.join(path_data, model + part), 'wb') as f:\n",
    "            f.write(r.content)\n"
   ]
  },
  {
   "cell_type": "markdown",
   "metadata": {},
   "source": [
    "Load models:"
   ]
  },
  {
   "cell_type": "code",
   "execution_count": 30,
   "metadata": {},
   "outputs": [],
   "source": [
    "models = {m: load_model_helper(path_data, m) for m in model_names.keys()}"
   ]
  },
  {
   "cell_type": "markdown",
   "metadata": {},
   "source": [
    "Now let us load the cutout image and resize it to the shape expected by the models."
   ]
  },
  {
   "cell_type": "code",
   "execution_count": 31,
   "metadata": {},
   "outputs": [],
   "source": [
    "def load_cutout(path_image, resize=(144, 144)):\n",
    "    img = np.array(ImageOps.grayscale(Image.open(path_image)).resize(resize, Image.BILINEAR)) / 255.\n",
    "    img = np.expand_dims(img, 2)\n",
    "    return img"
   ]
  },
  {
   "cell_type": "code",
   "execution_count": 32,
   "metadata": {},
   "outputs": [
    {
     "data": {
      "text/plain": [
       "(1, 144, 144, 1)"
      ]
     },
     "execution_count": 32,
     "metadata": {},
     "output_type": "execute_result"
    }
   ],
   "source": [
    "img = load_cutout(jpgs[0])\n",
    "img = np.expand_dims(img, 0)\n",
    "img.shape"
   ]
  },
  {
   "cell_type": "code",
   "execution_count": 33,
   "metadata": {},
   "outputs": [
    {
     "name": "stdout",
     "output_type": "stream",
     "text": [
      "rb_vgg6 score: 0.68\n",
      "sl_vgg6 score: 1.00\n",
      "kd_vgg6 score: 0.00\n"
     ]
    }
   ],
   "source": [
    "for mn, m in models.items():\n",
    "    score = m.predict(img)\n",
    "    print('{} score: {:.2f}'.format(mn, score[0][0]))"
   ]
  },
  {
   "cell_type": "markdown",
   "metadata": {},
   "source": [
    "Great! This streak would have been successfully identified by `DeepStreaks`!"
   ]
  },
  {
   "cell_type": "markdown",
   "metadata": {},
   "source": [
    "#### Run `DeepStreaks` on some random streaks"
   ]
  },
  {
   "cell_type": "code",
   "execution_count": 34,
   "metadata": {},
   "outputs": [],
   "source": [
    "path_jpgs = os.path.join(path_data, 'run_merged', '*', '*', '*jpg')\n",
    "cutouts = glob.glob(path_jpgs)\n",
    "\n",
    "# set a random seed for result repeatability\n",
    "np.random.seed(5)\n",
    "sample = np.random.choice(cutouts, size=10)\n",
    "# sample\n",
    "\n",
    "df_sample = pd.DataFrame.from_records([{'name': os.path.basename(ii)} for ii in sample])"
   ]
  },
  {
   "cell_type": "code",
   "execution_count": 35,
   "metadata": {},
   "outputs": [
    {
     "name": "stdout",
     "output_type": "stream",
     "text": [
      "0: strkid4782480705150001_pid478248070515_scimref.jpg\n"
     ]
    },
    {
     "data": {
      "image/jpeg": "[encoded data removed]",
      "text/plain": [
       "<IPython.core.display.Image object>"
      ]
     },
     "metadata": {
      "image/jpeg": {
       "height": 157,
       "width": 157
      }
     },
     "output_type": "display_data"
    },
    {
     "name": "stdout",
     "output_type": "stream",
     "text": [
      "1: strkid4291671162150012_pid429167116215_scimref.jpg\n"
     ]
    },
    {
     "data": {
      "image/jpeg": "[encoded data removed]",
      "text/plain": [
       "<IPython.core.display.Image object>"
      ]
     },
     "metadata": {
      "image/jpeg": {
       "height": 157,
       "width": 157
      }
     },
     "output_type": "display_data"
    },
    {
     "name": "stdout",
     "output_type": "stream",
     "text": [
      "2: strkid3994190631150017_pid399419063115_scimref.jpg\n"
     ]
    },
    {
     "data": {
      "image/jpeg": "[encoded data removed]",
      "text/plain": [
       "<IPython.core.display.Image object>"
      ]
     },
     "metadata": {
      "image/jpeg": {
       "height": 157,
       "width": 157
      }
     },
     "output_type": "display_data"
    },
    {
     "name": "stdout",
     "output_type": "stream",
     "text": [
      "3: strkid4725070029150084_pid472507002915_scimref.jpg\n"
     ]
    },
    {
     "data": {
      "image/jpeg": "[encoded data removed]",
      "text/plain": [
       "<IPython.core.display.Image object>"
      ]
     },
     "metadata": {
      "image/jpeg": {
       "height": 157,
       "width": 157
      }
     },
     "output_type": "display_data"
    },
    {
     "name": "stdout",
     "output_type": "stream",
     "text": [
      "4: strkid4043829360150013_pid404382936015_scimref.jpg\n"
     ]
    },
    {
     "data": {
      "image/jpeg": "[encoded data removed]",
      "text/plain": [
       "<IPython.core.display.Image object>"
      ]
     },
     "metadata": {
      "image/jpeg": {
       "height": 157,
       "width": 157
      }
     },
     "output_type": "display_data"
    },
    {
     "name": "stdout",
     "output_type": "stream",
     "text": [
      "5: strkid3994200531150008_pid399420053115_scimref.jpg\n"
     ]
    },
    {
     "data": {
      "image/jpeg": "[encoded data removed]",
      "text/plain": [
       "<IPython.core.display.Image object>"
      ]
     },
     "metadata": {
      "image/jpeg": {
       "height": 157,
       "width": 157
      }
     },
     "output_type": "display_data"
    },
    {
     "name": "stdout",
     "output_type": "stream",
     "text": [
      "6: strkid4043982860150011_pid404398286015_scimref.jpg\n"
     ]
    },
    {
     "data": {
      "image/jpeg": "[encoded data removed]",
      "text/plain": [
       "<IPython.core.display.Image object>"
      ]
     },
     "metadata": {
      "image/jpeg": {
       "height": 157,
       "width": 157
      }
     },
     "output_type": "display_data"
    },
    {
     "name": "stdout",
     "output_type": "stream",
     "text": [
      "7: strkid3994245031150032_pid399424503115_scimref.jpg\n"
     ]
    },
    {
     "data": {
      "image/jpeg": "[encoded data removed]",
      "text/plain": [
       "<IPython.core.display.Image object>"
      ]
     },
     "metadata": {
      "image/jpeg": {
       "height": 157,
       "width": 157
      }
     },
     "output_type": "display_data"
    },
    {
     "name": "stdout",
     "output_type": "stream",
     "text": [
      "8: strkid4292585812150005_pid429258581215_scimref.jpg\n"
     ]
    },
    {
     "data": {
      "image/jpeg": "[encoded data removed]",
      "text/plain": [
       "<IPython.core.display.Image object>"
      ]
     },
     "metadata": {
      "image/jpeg": {
       "height": 157,
       "width": 157
      }
     },
     "output_type": "display_data"
    },
    {
     "name": "stdout",
     "output_type": "stream",
     "text": [
      "9: strkid3994254831150012_pid399425483115_scimref.jpg\n"
     ]
    },
    {
     "data": {
      "image/jpeg": "[encoded data removed]",
      "text/plain": [
       "<IPython.core.display.Image object>"
      ]
     },
     "metadata": {
      "image/jpeg": {
       "height": 157,
       "width": 157
      }
     },
     "output_type": "display_data"
    }
   ],
   "source": [
    "for ni, ii in enumerate(sample):\n",
    "    print('{}: {}'.format(ni, os.path.basename(ii)))\n",
    "    display(Image_jupyter(filename=ii, width=157, height=157))"
   ]
  },
  {
   "cell_type": "code",
   "execution_count": 36,
   "metadata": {},
   "outputs": [
    {
     "data": {
      "text/plain": [
       "(10, 144, 144, 1)"
      ]
     },
     "execution_count": 36,
     "metadata": {},
     "output_type": "execute_result"
    }
   ],
   "source": [
    "imgs = np.array([load_cutout(x) for x in sample])\n",
    "imgs.shape"
   ]
  },
  {
   "cell_type": "markdown",
   "metadata": {},
   "source": [
    "Let us now compute scores in batches and see if `DeepStreaks` would declare any of these streaks plausible candidates."
   ]
  },
  {
   "cell_type": "code",
   "execution_count": 37,
   "metadata": {},
   "outputs": [
    {
     "data": {
      "text/html": [
       "<div>\n",
       "<style scoped>\n",
       "    .dataframe tbody tr th:only-of-type {\n",
       "        vertical-align: middle;\n",
       "    }\n",
       "\n",
       "    .dataframe tbody tr th {\n",
       "        vertical-align: top;\n",
       "    }\n",
       "\n",
       "    .dataframe thead th {\n",
       "        text-align: right;\n",
       "    }\n",
       "</style>\n",
       "<table border=\"1\" class=\"dataframe\">\n",
       "  <thead>\n",
       "    <tr style=\"text-align: right;\">\n",
       "      <th></th>\n",
       "      <th>name</th>\n",
       "      <th>rb_vgg6</th>\n",
       "      <th>sl_vgg6</th>\n",
       "      <th>kd_vgg6</th>\n",
       "    </tr>\n",
       "  </thead>\n",
       "  <tbody>\n",
       "    <tr>\n",
       "      <th>0</th>\n",
       "      <td>strkid4782480705150001_pid478248070515_scimref...</td>\n",
       "      <td>3.368258e-04</td>\n",
       "      <td>0.999874</td>\n",
       "      <td>8.484721e-05</td>\n",
       "    </tr>\n",
       "    <tr>\n",
       "      <th>1</th>\n",
       "      <td>strkid4291671162150012_pid429167116215_scimref...</td>\n",
       "      <td>1.490116e-07</td>\n",
       "      <td>0.041698</td>\n",
       "      <td>0.000000e+00</td>\n",
       "    </tr>\n",
       "    <tr>\n",
       "      <th>2</th>\n",
       "      <td>strkid3994190631150017_pid399419063115_scimref...</td>\n",
       "      <td>5.904734e-04</td>\n",
       "      <td>0.999190</td>\n",
       "      <td>1.596470e-01</td>\n",
       "    </tr>\n",
       "    <tr>\n",
       "      <th>3</th>\n",
       "      <td>strkid4725070029150084_pid472507002915_scimref...</td>\n",
       "      <td>1.000000e+00</td>\n",
       "      <td>0.001227</td>\n",
       "      <td>0.000000e+00</td>\n",
       "    </tr>\n",
       "    <tr>\n",
       "      <th>4</th>\n",
       "      <td>strkid4043829360150013_pid404382936015_scimref...</td>\n",
       "      <td>0.000000e+00</td>\n",
       "      <td>0.511049</td>\n",
       "      <td>0.000000e+00</td>\n",
       "    </tr>\n",
       "    <tr>\n",
       "      <th>5</th>\n",
       "      <td>strkid3994200531150008_pid399420053115_scimref...</td>\n",
       "      <td>5.155802e-06</td>\n",
       "      <td>0.996235</td>\n",
       "      <td>3.379565e-02</td>\n",
       "    </tr>\n",
       "    <tr>\n",
       "      <th>6</th>\n",
       "      <td>strkid4043982860150011_pid404398286015_scimref...</td>\n",
       "      <td>1.279805e-01</td>\n",
       "      <td>0.000000</td>\n",
       "      <td>1.788139e-07</td>\n",
       "    </tr>\n",
       "    <tr>\n",
       "      <th>7</th>\n",
       "      <td>strkid3994245031150032_pid399424503115_scimref...</td>\n",
       "      <td>3.873050e-03</td>\n",
       "      <td>0.987488</td>\n",
       "      <td>6.705958e-01</td>\n",
       "    </tr>\n",
       "    <tr>\n",
       "      <th>8</th>\n",
       "      <td>strkid4292585812150005_pid429258581215_scimref...</td>\n",
       "      <td>0.000000e+00</td>\n",
       "      <td>0.478033</td>\n",
       "      <td>1.344086e-05</td>\n",
       "    </tr>\n",
       "    <tr>\n",
       "      <th>9</th>\n",
       "      <td>strkid3994254831150012_pid399425483115_scimref...</td>\n",
       "      <td>8.137374e-02</td>\n",
       "      <td>0.996968</td>\n",
       "      <td>3.687158e-01</td>\n",
       "    </tr>\n",
       "  </tbody>\n",
       "</table>\n",
       "</div>"
      ],
      "text/plain": [
       "                                                name       rb_vgg6   sl_vgg6  \\\n",
       "0  strkid4782480705150001_pid478248070515_scimref...  3.368258e-04  0.999874   \n",
       "1  strkid4291671162150012_pid429167116215_scimref...  1.490116e-07  0.041698   \n",
       "2  strkid3994190631150017_pid399419063115_scimref...  5.904734e-04  0.999190   \n",
       "3  strkid4725070029150084_pid472507002915_scimref...  1.000000e+00  0.001227   \n",
       "4  strkid4043829360150013_pid404382936015_scimref...  0.000000e+00  0.511049   \n",
       "5  strkid3994200531150008_pid399420053115_scimref...  5.155802e-06  0.996235   \n",
       "6  strkid4043982860150011_pid404398286015_scimref...  1.279805e-01  0.000000   \n",
       "7  strkid3994245031150032_pid399424503115_scimref...  3.873050e-03  0.987488   \n",
       "8  strkid4292585812150005_pid429258581215_scimref...  0.000000e+00  0.478033   \n",
       "9  strkid3994254831150012_pid399425483115_scimref...  8.137374e-02  0.996968   \n",
       "\n",
       "        kd_vgg6  \n",
       "0  8.484721e-05  \n",
       "1  0.000000e+00  \n",
       "2  1.596470e-01  \n",
       "3  0.000000e+00  \n",
       "4  0.000000e+00  \n",
       "5  3.379565e-02  \n",
       "6  1.788139e-07  \n",
       "7  6.705958e-01  \n",
       "8  1.344086e-05  \n",
       "9  3.687158e-01  "
      ]
     },
     "metadata": {},
     "output_type": "display_data"
    },
    {
     "name": "stdout",
     "output_type": "stream",
     "text": [
      "Plausible candidates:\n"
     ]
    },
    {
     "data": {
      "text/html": [
       "<div>\n",
       "<style scoped>\n",
       "    .dataframe tbody tr th:only-of-type {\n",
       "        vertical-align: middle;\n",
       "    }\n",
       "\n",
       "    .dataframe tbody tr th {\n",
       "        vertical-align: top;\n",
       "    }\n",
       "\n",
       "    .dataframe thead th {\n",
       "        text-align: right;\n",
       "    }\n",
       "</style>\n",
       "<table border=\"1\" class=\"dataframe\">\n",
       "  <thead>\n",
       "    <tr style=\"text-align: right;\">\n",
       "      <th></th>\n",
       "      <th>name</th>\n",
       "      <th>rb_vgg6</th>\n",
       "      <th>sl_vgg6</th>\n",
       "      <th>kd_vgg6</th>\n",
       "    </tr>\n",
       "  </thead>\n",
       "  <tbody>\n",
       "  </tbody>\n",
       "</table>\n",
       "</div>"
      ],
      "text/plain": [
       "Empty DataFrame\n",
       "Columns: [name, rb_vgg6, sl_vgg6, kd_vgg6]\n",
       "Index: []"
      ]
     },
     "metadata": {},
     "output_type": "display_data"
    }
   ],
   "source": [
    "for mn, m in models.items():\n",
    "    scores = m.predict(imgs)\n",
    "    df_sample[mn] = scores\n",
    "\n",
    "display(df_sample)\n",
    "\n",
    "print('Plausible candidates:')\n",
    "\n",
    "w = (df_sample['rb_vgg6'] > 0.5) & (df_sample['sl_vgg6'] > 0.5) & (df_sample['kd_vgg6'] > 0.5)\n",
    "display(df_sample.loc[w])"
   ]
  },
  {
   "cell_type": "markdown",
   "metadata": {},
   "source": [
    "Hooray! Streaks #4 and #8 were correctly identified!"
   ]
  }
 ],
 "metadata": {
  "kernelspec": {
   "display_name": "Python 3",
   "language": "python",
   "name": "python3"
  },
  "language_info": {
   "codemirror_mode": {
    "name": "ipython",
    "version": 3
   },
   "file_extension": ".py",
   "mimetype": "text/x-python",
   "name": "python",
   "nbconvert_exporter": "python",
   "pygments_lexer": "ipython3",
   "version": "3.7.5"
  }
 },
 "nbformat": 4,
 "nbformat_minor": 4
}
