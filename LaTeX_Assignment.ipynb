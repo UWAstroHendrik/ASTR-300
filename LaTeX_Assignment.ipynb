{
 "cells": [
  {
   "cell_type": "markdown",
   "metadata": {},
   "source": [
    "---\n",
    "\n",
    "## Some websites for this assignment:"
   ]
  },
  {
   "cell_type": "markdown",
   "metadata": {},
   "source": [
    "- ## [Overleaf](https://v2.overleaf.com/)\n",
    "\n",
    "- ## [Overleaf Docs and Help](https://v2.overleaf.com/learn)\n",
    "\n",
    "- ## [Latex Symbols](https://en.wikipedia.org/wiki/Wikipedia:LaTeX_symbols)\n",
    "\n",
    "- ## [Latex draw symbols](http://detexify.kirelabs.org/classify.html)\n",
    "\n",
    "- ## [The SAO/NASA Astrophysics Data System](https://ui.adsabs.harvard.edu/#classic-form)\n",
    "\n",
    "---\n",
    "\n",
    "- ## [Latex wikibook](https://en.wikibooks.org/wiki/LaTeX)"
   ]
  },
  {
   "cell_type": "markdown",
   "metadata": {},
   "source": [
    "---\n",
    "\n",
    "# $\\LaTeX$ Assignment"
   ]
  },
  {
   "cell_type": "raw",
   "metadata": {},
   "source": [
    "-----------------------------------------------------------------------------\n",
    "LaTeX homework - Create a LaTeX document with references.\n",
    "-----------------------------------------------------------------------------\n",
    "\n",
    "Start with the file: FirstLast.tex\n",
    "\n",
    "Minimum required elements:\n",
    "\n",
    "* Between 2 and 4 pages in length (pages > 4 will be ignored).\n",
    "\n",
    "* At least two paragraphs of text (the text should be coherent).\n",
    "\n",
    "* At least 5 references from ADS.\n",
    "\n",
    "  * Make sure to \\citep{} or \\citet{} the references in your paper\n",
    "\n",
    "* The equation on the blackboard.\n",
    "\n",
    "* One (or more) equation(s) of your choice.\n",
    "\n",
    "* Include the plot you generated last class (MyCoolPlot.png)\n",
    "\n",
    "* One other plot/image (do not reuse and old one!)\n",
    "\n",
    "* One table of at least 4 columns and 4 rows.\n",
    "\n",
    "* Bonus points given for interesting content!\n",
    "\n",
    "-----------------------------------------------------------------------------\n",
    "\n",
    "Create a PDF file:\n",
    "\n",
    "Save the file as FirstLast.pdf (i.e. TobySmith.pdf)\n",
    "\n",
    "Upload the PDF to the class canvas site\n",
    "\n",
    "-----------------------------------------------------------------------------\n",
    "Deadline: Monday Dec 02 - 11pm\n",
    "-----------------------------------------------------------------------------"
   ]
  },
  {
   "cell_type": "markdown",
   "metadata": {},
   "source": [
    "## `pandas` can output $\\LaTeX$ tables"
   ]
  },
  {
   "cell_type": "code",
   "execution_count": 5,
   "metadata": {
    "collapsed": false,
    "jupyter": {
     "outputs_hidden": false
    }
   },
   "outputs": [],
   "source": [
    "import pandas as pd"
   ]
  },
  {
   "cell_type": "code",
   "execution_count": 18,
   "metadata": {
    "collapsed": false,
    "jupyter": {
     "outputs_hidden": false
    }
   },
   "outputs": [],
   "source": [
    "my_table = pd.read_csv('./Data/NamedStars.csv')"
   ]
  },
  {
   "cell_type": "code",
   "execution_count": 19,
   "metadata": {
    "collapsed": false,
    "jupyter": {
     "outputs_hidden": false
    }
   },
   "outputs": [
    {
     "data": {
      "text/html": [
       "<div>\n",
       "<style scoped>\n",
       "    .dataframe tbody tr th:only-of-type {\n",
       "        vertical-align: middle;\n",
       "    }\n",
       "\n",
       "    .dataframe tbody tr th {\n",
       "        vertical-align: top;\n",
       "    }\n",
       "\n",
       "    .dataframe thead th {\n",
       "        text-align: right;\n",
       "    }\n",
       "</style>\n",
       "<table border=\"1\" class=\"dataframe\">\n",
       "  <thead>\n",
       "    <tr style=\"text-align: right;\">\n",
       "      <th></th>\n",
       "      <th>Name</th>\n",
       "      <th>RA</th>\n",
       "      <th>DEC</th>\n",
       "    </tr>\n",
       "  </thead>\n",
       "  <tbody>\n",
       "    <tr>\n",
       "      <th>0</th>\n",
       "      <td>Alpheratz</td>\n",
       "      <td>0.139769</td>\n",
       "      <td>29.090828</td>\n",
       "    </tr>\n",
       "    <tr>\n",
       "      <th>1</th>\n",
       "      <td>Caph</td>\n",
       "      <td>0.152803</td>\n",
       "      <td>59.150218</td>\n",
       "    </tr>\n",
       "    <tr>\n",
       "      <th>2</th>\n",
       "      <td>Algenib</td>\n",
       "      <td>0.220597</td>\n",
       "      <td>15.183616</td>\n",
       "    </tr>\n",
       "    <tr>\n",
       "      <th>3</th>\n",
       "      <td>Ankaa</td>\n",
       "      <td>0.438019</td>\n",
       "      <td>-42.305122</td>\n",
       "    </tr>\n",
       "    <tr>\n",
       "      <th>4</th>\n",
       "      <td>Shedir</td>\n",
       "      <td>0.675108</td>\n",
       "      <td>56.537409</td>\n",
       "    </tr>\n",
       "  </tbody>\n",
       "</table>\n",
       "</div>"
      ],
      "text/plain": [
       "        Name        RA        DEC\n",
       "0  Alpheratz  0.139769  29.090828\n",
       "1       Caph  0.152803  59.150218\n",
       "2    Algenib  0.220597  15.183616\n",
       "3      Ankaa  0.438019 -42.305122\n",
       "4     Shedir  0.675108  56.537409"
      ]
     },
     "execution_count": 19,
     "metadata": {},
     "output_type": "execute_result"
    }
   ],
   "source": [
    "my_table[0:5]"
   ]
  },
  {
   "cell_type": "code",
   "execution_count": 21,
   "metadata": {
    "collapsed": false,
    "jupyter": {
     "outputs_hidden": false
    },
    "scrolled": true
   },
   "outputs": [
    {
     "name": "stdout",
     "output_type": "stream",
     "text": [
      "\\begin{tabular}{lrr}\n",
      "\\toprule\n",
      "            Name &         RA &        DEC \\\\\n",
      "\\midrule\n",
      "       Alpheratz &   0.139769 &  29.090828 \\\\\n",
      "            Caph &   0.152803 &  59.150218 \\\\\n",
      "         Algenib &   0.220597 &  15.183616 \\\\\n",
      "           Ankaa &   0.438019 & -42.305122 \\\\\n",
      "          Shedir &   0.675108 &  56.537409 \\\\\n",
      "          Diphda &   0.726452 & -17.986684 \\\\\n",
      "          Mirach &   1.162166 &  35.620830 \\\\\n",
      "        Achernar &   1.628542 & -57.236660 \\\\\n",
      "           Hamal &   2.119524 &  23.462777 \\\\\n",
      "         Polaris &   2.529743 &  89.264138 \\\\\n",
      "          Menkar &   3.037994 &   4.089925 \\\\\n",
      "           Algol &   3.136147 &  40.955651 \\\\\n",
      "         Mirphak &   3.405375 &  49.861243 \\\\\n",
      "         Alcyone &   3.791407 &  24.105242 \\\\\n",
      "       Aldebaran &   4.598667 &  16.509762 \\\\\n",
      "           Rigel &   5.242298 &  -8.201639 \\\\\n",
      "         Capella &   5.278138 &  45.999029 \\\\\n",
      "       Bellatrix &   5.418852 &   6.349735 \\\\\n",
      "          Alnath &   5.438194 &  28.607873 \\\\\n",
      "           Nihal &   5.470757 & -20.759232 \\\\\n",
      "           Arneb &   5.545504 & -17.822292 \\\\\n",
      "         Alnilam &   5.603559 &  -1.201917 \\\\\n",
      "         Alnitak &   5.679312 &  -1.942578 \\\\\n",
      "           Saiph &   5.795941 &  -9.669602 \\\\\n",
      "      Betelgeuse &   5.919525 &   7.407036 \\\\\n",
      "         Canopus &   6.399192 & -52.695718 \\\\\n",
      "          Alhena &   6.628528 &  16.399415 \\\\\n",
      "          Sirius &   6.752569 & -16.713143 \\\\\n",
      "          Adhara &   6.977096 & -28.972089 \\\\\n",
      "          Castor &   7.576668 &  31.888636 \\\\\n",
      "         Procyon &   7.655149 &   5.227508 \\\\\n",
      "          Pollux &   7.755379 &  28.026310 \\\\\n",
      "         Alphard &   9.459792 &  -8.658683 \\\\\n",
      "         Regulus &  10.139572 &  11.967195 \\\\\n",
      "         Algieba &  10.332823 &  19.841860 \\\\\n",
      "           Merak &  11.030664 &  56.382345 \\\\\n",
      "           Dubhe &  11.062177 &  61.751119 \\\\\n",
      "        Denebola &  11.817744 &  14.572337 \\\\\n",
      "            Phad &  11.897150 &  53.694733 \\\\\n",
      "           Acrux &  12.443317 & -63.099056 \\\\\n",
      "          Alioth &  12.900454 &  55.959843 \\\\\n",
      "    Vindemiatrix &  13.036322 &  10.959102 \\\\\n",
      "           Mizar &  13.398728 &  54.925415 \\\\\n",
      "           Spica &  13.419890 & -11.161245 \\\\\n",
      "          Alkaid &  13.792374 &  49.313303 \\\\\n",
      "           Hadar &  14.063735 & -60.372978 \\\\\n",
      "        Arcturus &  14.261208 &  19.187270 \\\\\n",
      " RigelKentaurusB &  14.660942 & -60.839471 \\\\\n",
      " RigelKentaurusA &  14.661361 & -60.835147 \\\\\n",
      "            Izar &  14.749792 &  27.074174 \\\\\n",
      "          Kochab &  14.845110 &  74.155476 \\\\\n",
      "        Alphekka &  15.578108 &  26.714910 \\\\\n",
      "       Unukalhai &  15.737777 &   6.425520 \\\\\n",
      "         Antares &  16.490130 & -26.431946 \\\\\n",
      "      Rasalgethi &  17.244128 &  14.390253 \\\\\n",
      "          Shaula &  17.560146 & -37.103748 \\\\\n",
      "      Rasalhague &  17.582224 &  12.560576 \\\\\n",
      "          Etamin &  17.943438 &  51.488951 \\\\\n",
      "   KausAustralis &  18.402874 & -34.384315 \\\\\n",
      "            Vega &  18.615607 &  38.782993 \\\\\n",
      "           Nunki &  18.921088 & -26.296594 \\\\\n",
      "         Tarazed &  19.770992 &  10.613269 \\\\\n",
      "          Altair &  19.846301 &   8.867385 \\\\\n",
      "           Deneb &  20.690532 &  45.280334 \\\\\n",
      "       Alderamin &  21.309606 &  62.585455 \\\\\n",
      "            Enif &  21.736428 &   9.875008 \\\\\n",
      "          Alnair &  22.137188 & -46.960616 \\\\\n",
      "       Fomalhaut &  22.960785 & -29.621837 \\\\\n",
      "          Scheat &  23.062870 &  28.082455 \\\\\n",
      "          Markab &  23.079338 &  15.205368 \\\\\n",
      "\\bottomrule\n",
      "\\end{tabular}\n",
      "\n"
     ]
    }
   ],
   "source": [
    "print(my_table.to_latex(index=False))"
   ]
  },
  {
   "cell_type": "code",
   "execution_count": null,
   "metadata": {
    "collapsed": false,
    "jupyter": {
     "outputs_hidden": false
    }
   },
   "outputs": [],
   "source": []
  }
 ],
 "metadata": {
  "anaconda-cloud": {},
  "kernelspec": {
   "display_name": "Python 3",
   "language": "python",
   "name": "python3"
  },
  "language_info": {
   "codemirror_mode": {
    "name": "ipython",
    "version": 3
   },
   "file_extension": ".py",
   "mimetype": "text/x-python",
   "name": "python",
   "nbconvert_exporter": "python",
   "pygments_lexer": "ipython3",
   "version": "3.7.5"
  }
 },
 "nbformat": 4,
 "nbformat_minor": 4
}
