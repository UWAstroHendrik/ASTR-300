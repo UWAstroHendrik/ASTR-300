{
 "cells": [
  {
   "cell_type": "markdown",
   "metadata": {},
   "source": [
    "# Protect Earth!"
   ]
  },
  {
   "cell_type": "code",
   "execution_count": 1,
   "metadata": {
    "collapsed": false,
    "jupyter": {
     "outputs_hidden": false
    }
   },
   "outputs": [],
   "source": [
    "import numpy as np\n",
    "import pandas as pd\n",
    "\n",
    "from astropy import units as u\n",
    "from astropy import constants as const\n",
    "from astropy.table import QTable, Table"
   ]
  },
  {
   "cell_type": "markdown",
   "metadata": {},
   "source": [
    "## Read in the dataset `./Data/PHA.csv`"
   ]
  },
  {
   "cell_type": "code",
   "execution_count": 18,
   "metadata": {
    "collapsed": false,
    "jupyter": {
     "outputs_hidden": false
    }
   },
   "outputs": [
    {
     "data": {
      "text/html": [
       "<i>QTable length=5</i>\n",
       "<table id=\"table140103799397840\" class=\"table-striped table-bordered table-condensed\">\n",
       "<thead><tr><th>Name</th><th>Semi_Major_AU</th><th>Eccentricity</th><th>Abs_Mag</th><th>Albedo</th></tr></thead>\n",
       "<thead><tr><th>str8</th><th>float64</th><th>float64</th><th>float64</th><th>float64</th></tr></thead>\n",
       "<tr><td>Khufu</td><td>0.989537560450789</td><td>0.4685174247283059</td><td>18.3</td><td>0.21</td></tr>\n",
       "<tr><td>Orpheus</td><td>1.209662179045708</td><td>0.3227518287938224</td><td>19.03</td><td>0.357</td></tr>\n",
       "<tr><td>Zephyr</td><td>1.961922094181047</td><td>0.4920120116291148</td><td>15.7</td><td>0.199</td></tr>\n",
       "<tr><td>Cuno</td><td>1.982718743264263</td><td>0.6342867024321133</td><td>14.1</td><td>0.097</td></tr>\n",
       "<tr><td>Dionysus</td><td>2.19861623099639</td><td>0.5415435918949166</td><td>16.4</td><td>0.16</td></tr>\n",
       "</table>"
      ],
      "text/plain": [
       "<QTable length=5>\n",
       "  Name     Semi_Major_AU      Eccentricity    Abs_Mag  Albedo\n",
       "  str8        float64           float64       float64 float64\n",
       "-------- ----------------- ------------------ ------- -------\n",
       "   Khufu 0.989537560450789 0.4685174247283059    18.3    0.21\n",
       " Orpheus 1.209662179045708 0.3227518287938224   19.03   0.357\n",
       "  Zephyr 1.961922094181047 0.4920120116291148    15.7   0.199\n",
       "    Cuno 1.982718743264263 0.6342867024321133    14.1   0.097\n",
       "Dionysus  2.19861623099639 0.5415435918949166    16.4    0.16"
      ]
     },
     "execution_count": 18,
     "metadata": {},
     "output_type": "execute_result"
    }
   ],
   "source": [
    "astro_table = QTable.read('./Data/PHA.csv', format = \"ascii.csv\")\n",
    "astro_table"
   ]
  },
  {
   "cell_type": "markdown",
   "metadata": {},
   "source": [
    "---\n",
    "\n",
    "## Determine how many nuclear weapons, with a yield of 1 ton-TNT, will be needed to destroy each of the PHAs.\n",
    "\n",
    "* Write the functions: `find_diameter`, `find_mass`, and `number_weapons`\n",
    "* Make sure you use units.\n",
    "* Assume the PHA asteroids have a density = 3,000 kg/m$^3$\n",
    "* Add 3 columns to the data table\n",
    "\n",
    "#### For the `number_missles` function:\n",
    "\n",
    "* Express your answer in units of `Tons_TNT`\n",
    "* 1 ton TNT $= 4.18 \\times 10^9$ J"
   ]
  },
  {
   "cell_type": "markdown",
   "metadata": {},
   "source": [
    "---\n",
    "\n",
    "`find_diameter`"
   ]
  },
  {
   "cell_type": "code",
   "execution_count": 3,
   "metadata": {
    "collapsed": false,
    "jupyter": {
     "outputs_hidden": false
    }
   },
   "outputs": [],
   "source": [
    "# Write a function\n",
    "def find_diameter(absolute_magnitude,geometric_albedo):\n",
    "    compute_diameter = (1329)/(np.sqrt(geometric_albedo))*10**((-0.2)*(absolute_magnitude))\n",
    "    return compute_diameter "
   ]
  },
  {
   "cell_type": "code",
   "execution_count": 4,
   "metadata": {
    "collapsed": false,
    "jupyter": {
     "outputs_hidden": false
    }
   },
   "outputs": [
    {
     "data": {
      "text/html": [
       "&lt;Column name=&apos;Albedo&apos; dtype=&apos;float64&apos; length=5&gt;\n",
       "<table>\n",
       "<tr><td>0.6344761967444102</td></tr>\n",
       "<tr><td>0.347688937525904</td></tr>\n",
       "<tr><td>2.158233566515278</td></tr>\n",
       "<tr><td>6.458610790185055</td></tr>\n",
       "<tr><td>1.7436727866798702</td></tr>\n",
       "</table>"
      ],
      "text/plain": [
       "<Column name='Albedo' dtype='float64' length=5>\n",
       "0.6344761967444102\n",
       " 0.347688937525904\n",
       " 2.158233566515278\n",
       " 6.458610790185055\n",
       "1.7436727866798702"
      ]
     },
     "execution_count": 4,
     "metadata": {},
     "output_type": "execute_result"
    }
   ],
   "source": [
    "# Apply the function\n",
    "diameter = find_diameter(astro_table['Abs_Mag'], astro_table['Albedo'])\n",
    "diameter"
   ]
  },
  {
   "cell_type": "code",
   "execution_count": 5,
   "metadata": {
    "collapsed": false,
    "jupyter": {
     "outputs_hidden": false
    }
   },
   "outputs": [
    {
     "data": {
      "text/html": [
       "<i>QTable length=5</i>\n",
       "<table id=\"table140103816895952\" class=\"table-striped table-bordered table-condensed\">\n",
       "<thead><tr><th>Name</th><th>Semi_Major_AU</th><th>Eccentricity</th><th>Abs_Mag</th><th>Albedo</th><th>Diameter</th></tr></thead>\n",
       "<thead><tr><th></th><th></th><th></th><th></th><th></th><th>km</th></tr></thead>\n",
       "<thead><tr><th>str8</th><th>float64</th><th>float64</th><th>float64</th><th>float64</th><th>float64</th></tr></thead>\n",
       "<tr><td>Khufu</td><td>0.989537560450789</td><td>0.4685174247283059</td><td>18.3</td><td>0.21</td><td>0.6344761967444102</td></tr>\n",
       "<tr><td>Orpheus</td><td>1.209662179045708</td><td>0.3227518287938224</td><td>19.03</td><td>0.357</td><td>0.347688937525904</td></tr>\n",
       "<tr><td>Zephyr</td><td>1.961922094181047</td><td>0.4920120116291148</td><td>15.7</td><td>0.199</td><td>2.158233566515278</td></tr>\n",
       "<tr><td>Cuno</td><td>1.982718743264263</td><td>0.6342867024321133</td><td>14.1</td><td>0.097</td><td>6.458610790185055</td></tr>\n",
       "<tr><td>Dionysus</td><td>2.19861623099639</td><td>0.5415435918949166</td><td>16.4</td><td>0.16</td><td>1.7436727866798702</td></tr>\n",
       "</table>"
      ],
      "text/plain": [
       "<QTable length=5>\n",
       "  Name     Semi_Major_AU      Eccentricity    Abs_Mag  Albedo      Diameter     \n",
       "                                                                      km        \n",
       "  str8        float64           float64       float64 float64      float64      \n",
       "-------- ----------------- ------------------ ------- ------- ------------------\n",
       "   Khufu 0.989537560450789 0.4685174247283059    18.3    0.21 0.6344761967444102\n",
       " Orpheus 1.209662179045708 0.3227518287938224   19.03   0.357  0.347688937525904\n",
       "  Zephyr 1.961922094181047 0.4920120116291148    15.7   0.199  2.158233566515278\n",
       "    Cuno 1.982718743264263 0.6342867024321133    14.1   0.097  6.458610790185055\n",
       "Dionysus  2.19861623099639 0.5415435918949166    16.4    0.16 1.7436727866798702"
      ]
     },
     "execution_count": 5,
     "metadata": {},
     "output_type": "execute_result"
    }
   ],
   "source": [
    "# Add the data column to the table\n",
    "astro_table[\"Diameter\"] = diameter*(u.km)\n",
    "astro_table"
   ]
  },
  {
   "cell_type": "markdown",
   "metadata": {},
   "source": [
    "---\n",
    "\n",
    "`find_mass`"
   ]
  },
  {
   "cell_type": "code",
   "execution_count": 6,
   "metadata": {
    "collapsed": false,
    "jupyter": {
     "outputs_hidden": false
    }
   },
   "outputs": [],
   "source": [
    "# Write a function\n",
    "def find_mass(diameter,density):\n",
    "    compute_mass = ((density)*(np.pi)*(diameter)**3)/6\n",
    "    return(compute_mass).decompose()"
   ]
  },
  {
   "cell_type": "code",
   "execution_count": 7,
   "metadata": {
    "collapsed": false,
    "jupyter": {
     "outputs_hidden": false
    }
   },
   "outputs": [
    {
     "data": {
      "text/latex": [
       "$[4.0120458 \\times 10^{11},~6.6022581 \\times 10^{10},~1.5791203 \\times 10^{13},~4.2319178 \\times 10^{14},~8.3275039 \\times 10^{12}] \\; \\mathrm{kg}$"
      ],
      "text/plain": [
       "<Quantity [4.01204576e+11, 6.60225806e+10, 1.57912026e+13, 4.23191775e+14,\n",
       "           8.32750392e+12] kg>"
      ]
     },
     "execution_count": 7,
     "metadata": {},
     "output_type": "execute_result"
    }
   ],
   "source": [
    "# Apply the function0\n",
    "density = 3000*(u.kg/(u.m**3))\n",
    "mass = find_mass(astro_table['Diameter'],density)\n",
    "mass"
   ]
  },
  {
   "cell_type": "code",
   "execution_count": 8,
   "metadata": {
    "collapsed": false,
    "jupyter": {
     "outputs_hidden": false
    }
   },
   "outputs": [
    {
     "data": {
      "text/html": [
       "<i>QTable length=5</i>\n",
       "<table id=\"table140103816895952\" class=\"table-striped table-bordered table-condensed\">\n",
       "<thead><tr><th>Name</th><th>Semi_Major_AU</th><th>Eccentricity</th><th>Abs_Mag</th><th>Albedo</th><th>Diameter</th><th>Mass</th></tr></thead>\n",
       "<thead><tr><th></th><th></th><th></th><th></th><th></th><th>km</th><th>kg</th></tr></thead>\n",
       "<thead><tr><th>str8</th><th>float64</th><th>float64</th><th>float64</th><th>float64</th><th>float64</th><th>float64</th></tr></thead>\n",
       "<tr><td>Khufu</td><td>0.989537560450789</td><td>0.4685174247283059</td><td>18.3</td><td>0.21</td><td>0.6344761967444102</td><td>401204575971.2419</td></tr>\n",
       "<tr><td>Orpheus</td><td>1.209662179045708</td><td>0.3227518287938224</td><td>19.03</td><td>0.357</td><td>0.347688937525904</td><td>66022580639.14006</td></tr>\n",
       "<tr><td>Zephyr</td><td>1.961922094181047</td><td>0.4920120116291148</td><td>15.7</td><td>0.199</td><td>2.158233566515278</td><td>15791202589205.992</td></tr>\n",
       "<tr><td>Cuno</td><td>1.982718743264263</td><td>0.6342867024321133</td><td>14.1</td><td>0.097</td><td>6.458610790185055</td><td>423191775134435.0</td></tr>\n",
       "<tr><td>Dionysus</td><td>2.19861623099639</td><td>0.5415435918949166</td><td>16.4</td><td>0.16</td><td>1.7436727866798702</td><td>8327503921458.565</td></tr>\n",
       "</table>"
      ],
      "text/plain": [
       "<QTable length=5>\n",
       "  Name     Semi_Major_AU   ...      Diameter             Mass       \n",
       "                           ...         km                 kg        \n",
       "  str8        float64      ...      float64            float64      \n",
       "-------- ----------------- ... ------------------ ------------------\n",
       "   Khufu 0.989537560450789 ... 0.6344761967444102  401204575971.2419\n",
       " Orpheus 1.209662179045708 ...  0.347688937525904  66022580639.14006\n",
       "  Zephyr 1.961922094181047 ...  2.158233566515278 15791202589205.992\n",
       "    Cuno 1.982718743264263 ...  6.458610790185055  423191775134435.0\n",
       "Dionysus  2.19861623099639 ... 1.7436727866798702  8327503921458.565"
      ]
     },
     "execution_count": 8,
     "metadata": {},
     "output_type": "execute_result"
    }
   ],
   "source": [
    "# Add the data column to the table\n",
    "astro_table[\"Mass\"] = mass\n",
    "astro_table"
   ]
  },
  {
   "cell_type": "markdown",
   "metadata": {},
   "source": [
    "---\n",
    "\n",
    "`number_weapons`"
   ]
  },
  {
   "cell_type": "code",
   "execution_count": 9,
   "metadata": {
    "collapsed": false,
    "jupyter": {
     "outputs_hidden": false
    }
   },
   "outputs": [],
   "source": [
    "# Write a function\n",
    "def number_weapons(mass,diameter):\n",
    "    compute_pe = (6*(const.G)*(mass**2))/(5*(diameter)*(4.18e9*u.J))\n",
    "    return compute_pe.decompose()"
   ]
  },
  {
   "cell_type": "code",
   "execution_count": 10,
   "metadata": {
    "collapsed": false,
    "jupyter": {
     "outputs_hidden": false
    }
   },
   "outputs": [
    {
     "data": {
      "text/latex": [
       "$[4.8610167,~0.24021759,~2213.8218,~531307.58,~762.03583] \\; \\mathrm{}$"
      ],
      "text/plain": [
       "<Quantity [4.86101666e+00, 2.40217590e-01, 2.21382178e+03, 5.31307579e+05,\n",
       "           7.62035827e+02]>"
      ]
     },
     "execution_count": 10,
     "metadata": {},
     "output_type": "execute_result"
    }
   ],
   "source": [
    "# Apply the function\n",
    "weapons = number_weapons(astro_table['Mass'], astro_table['Diameter'])\n",
    "weapons"
   ]
  },
  {
   "cell_type": "code",
   "execution_count": 11,
   "metadata": {
    "collapsed": false,
    "jupyter": {
     "outputs_hidden": false
    }
   },
   "outputs": [
    {
     "data": {
      "text/html": [
       "<i>QTable length=5</i>\n",
       "<table id=\"table140103816895952\" class=\"table-striped table-bordered table-condensed\">\n",
       "<thead><tr><th>Name</th><th>Semi_Major_AU</th><th>Eccentricity</th><th>Abs_Mag</th><th>Albedo</th><th>Diameter</th><th>Mass</th><th>Number of Weapons</th></tr></thead>\n",
       "<thead><tr><th></th><th></th><th></th><th></th><th></th><th>km</th><th>kg</th><th></th></tr></thead>\n",
       "<thead><tr><th>str8</th><th>float64</th><th>float64</th><th>float64</th><th>float64</th><th>float64</th><th>float64</th><th>float64</th></tr></thead>\n",
       "<tr><td>Khufu</td><td>0.989537560450789</td><td>0.4685174247283059</td><td>18.3</td><td>0.21</td><td>0.6344761967444102</td><td>401204575971.2419</td><td>4.861016663911408</td></tr>\n",
       "<tr><td>Orpheus</td><td>1.209662179045708</td><td>0.3227518287938224</td><td>19.03</td><td>0.357</td><td>0.347688937525904</td><td>66022580639.14006</td><td>0.2402175904745984</td></tr>\n",
       "<tr><td>Zephyr</td><td>1.961922094181047</td><td>0.4920120116291148</td><td>15.7</td><td>0.199</td><td>2.158233566515278</td><td>15791202589205.992</td><td>2213.8217793738318</td></tr>\n",
       "<tr><td>Cuno</td><td>1.982718743264263</td><td>0.6342867024321133</td><td>14.1</td><td>0.097</td><td>6.458610790185055</td><td>423191775134435.0</td><td>531307.5789484596</td></tr>\n",
       "<tr><td>Dionysus</td><td>2.19861623099639</td><td>0.5415435918949166</td><td>16.4</td><td>0.16</td><td>1.7436727866798702</td><td>8327503921458.565</td><td>762.0358269211143</td></tr>\n",
       "</table>"
      ],
      "text/plain": [
       "<QTable length=5>\n",
       "  Name     Semi_Major_AU   ...        Mass        Number of Weapons \n",
       "                           ...         kg                           \n",
       "  str8        float64      ...      float64            float64      \n",
       "-------- ----------------- ... ------------------ ------------------\n",
       "   Khufu 0.989537560450789 ...  401204575971.2419  4.861016663911408\n",
       " Orpheus 1.209662179045708 ...  66022580639.14006 0.2402175904745984\n",
       "  Zephyr 1.961922094181047 ... 15791202589205.992 2213.8217793738318\n",
       "    Cuno 1.982718743264263 ...  423191775134435.0  531307.5789484596\n",
       "Dionysus  2.19861623099639 ...  8327503921458.565  762.0358269211143"
      ]
     },
     "execution_count": 11,
     "metadata": {},
     "output_type": "execute_result"
    }
   ],
   "source": [
    "# Add the data column to the table\n",
    "astro_table[\"Number of Weapons\"] = weapons\n",
    "astro_table"
   ]
  },
  {
   "cell_type": "markdown",
   "metadata": {},
   "source": [
    "## Save the table to a file!\n",
    "\n",
    "* This is the file to upload to Canvas"
   ]
  },
  {
   "cell_type": "code",
   "execution_count": 24,
   "metadata": {},
   "outputs": [
    {
     "name": "stderr",
     "output_type": "stream",
     "text": [
      "WARNING: AstropyDeprecationWarning: ./Data/astro_qtable.ecsv already exists. Automatically overwriting ASCII files is deprecated. Use the argument 'overwrite=True' in the future. [astropy.io.ascii.ui]\n"
     ]
    }
   ],
   "source": [
    "astro_table.write('./Data/astro_qtable.ecsv',format='ascii.ecsv')"
   ]
  },
  {
   "cell_type": "code",
   "execution_count": null,
   "metadata": {
    "collapsed": false,
    "jupyter": {
     "outputs_hidden": false
    }
   },
   "outputs": [],
   "source": []
  },
  {
   "cell_type": "code",
   "execution_count": null,
   "metadata": {},
   "outputs": [],
   "source": []
  },
  {
   "cell_type": "markdown",
   "metadata": {},
   "source": [
    "---"
   ]
  },
  {
   "cell_type": "markdown",
   "metadata": {},
   "source": [
    "## Blowing up an asteroid\n",
    "\n",
    "The self gravitational potential energy of a uniform sphere of mass (M) and diameter (D) is:\n",
    "\n",
    "$$ \\large\n",
    "PE \\ = \\ \\frac{6}{5} \\cdot \\frac{GM^2}{D}\n",
    "$$\n",
    "\n",
    "This is the amount of energy you need to give the sphere to move all of its components pieces infinitely far away (i.e. to destroy it!).\n",
    "\n",
    "Remember that the mass and diameter of the asteroid are derived from its **absolute magnitude**, **albedo**, and **density**."
   ]
  },
  {
   "cell_type": "markdown",
   "metadata": {},
   "source": [
    "---\n",
    "\n",
    "## Due Wed Feb 4 (1pm)\n",
    "\n",
    " * `Upload your SAVED TABLE file to Canvas!`"
   ]
  }
 ],
 "metadata": {
  "kernelspec": {
   "display_name": "Python 3",
   "language": "python",
   "name": "python3"
  },
  "language_info": {
   "codemirror_mode": {
    "name": "ipython",
    "version": 3
   },
   "file_extension": ".py",
   "mimetype": "text/x-python",
   "name": "python",
   "nbconvert_exporter": "python",
   "pygments_lexer": "ipython3",
   "version": "3.7.5"
  }
 },
 "nbformat": 4,
 "nbformat_minor": 4
}
