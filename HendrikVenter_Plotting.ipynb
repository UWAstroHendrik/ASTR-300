{
 "cells": [
  {
   "cell_type": "markdown",
   "metadata": {},
   "source": [
    "## Plotting Asteroids"
   ]
  },
  {
   "cell_type": "code",
   "execution_count": 1,
   "metadata": {},
   "outputs": [],
   "source": [
    "%matplotlib inline\n",
    "import matplotlib.pyplot as plt\n",
    "\n",
    "import numpy as np\n",
    "import pandas as pd"
   ]
  },
  {
   "cell_type": "markdown",
   "metadata": {},
   "source": [
    "#### The file `./Data/SDSS_MainBelt.csv` contains data on objects in the asteroid belt collected by the [Sloan Digital Sky Survey](http://www.sdss.org/).\n",
    "\n",
    "The columns are:\n",
    "- **`Name`** - Object name\n",
    "- **`semi_major`** - semi-major axis\n",
    "- **`a_color`** - SDSS a$^*$ color\n",
    "- **`i_color`** - SDSS i color (near infrared)\n",
    "- **`z_color`** - SDSS z color (infrared)"
   ]
  },
  {
   "cell_type": "markdown",
   "metadata": {},
   "source": [
    "## Read in the file `./Data/SDSS_MainBelt.csv`"
   ]
  },
  {
   "cell_type": "code",
   "execution_count": 2,
   "metadata": {},
   "outputs": [
    {
     "data": {
      "text/html": [
       "<div>\n",
       "<style scoped>\n",
       "    .dataframe tbody tr th:only-of-type {\n",
       "        vertical-align: middle;\n",
       "    }\n",
       "\n",
       "    .dataframe tbody tr th {\n",
       "        vertical-align: top;\n",
       "    }\n",
       "\n",
       "    .dataframe thead th {\n",
       "        text-align: right;\n",
       "    }\n",
       "</style>\n",
       "<table border=\"1\" class=\"dataframe\">\n",
       "  <thead>\n",
       "    <tr style=\"text-align: right;\">\n",
       "      <th></th>\n",
       "      <th>Name</th>\n",
       "      <th>semi_major</th>\n",
       "      <th>a_color</th>\n",
       "      <th>i_color</th>\n",
       "      <th>z_color</th>\n",
       "    </tr>\n",
       "  </thead>\n",
       "  <tbody>\n",
       "    <tr>\n",
       "      <th>0</th>\n",
       "      <td>1989_SS</td>\n",
       "      <td>3.025812</td>\n",
       "      <td>0.05</td>\n",
       "      <td>17.10</td>\n",
       "      <td>17.05</td>\n",
       "    </tr>\n",
       "    <tr>\n",
       "      <th>1</th>\n",
       "      <td>Helenos</td>\n",
       "      <td>5.297075</td>\n",
       "      <td>-0.01</td>\n",
       "      <td>17.79</td>\n",
       "      <td>17.67</td>\n",
       "    </tr>\n",
       "    <tr>\n",
       "      <th>2</th>\n",
       "      <td>2003_YD179</td>\n",
       "      <td>5.300624</td>\n",
       "      <td>0.04</td>\n",
       "      <td>20.07</td>\n",
       "      <td>19.97</td>\n",
       "    </tr>\n",
       "    <tr>\n",
       "      <th>3</th>\n",
       "      <td>2007_EW43</td>\n",
       "      <td>5.162462</td>\n",
       "      <td>-0.05</td>\n",
       "      <td>20.21</td>\n",
       "      <td>20.41</td>\n",
       "    </tr>\n",
       "    <tr>\n",
       "      <th>4</th>\n",
       "      <td>1989_UE5</td>\n",
       "      <td>5.170706</td>\n",
       "      <td>0.07</td>\n",
       "      <td>20.03</td>\n",
       "      <td>19.96</td>\n",
       "    </tr>\n",
       "    <tr>\n",
       "      <th>...</th>\n",
       "      <td>...</td>\n",
       "      <td>...</td>\n",
       "      <td>...</td>\n",
       "      <td>...</td>\n",
       "      <td>...</td>\n",
       "    </tr>\n",
       "    <tr>\n",
       "      <th>8743</th>\n",
       "      <td>Wielen</td>\n",
       "      <td>2.285537</td>\n",
       "      <td>0.15</td>\n",
       "      <td>16.93</td>\n",
       "      <td>16.98</td>\n",
       "    </tr>\n",
       "    <tr>\n",
       "      <th>8744</th>\n",
       "      <td>Wenlingshuguang</td>\n",
       "      <td>2.325133</td>\n",
       "      <td>0.17</td>\n",
       "      <td>16.68</td>\n",
       "      <td>16.67</td>\n",
       "    </tr>\n",
       "    <tr>\n",
       "      <th>8745</th>\n",
       "      <td>Tongil</td>\n",
       "      <td>2.671464</td>\n",
       "      <td>0.18</td>\n",
       "      <td>15.07</td>\n",
       "      <td>15.13</td>\n",
       "    </tr>\n",
       "    <tr>\n",
       "      <th>8746</th>\n",
       "      <td>1991_JE1</td>\n",
       "      <td>3.117158</td>\n",
       "      <td>-0.11</td>\n",
       "      <td>16.23</td>\n",
       "      <td>16.25</td>\n",
       "    </tr>\n",
       "    <tr>\n",
       "      <th>8747</th>\n",
       "      <td>1998_SN114</td>\n",
       "      <td>2.881406</td>\n",
       "      <td>0.12</td>\n",
       "      <td>16.89</td>\n",
       "      <td>17.01</td>\n",
       "    </tr>\n",
       "  </tbody>\n",
       "</table>\n",
       "<p>8748 rows × 5 columns</p>\n",
       "</div>"
      ],
      "text/plain": [
       "                 Name  semi_major  a_color  i_color  z_color\n",
       "0             1989_SS    3.025812     0.05    17.10    17.05\n",
       "1             Helenos    5.297075    -0.01    17.79    17.67\n",
       "2          2003_YD179    5.300624     0.04    20.07    19.97\n",
       "3           2007_EW43    5.162462    -0.05    20.21    20.41\n",
       "4            1989_UE5    5.170706     0.07    20.03    19.96\n",
       "...               ...         ...      ...      ...      ...\n",
       "8743           Wielen    2.285537     0.15    16.93    16.98\n",
       "8744  Wenlingshuguang    2.325133     0.17    16.68    16.67\n",
       "8745           Tongil    2.671464     0.18    15.07    15.13\n",
       "8746         1991_JE1    3.117158    -0.11    16.23    16.25\n",
       "8747       1998_SN114    2.881406     0.12    16.89    17.01\n",
       "\n",
       "[8748 rows x 5 columns]"
      ]
     },
     "execution_count": 2,
     "metadata": {},
     "output_type": "execute_result"
    }
   ],
   "source": [
    "astro_table = pd.read_csv('./Data/SDSS_MainBelt.csv')\n",
    "astro_table "
   ]
  },
  {
   "cell_type": "markdown",
   "metadata": {},
   "source": [
    "## The Color of the Asteroids\n",
    "- Make three (3) plots in one row\n",
    "- In each panel, plot a histogram of the semi-major axis (`semi_major`) for **ALL** of the asteroids.\n",
    "- Bins = 100.\n",
    "- Use `.set_xlim` to only show 2.0 AU < `semi_major` < 3.6 AU\n",
    "- In the first panel, overplot a histogram of `semi_major` for **C-Type** asteroids only.\n",
    "- In the second panel, overplot a histogram of `semi_major` for **S-Type** asteroids only.\n",
    "- In the third panel, overplot a histogram of `semi_major` for **V-Type** asteroids only.\n",
    "- In each panel, draw a vertical line at `semi_major` = mean(`semi_major`) for that type of asteroid.\n",
    "- Adjust the `color` and `histtype` to make the overplot easy to see.\n",
    "- The asteroid types can be determined from their SDSS-colors (see image below).\n",
    "- Output size w:15in, h:5in\n",
    "- Make the plot look nice (including clear labels)"
   ]
  },
  {
   "cell_type": "code",
   "execution_count": 3,
   "metadata": {
    "jupyter": {
     "outputs_hidden": false
    }
   },
   "outputs": [
    {
     "data": {
      "text/plain": [
       "<matplotlib.legend.Legend at 0x7f7bfd9bf990>"
      ]
     },
     "execution_count": 3,
     "metadata": {},
     "output_type": "execute_result"
    },
    {
     "data": {
      "image/png": "[encoded data removed]",
      "text/plain": [
       "<Figure size 1080x360 with 3 Axes>"
      ]
     },
     "metadata": {
      "needs_background": "light"
     },
     "output_type": "display_data"
    }
   ],
   "source": [
    "semi_major = astro_table['semi_major']\n",
    "\n",
    "c_star = astro_table.query('a_color < 0')\n",
    "s_star = astro_table.query('a_color > 0 and i_color - z_color > -0.15')\n",
    "v_star = astro_table.query('a_color > 0 and i_color - z_color < -0.15 ')\n",
    "\n",
    "c_semi_major = c_star['semi_major']\n",
    "s_semi_major = s_star['semi_major']\n",
    "v_semi_major = v_star['semi_major']\n",
    "\n",
    "c_star_average = c_star['semi_major'].mean()\n",
    "s_star_average = s_star['semi_major'].mean()\n",
    "v_star_average = v_star['semi_major'].mean()\n",
    "\n",
    "fig, ax = plt.subplots(1,3)   \n",
    "fig.set_size_inches(15,5)\n",
    "\n",
    "ax[0].set_xlim(2,3.6,4)\n",
    "ax[1].set_xlim(2,3.6,4)\n",
    "ax[2].set_xlim(2,3.6,4)\n",
    "\n",
    "ax[0].hist(semi_major, bins=100, color = \"darkgrey\", histtype = 'barstacked', label = \"semi_major\");\n",
    "\n",
    "ax[0].hist(c_semi_major, bins=100, color = \"purple\", histtype = 'barstacked', label = \"c_semi_major\");\n",
    "\n",
    "ax[0].vlines(c_star_average, 0,700,\n",
    "          color = 'gold',\n",
    "          linewidth = 5,\n",
    "          linestyle = '-',\n",
    "            label = \"mean\")\n",
    "\n",
    "ax[1].hist(semi_major, bins=100, color = \"darkgrey\", histtype = 'barstacked', label = \"semi_major\");\n",
    "\n",
    "ax[1].hist(s_semi_major, bins=100, color = \"purple\", histtype = 'barstacked', label = \"c_semi_major\");\n",
    "\n",
    "ax[1].vlines(s_star_average, 0,700, \n",
    "          color = 'gold',\n",
    "          linewidth = 5,\n",
    "          linestyle = '-',\n",
    "          label = \"mean\")\n",
    "\n",
    "ax[2].hist(semi_major, bins=100, color = \"darkgrey\", histtype = 'barstacked', label = \"semi_major\");\n",
    "\n",
    "ax[2].hist(v_semi_major, bins=100, color = \"purple\", histtype = 'barstacked', label = \"c_semi_major\");\n",
    "\n",
    "ax[2].vlines(v_star_average, 0,700,\n",
    "          color = 'gold',\n",
    "          linewidth = 5,\n",
    "          linestyle = '-',\n",
    "            label = \"mean\")\n",
    "\n",
    "ax[0].set_xlabel('Semi Major (AU)')\n",
    "ax[0].set_ylabel('Number of objects')\n",
    "ax[1].set_xlabel('Semi Major (AU)')\n",
    "ax[1].set_ylabel('Number of objects')\n",
    "ax[2].set_xlabel('Semi Major (AU)')\n",
    "ax[2].set_ylabel('Number of objects')\n",
    "\n",
    "ax[0].set_title('C_asteroid Average')\n",
    "ax[1].set_title('S_asteroid Average')\n",
    "ax[2].set_title('V_asteroid Average')\n",
    "\n",
    "ax[0].legend()\n",
    "ax[1].legend()\n",
    "ax[2].legend()"
   ]
  },
  {
   "cell_type": "code",
   "execution_count": null,
   "metadata": {
    "jupyter": {
     "outputs_hidden": false
    }
   },
   "outputs": [],
   "source": []
  },
  {
   "cell_type": "code",
   "execution_count": null,
   "metadata": {
    "jupyter": {
     "outputs_hidden": false
    }
   },
   "outputs": [],
   "source": []
  },
  {
   "cell_type": "code",
   "execution_count": null,
   "metadata": {
    "collapsed": true,
    "jupyter": {
     "outputs_hidden": true
    }
   },
   "outputs": [],
   "source": []
  },
  {
   "cell_type": "markdown",
   "metadata": {},
   "source": [
    "---\n",
    "\n",
    "### Asteroid classes - SDSS Colors\n",
    "\n",
    "---\n",
    "\n",
    "<center><img src=\"images/Colors.jpg\" width=600px></center>"
   ]
  },
  {
   "cell_type": "markdown",
   "metadata": {},
   "source": [
    "### Due Wed Feb 12 - 1 pm\n",
    "- `File -> Download as -> HTML (.html)`\n",
    "- `upload your .html file to the class Canvas page`"
   ]
  }
 ],
 "metadata": {
  "anaconda-cloud": {},
  "kernelspec": {
   "display_name": "Python 3",
   "language": "python",
   "name": "python3"
  },
  "language_info": {
   "codemirror_mode": {
    "name": "ipython",
    "version": 3
   },
   "file_extension": ".py",
   "mimetype": "text/x-python",
   "name": "python",
   "nbconvert_exporter": "python",
   "pygments_lexer": "ipython3",
   "version": "3.7.6"
  }
 },
 "nbformat": 4,
 "nbformat_minor": 4
}
