{
 "cells": [
  {
   "cell_type": "markdown",
   "metadata": {},
   "source": [
    "# Hendrik Venter - Units in Python"
   ]
  },
  {
   "cell_type": "markdown",
   "metadata": {},
   "source": [
    "---\n",
    "\n",
    "### [Astropy Units](http://docs.astropy.org/en/stable/units/index.html#module-astropy.units.si)\n",
    "\n",
    "### [Astropy Constants](https://docs.astropy.org/en/stable/constants/#module-astropy.constants)\n",
    "\n",
    "### [Numpy Math Functions](https://docs.scipy.org/doc/numpy-1.13.0/reference/routines.math.html)\n",
    "\n",
    "---"
   ]
  },
  {
   "cell_type": "markdown",
   "metadata": {},
   "source": [
    "* Use the `Astropy` units and constants packages to solve the following problems.\n",
    "* Do not hardcode any constants!\n",
    "* Unless asked, your units should be in the simplest SI units possible.\n",
    "* For each problem:\n",
    "  * Write a FUNCTION to solve the problem\n",
    "  * Run the function with input with units\n",
    "  * Format the output as a sentence - For example: `The range would be 123 km.`"
   ]
  },
  {
   "cell_type": "code",
   "execution_count": 1,
   "metadata": {
    "jupyter": {
     "outputs_hidden": false
    }
   },
   "outputs": [
    {
     "data": {
      "text/plain": [
       "<astropy.units.core._UnitContext at 0x7fa4f23d5590>"
      ]
     },
     "execution_count": 1,
     "metadata": {},
     "output_type": "execute_result"
    }
   ],
   "source": [
    "import numpy as np\n",
    "\n",
    "from astropy import units as u\n",
    "from astropy import constants as const\n",
    "from astropy.units import imperial\n",
    "imperial.enable()"
   ]
  },
  {
   "cell_type": "markdown",
   "metadata": {},
   "source": [
    "---\n",
    "\n",
    "### The range of a projectile launched with a velocity (v) at and angle ($\\theta$) is\n",
    "\n",
    "$$ \\large\n",
    "R\\ =\\  {v^2 \\over g}\\ sin(2\\theta)\n",
    "$$"
   ]
  },
  {
   "cell_type": "markdown",
   "metadata": {},
   "source": [
    "**Problem 1** - Find R for v = 123 mph and $\\theta$ = 1000 arc minutes"
   ]
  },
  {
   "cell_type": "code",
   "execution_count": 2,
   "metadata": {
    "jupyter": {
     "outputs_hidden": false
    }
   },
   "outputs": [],
   "source": [
    "# Write a function\n",
    "def find_range_projectile(velocity,angle):\n",
    "    range_projectile = (velocity)**2/const.g0*(np.sin(2*angle))\n",
    "    return range_projectile.decompose()"
   ]
  },
  {
   "cell_type": "code",
   "execution_count": 3,
   "metadata": {
    "jupyter": {
     "outputs_hidden": false
    }
   },
   "outputs": [
    {
     "data": {
      "text/latex": [
       "$169.41705 \\; \\mathrm{m}$"
      ],
      "text/plain": [
       "<Quantity 169.41704742 m>"
      ]
     },
     "execution_count": 3,
     "metadata": {},
     "output_type": "execute_result"
    }
   ],
   "source": [
    "# Run the Function\n",
    "projectile_velocity = 123 * imperial.mi/u.h\n",
    "angle_theta = 1000 * u.arcminute\n",
    "range_of_projectile = find_range_projectile(projectile_velocity,angle_theta)\n",
    "range_of_projectile"
   ]
  },
  {
   "cell_type": "code",
   "execution_count": 4,
   "metadata": {
    "jupyter": {
     "outputs_hidden": false
    }
   },
   "outputs": [
    {
     "data": {
      "text/plain": [
       "'The range of a projectile launched with a velocity of 123MPH at an angle of 1000arcmin = 169.42 m'"
      ]
     },
     "execution_count": 4,
     "metadata": {},
     "output_type": "execute_result"
    }
   ],
   "source": [
    "# Format the output\n",
    "f\"The range of a projectile launched with a velocity of 123MPH at an angle of 1000arcmin = {range_of_projectile:.2f}\""
   ]
  },
  {
   "cell_type": "markdown",
   "metadata": {},
   "source": [
    "**Problem 2** - How fast do you have to throw a football at 33.3 degrees so that is goes exactly 100 yards? Express your answer in mph"
   ]
  },
  {
   "cell_type": "code",
   "execution_count": 5,
   "metadata": {
    "jupyter": {
     "outputs_hidden": false
    }
   },
   "outputs": [],
   "source": [
    "# Write a function\n",
    "def find_velocity_projectile(radius,angle):\n",
    "    velocity_projectile = np.sqrt((radius)*(const.g0)/(np.sin(2*angle)))\n",
    "    return velocity_projectile.decompose()"
   ]
  },
  {
   "cell_type": "code",
   "execution_count": 6,
   "metadata": {
    "jupyter": {
     "outputs_hidden": false
    }
   },
   "outputs": [
    {
     "data": {
      "text/latex": [
       "$69.922794 \\; \\mathrm{\\frac{mi}{h}}$"
      ],
      "text/plain": [
       "<Quantity 69.92279357 mi / h>"
      ]
     },
     "execution_count": 6,
     "metadata": {},
     "output_type": "execute_result"
    }
   ],
   "source": [
    "# Run the Function\n",
    "projectile_radius = 100 * imperial.yard\n",
    "angle_theta = 33.3 * u.deg\n",
    "velocity_of_projectile = find_velocity_projectile(projectile_radius,angle_theta).to(imperial.mi/u.hr)\n",
    "velocity_of_projectile"
   ]
  },
  {
   "cell_type": "code",
   "execution_count": 7,
   "metadata": {
    "jupyter": {
     "outputs_hidden": false
    }
   },
   "outputs": [
    {
     "data": {
      "text/plain": [
       "'The velocity of a projectile launched at 33.3 degrees that goes exactly 100 yards = 69.92 mi / h'"
      ]
     },
     "execution_count": 7,
     "metadata": {},
     "output_type": "execute_result"
    }
   ],
   "source": [
    "# Format the output\n",
    "f\"The velocity of a projectile launched at 33.3 degrees that goes exactly 100 yards = {velocity_of_projectile:.2f}\""
   ]
  },
  {
   "cell_type": "markdown",
   "metadata": {},
   "source": [
    "---\n",
    "\n",
    "### Kepler's third law can be expressed as:\n",
    "\n",
    "$$ \\large\n",
    "T^2 = \\left( {{4\\pi^2} \\over {GM}} \\right)\\ r^3 \n",
    "$$\n",
    "\n",
    "Where __T__ is the orbial period of an object at distance (__r__) from the center of an object of mass (__M__)."
   ]
  },
  {
   "cell_type": "markdown",
   "metadata": {},
   "source": [
    "And the velocity of an object in orbit is\n",
    "\n",
    "$$ \\large\n",
    "v=\\sqrt{GM\\over r}\n",
    "$$"
   ]
  },
  {
   "cell_type": "markdown",
   "metadata": {},
   "source": [
    "**Problem 3** - Calculate the orbital period of International Space Station (ISS). ISS orbits 254 miles above the **surface** of the Earth. Expess your answer in minutes (make sure your answer makes sense!)."
   ]
  },
  {
   "cell_type": "code",
   "execution_count": 8,
   "metadata": {
    "jupyter": {
     "outputs_hidden": false
    }
   },
   "outputs": [],
   "source": [
    "# Write a function\n",
    "def calc_orbital_period_iss(altitude):\n",
    "    orbital_period_iss = np.sqrt((4*(np.pi**2)*(const.R_earth+altitude)**3)/(const.M_earth*const.G))\n",
    "    return orbital_period_iss.decompose()"
   ]
  },
  {
   "cell_type": "code",
   "execution_count": 9,
   "metadata": {
    "jupyter": {
     "outputs_hidden": false
    }
   },
   "outputs": [
    {
     "data": {
      "text/latex": [
       "$92.739419 \\; \\mathrm{min}$"
      ],
      "text/plain": [
       "<Quantity 92.73941941 min>"
      ]
     },
     "execution_count": 9,
     "metadata": {},
     "output_type": "execute_result"
    }
   ],
   "source": [
    "# Run the Function\n",
    "altitude_of_iss = 254 * imperial.mi\n",
    "find_orbital_period = calc_orbital_period_iss(altitude_of_iss).to(u.min)\n",
    "find_orbital_period"
   ]
  },
  {
   "cell_type": "code",
   "execution_count": 10,
   "metadata": {
    "jupyter": {
     "outputs_hidden": false
    }
   },
   "outputs": [
    {
     "data": {
      "text/plain": [
       "'The orbital period of the ISS = 92.74 min'"
      ]
     },
     "execution_count": 10,
     "metadata": {},
     "output_type": "execute_result"
    }
   ],
   "source": [
    "# Format the output\n",
    "f\"The orbital period of the ISS = {find_orbital_period:.2f}\""
   ]
  },
  {
   "cell_type": "markdown",
   "metadata": {},
   "source": [
    "**Problem 4** - Calculate the velocity of ISS. Expess your answer in km/s and mph."
   ]
  },
  {
   "cell_type": "code",
   "execution_count": 11,
   "metadata": {
    "jupyter": {
     "outputs_hidden": false
    }
   },
   "outputs": [],
   "source": [
    "# Write a function\n",
    "def calc_iss_velocity(altitude):\n",
    "    velocity = np.sqrt((const.M_earth*const.G)/(const.R_earth+altitude))\n",
    "    return velocity"
   ]
  },
  {
   "cell_type": "code",
   "execution_count": 12,
   "metadata": {
    "jupyter": {
     "outputs_hidden": false
    }
   },
   "outputs": [
    {
     "name": "stdout",
     "output_type": "stream",
     "text": [
      "7.663620523560083 km / s\n",
      "17143.03087768451 mi / h\n"
     ]
    }
   ],
   "source": [
    "# Run the Function\n",
    "find_iss_velocity_kms = calc_iss_velocity(altitude_of_iss).to(u.km/u.s)\n",
    "print(find_iss_velocity_kms)\n",
    "find_iss_velocity_mph = calc_iss_velocity(altitude_of_iss).to(imperial.mi/u.h)\n",
    "print(find_iss_velocity_mph)"
   ]
  },
  {
   "cell_type": "code",
   "execution_count": 13,
   "metadata": {
    "jupyter": {
     "outputs_hidden": false
    }
   },
   "outputs": [
    {
     "data": {
      "text/plain": [
       "'The velocity of the ISS is equal to: 17143.03 mi / h and also expressed as 7.66 km / s'"
      ]
     },
     "execution_count": 13,
     "metadata": {},
     "output_type": "execute_result"
    }
   ],
   "source": [
    "# Format the output\n",
    "f\"The velocity of the ISS is equal to: {find_iss_velocity_mph:.2f} and also expressed as {find_iss_velocity_kms:.2f}\""
   ]
  },
  {
   "cell_type": "markdown",
   "metadata": {},
   "source": [
    "**Problem 5** - The Procliamer's song [500 miles](https://youtu.be/MJuyn0WAYNI?t=27s) has a duration of 3 minutes and 33 seconds. Calculate at what altitude, above the Earth's surface, you would have to orbit to go 1000 miles in this time. Express your answer in miles about the Earth's surface."
   ]
  },
  {
   "cell_type": "code",
   "execution_count": 14,
   "metadata": {
    "jupyter": {
     "outputs_hidden": false
    }
   },
   "outputs": [],
   "source": [
    "# Write a function\n",
    "def find_altitude(time,distance):\n",
    "    altitude = ((time**2*const.G*const.M_earth)/distance**2)-const.R_earth\n",
    "    return altitude"
   ]
  },
  {
   "cell_type": "code",
   "execution_count": 15,
   "metadata": {
    "jupyter": {
     "outputs_hidden": false
    }
   },
   "outputs": [],
   "source": [
    "# Run the Function\n",
    "procliamers_song = 3*u.minute+33*u.second\n",
    "travel_distance = 1000*imperial.mile"
   ]
  },
  {
   "cell_type": "code",
   "execution_count": 16,
   "metadata": {},
   "outputs": [
    {
     "data": {
      "text/latex": [
       "$375.43909 \\; \\mathrm{mi}$"
      ],
      "text/plain": [
       "<Quantity 375.4390875 mi>"
      ]
     },
     "execution_count": 16,
     "metadata": {},
     "output_type": "execute_result"
    }
   ],
   "source": [
    "radius_finder = find_altitude(procliamers_song, travel_distance).to(imperial.mi)\n",
    "radius_finder"
   ]
  },
  {
   "cell_type": "code",
   "execution_count": 17,
   "metadata": {
    "jupyter": {
     "outputs_hidden": false
    }
   },
   "outputs": [
    {
     "data": {
      "text/plain": [
       "'You would have to orbit at an altitude of 375.44 mi above the earth to travel 1000.0 mi in the duration of 3 minutes and 33 seconds.'"
      ]
     },
     "execution_count": 17,
     "metadata": {},
     "output_type": "execute_result"
    }
   ],
   "source": [
    "# Format the output\n",
    "f\"You would have to orbit at an altitude of {radius_finder:.2f} above the earth to travel {travel_distance} in the duration of 3 minutes and 33 seconds.\""
   ]
  },
  {
   "cell_type": "markdown",
   "metadata": {},
   "source": [
    "---\n",
    "\n",
    "### The Power being received by a solar panel in space can be expressed as:\n",
    "\n",
    "$$ \\large\n",
    "I\\  =\\ {{L_{\\odot}} \\over {4 \\pi d^2}}\\ \\varepsilon\n",
    "$$\n",
    "\n",
    "Where __I__ is the power __per unit area__ at a distance (__d__) from the Sun, and $\\varepsilon$ is the efficiency of the solar panel.\n",
    "\n",
    "The solar panels that power spacecraft have an efficiency of about 40%."
   ]
  },
  {
   "cell_type": "markdown",
   "metadata": {},
   "source": [
    "**Problem 6** -  The [New Horizons](http://pluto.jhuapl.edu/) spacecraft requires 220 Watts of power.\n",
    "\n",
    "Calculate the area of a solar panel that would be needed to power New Horizons at a distance of 1 AU from the Sun."
   ]
  },
  {
   "cell_type": "code",
   "execution_count": 18,
   "metadata": {
    "jupyter": {
     "outputs_hidden": false
    }
   },
   "outputs": [],
   "source": [
    "# Write a function\n",
    "def solarpanel_area(power,efficiency,distance):\n",
    "    area = (power*4*np.pi*distance**2)/(const.L_sun*efficiency)\n",
    "    return area"
   ]
  },
  {
   "cell_type": "code",
   "execution_count": 19,
   "metadata": {
    "jupyter": {
     "outputs_hidden": false
    }
   },
   "outputs": [
    {
     "data": {
      "text/latex": [
       "$0.4040652 \\; \\mathrm{m^{2}}$"
      ],
      "text/plain": [
       "<Quantity 0.4040652 m2>"
      ]
     },
     "execution_count": 19,
     "metadata": {},
     "output_type": "execute_result"
    }
   ],
   "source": [
    "# Run the Function\n",
    "power_requirement = 220*u.watt\n",
    "panel_efficiency = 0.4\n",
    "orbital_distance = const.au\n",
    "\n",
    "panel_area = solarpanel_area(power_requirement,panel_efficiency,orbital_distance)\n",
    "panel_area"
   ]
  },
  {
   "cell_type": "code",
   "execution_count": 20,
   "metadata": {
    "jupyter": {
     "outputs_hidden": false
    }
   },
   "outputs": [
    {
     "data": {
      "text/plain": [
       "'The area of the solar panel need to be 0.40 m2 to power New Horizons at a distance of 1AU'"
      ]
     },
     "execution_count": 20,
     "metadata": {},
     "output_type": "execute_result"
    }
   ],
   "source": [
    "# Format the output\n",
    "f\"The area of the solar panel need to be {panel_area:.2f} to power New Horizons at a distance of 1AU\""
   ]
  },
  {
   "cell_type": "markdown",
   "metadata": {},
   "source": [
    "**Problem 7** - Express your answer in units of the area of a piece of US letter sized paper (8.5 in x 11 in)."
   ]
  },
  {
   "cell_type": "code",
   "execution_count": 21,
   "metadata": {
    "jupyter": {
     "outputs_hidden": false
    }
   },
   "outputs": [],
   "source": [
    "# Format the output\n",
    "paper_area = u.def_unit('US letter sized pieces of paper', 8.5*imperial.inch*11*imperial.inch)"
   ]
  },
  {
   "cell_type": "code",
   "execution_count": 22,
   "metadata": {},
   "outputs": [
    {
     "data": {
      "text/plain": [
       "'The area of the solar panel must be equivalent to 6.70 US letter sized pieces of paper'"
      ]
     },
     "execution_count": 22,
     "metadata": {},
     "output_type": "execute_result"
    }
   ],
   "source": [
    "f\"The area of the solar panel must be equivalent to {panel_area.to(paper_area):.2f}\""
   ]
  },
  {
   "cell_type": "markdown",
   "metadata": {},
   "source": [
    "**Problem 8** - Same question as above but now a d = 30 AU.\n",
    "\n",
    "Express you answer in US letter sized paper"
   ]
  },
  {
   "cell_type": "code",
   "execution_count": 23,
   "metadata": {
    "jupyter": {
     "outputs_hidden": false
    }
   },
   "outputs": [],
   "source": [
    "# Run the Function\n",
    "power_requirement = 220*u.watt\n",
    "panel_efficiency = 0.4\n",
    "orbital_distance = const.au*30"
   ]
  },
  {
   "cell_type": "code",
   "execution_count": 24,
   "metadata": {},
   "outputs": [
    {
     "data": {
      "text/latex": [
       "$6028.5784 \\; \\mathrm{US letter sized pieces of paper}$"
      ],
      "text/plain": [
       "<Quantity 6028.57840924 US letter sized pieces of paper>"
      ]
     },
     "execution_count": 24,
     "metadata": {},
     "output_type": "execute_result"
    }
   ],
   "source": [
    "panel_area = solarpanel_area(power_requirement,panel_efficiency,orbital_distance).to(paper_area)\n",
    "panel_area"
   ]
  },
  {
   "cell_type": "code",
   "execution_count": 25,
   "metadata": {
    "jupyter": {
     "outputs_hidden": false
    }
   },
   "outputs": [
    {
     "data": {
      "text/plain": [
       "'The area of solar panels must be equivalent to 6028.58 US letter sized pieces of paper'"
      ]
     },
     "execution_count": 25,
     "metadata": {},
     "output_type": "execute_result"
    }
   ],
   "source": [
    "# Format the output\n",
    "f\"The area of solar panels must be equivalent to {panel_area:.2f}\""
   ]
  },
  {
   "cell_type": "markdown",
   "metadata": {},
   "source": [
    "**Problem 9** - The main part of the Oort cloud is thought to be at a distance of about 10,000 AU.\n",
    "\n",
    "Calculate the size of the solar panel New Horizons would need to operate in the Oort cloud.\n",
    "\n",
    "Express your answer in units of the area of the pitch at [Carrow Row](https://en.wikipedia.org/wiki/Carrow_Road) (114 yd x 74 yd)."
   ]
  },
  {
   "cell_type": "code",
   "execution_count": 26,
   "metadata": {
    "jupyter": {
     "outputs_hidden": false
    }
   },
   "outputs": [],
   "source": [
    "# Run the Function\n",
    "orbital_distance = 10000*const.au\n",
    "carrow_area = 114*imperial.yard*74*imperial.yard"
   ]
  },
  {
   "cell_type": "code",
   "execution_count": 27,
   "metadata": {},
   "outputs": [
    {
     "data": {
      "text/latex": [
       "$5728.5201 \\; \\mathrm{Carrow Row Stadium}$"
      ],
      "text/plain": [
       "<Quantity 5728.52011839 Carrow Row Stadium>"
      ]
     },
     "execution_count": 27,
     "metadata": {},
     "output_type": "execute_result"
    }
   ],
   "source": [
    "carrow_row = u.def_unit('Carrow Row Stadium', carrow_area)\n",
    "panel_area = solarpanel_area(power_requirement,panel_efficiency,orbital_distance).to(carrow_row)\n",
    "panel_area"
   ]
  },
  {
   "cell_type": "code",
   "execution_count": 28,
   "metadata": {
    "jupyter": {
     "outputs_hidden": false
    }
   },
   "outputs": [
    {
     "data": {
      "text/plain": [
       "'The area of solar panels must be equivalent to 5728.52 Carrow Row Stadium'"
      ]
     },
     "execution_count": 28,
     "metadata": {},
     "output_type": "execute_result"
    }
   ],
   "source": [
    "# Format the output\n",
    "f\"The area of solar panels must be equivalent to {panel_area:.2f}\""
   ]
  },
  {
   "cell_type": "markdown",
   "metadata": {},
   "source": [
    "**Problem 10** - Calculate the maximum distance from the Sun where a solar panel of 1 Carrow Row pitch can power the New Horizons spacecraft. Express your answer in AU."
   ]
  },
  {
   "cell_type": "code",
   "execution_count": 29,
   "metadata": {
    "jupyter": {
     "outputs_hidden": false
    }
   },
   "outputs": [],
   "source": [
    "# Write a function\n",
    "def max_distance(area,power,efficiency):\n",
    "    distance = np.sqrt(((area)*(const.L_sun)*(efficiency))/(4*np.pi*power))\n",
    "    return distance"
   ]
  },
  {
   "cell_type": "code",
   "execution_count": 30,
   "metadata": {
    "jupyter": {
     "outputs_hidden": false
    }
   },
   "outputs": [
    {
     "data": {
      "text/latex": [
       "$132.12311 \\; \\mathrm{AU}$"
      ],
      "text/plain": [
       "<Quantity 132.12310721 AU>"
      ]
     },
     "execution_count": 30,
     "metadata": {},
     "output_type": "execute_result"
    }
   ],
   "source": [
    "# Run the Function\n",
    "panel_distance= max_distance(carrow_area,power_requirement,panel_efficiency).to(u.au)\n",
    "panel_distance"
   ]
  },
  {
   "cell_type": "code",
   "execution_count": 31,
   "metadata": {
    "jupyter": {
     "outputs_hidden": false
    }
   },
   "outputs": [
    {
     "data": {
      "text/plain": [
       "'The max distance from the Sun will be 132.12 AU where a solar panel of 1 Carrow Row pitch can power the NHS'"
      ]
     },
     "execution_count": 31,
     "metadata": {},
     "output_type": "execute_result"
    }
   ],
   "source": [
    "# Format the output\n",
    "f\"The max distance from the Sun will be {panel_distance:.2f} where a solar panel of 1 Carrow Row pitch can power the NHS\""
   ]
  },
  {
   "cell_type": "markdown",
   "metadata": {},
   "source": [
    "---\n",
    "\n",
    "### Dark Matter Halo\n",
    "\n",
    "The distribution of mass density in a dark matter halo can be appoximated as:\n",
    "\n",
    "\n",
    "$$\n",
    "\\large\n",
    "\\rho (r)\\  =\\ \\frac{\\rho_{0}}\n",
    "{1 + \\left(\\frac{r}{r_{c}}\\right)^{2}}\n",
    "$$\n",
    "\n",
    "Where $r$ is the distance from the center of the Galaxy."
   ]
  },
  {
   "cell_type": "markdown",
   "metadata": {},
   "source": [
    "**Problem 11** - Calculate the dark matter mass density at $r$ =  26092.51 light years, with $r_{c}$ = 5.78 $\\times$ 10$^{8}$ AU and $\\rho_{0}$ = \n",
    "5.9 $\\times$ 10$^{7}$ M$_{\\odot}$/kpc$^{3}$.\n",
    "\n",
    "Express your answer in proton masses per cm$^{3}$."
   ]
  },
  {
   "cell_type": "code",
   "execution_count": 32,
   "metadata": {
    "jupyter": {
     "outputs_hidden": false
    }
   },
   "outputs": [],
   "source": [
    "# Write a function\n",
    "def dark_matter_density(rho_knot,r,r_c):\n",
    "    p_r = (rho_knot)/(1+(r/r_c)**2)\n",
    "    return p_r"
   ]
  },
  {
   "cell_type": "code",
   "execution_count": 33,
   "metadata": {
    "jupyter": {
     "outputs_hidden": false
    }
   },
   "outputs": [
    {
     "data": {
      "text/latex": [
       "$0.26089894 \\; \\mathrm{\\frac{Proton Masses}{cm^{3}}}$"
      ],
      "text/plain": [
       "<Quantity 0.26089894 Proton Masses / cm3>"
      ]
     },
     "execution_count": 33,
     "metadata": {},
     "output_type": "execute_result"
    }
   ],
   "source": [
    "# Run the Function\n",
    "rho_knot = (5.9*10**7)*(u.M_sun/u.kiloparsec**3)\n",
    "r = 26092.51*u.lightyear\n",
    "r_c = 5.78*10**8*u.au\n",
    "proton_masses = u.def_unit('Proton Masses', const.m_p)\n",
    "\n",
    "dark_matter = dark_matter_density(rho_knot,r,r_c).to(proton_masses/u.cm**3)\n",
    "dark_matter"
   ]
  },
  {
   "cell_type": "code",
   "execution_count": 34,
   "metadata": {
    "jupyter": {
     "outputs_hidden": false
    }
   },
   "outputs": [
    {
     "data": {
      "text/plain": [
       "'The Dark Matter Mass Density at the given information is 0.26 Proton Masses / cm3'"
      ]
     },
     "execution_count": 34,
     "metadata": {},
     "output_type": "execute_result"
    }
   ],
   "source": [
    "# Format the output\n",
    "f\"The Dark Matter Mass Density at the given information is {dark_matter:.2f}\""
   ]
  },
  {
   "cell_type": "markdown",
   "metadata": {},
   "source": [
    "---\n",
    "\n",
    "### Earth?\n",
    "\n",
    "The self gravitational potential energy of the Earth is:\n",
    "\n",
    "$$ \\large\n",
    "PE \\ = \\ \\frac{3}{5} \\cdot \\frac{GM_{\\oplus}^2}{R_{\\oplus}}\n",
    "$$\n",
    "\n",
    "This is the amount of energy you need to give the Earth to move all of its components pieces infinitely far away (i.e. to destroy it!)."
   ]
  },
  {
   "cell_type": "markdown",
   "metadata": {},
   "source": [
    "**Problem 12** - Calculate how massive an object you would have to hit the Earth with at 45,000 mph to destroy the Earth. Express your answer in Earth masses."
   ]
  },
  {
   "cell_type": "code",
   "execution_count": 35,
   "metadata": {
    "jupyter": {
     "outputs_hidden": false
    }
   },
   "outputs": [],
   "source": [
    "# Write a function\n",
    "def find_mass(velocity):\n",
    "    mass_destroy = (6*const.G*const.M_earth**2)/(5*const.R_earth*velocity**2)\n",
    "    return mass_destroy.decompose()"
   ]
  },
  {
   "cell_type": "code",
   "execution_count": 36,
   "metadata": {
    "jupyter": {
     "outputs_hidden": false
    }
   },
   "outputs": [
    {
     "data": {
      "text/latex": [
       "$0.18531469 \\; \\mathrm{M_{\\oplus}}$"
      ],
      "text/plain": [
       "<Quantity 0.18531469 earthMass>"
      ]
     },
     "execution_count": 36,
     "metadata": {},
     "output_type": "execute_result"
    }
   ],
   "source": [
    "# Run the Function\n",
    "object_velocity = 45000*imperial.mi/u.hr\n",
    "\n",
    "mass_destroy_earth = find_mass(object_velocity).to(u.M_earth)\n",
    "mass_destroy_earth"
   ]
  },
  {
   "cell_type": "code",
   "execution_count": 37,
   "metadata": {
    "jupyter": {
     "outputs_hidden": false
    }
   },
   "outputs": [
    {
     "data": {
      "text/plain": [
       "' An object which is 0.19 earthMass moving at 45000.0 mi / h will be able to completely destroy the Earth'"
      ]
     },
     "execution_count": 37,
     "metadata": {},
     "output_type": "execute_result"
    }
   ],
   "source": [
    "# Format the output\n",
    "f\" An object which is {mass_destroy_earth:.2f} moving at {object_velocity} will be able to completely destroy the Earth\""
   ]
  },
  {
   "cell_type": "markdown",
   "metadata": {},
   "source": [
    "---\n",
    "\n",
    "### Due Mon Feb 3 - 1 pm\n",
    "- `Make sure to change the filename to your name!`\n",
    "- `Make sure to change the Title to your name!`\n",
    "- `Save your file to HTML: File -> Download as -> HTML`\n",
    "- `Upload the .html file to Canvas`"
   ]
  },
  {
   "cell_type": "code",
   "execution_count": null,
   "metadata": {},
   "outputs": [],
   "source": []
  }
 ],
 "metadata": {
  "kernelspec": {
   "display_name": "Python 3",
   "language": "python",
   "name": "python3"
  },
  "language_info": {
   "codemirror_mode": {
    "name": "ipython",
    "version": 3
   },
   "file_extension": ".py",
   "mimetype": "text/x-python",
   "name": "python",
   "nbconvert_exporter": "python",
   "pygments_lexer": "ipython3",
   "version": "3.7.6"
  }
 },
 "nbformat": 4,
 "nbformat_minor": 4
}
