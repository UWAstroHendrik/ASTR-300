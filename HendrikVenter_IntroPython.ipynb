{
 "cells": [
  {
   "cell_type": "markdown",
   "metadata": {},
   "source": [
    "## Hendrik Venter - IntroPython"
   ]
  },
  {
   "cell_type": "code",
   "execution_count": 1,
   "metadata": {
    "jupyter": {
     "outputs_hidden": false
    }
   },
   "outputs": [
    {
     "data": {
      "application/javascript": [
       "\n",
       "            setTimeout(function() {\n",
       "                var nbb_cell_id = 1;\n",
       "                var nbb_unformatted_code = \"%load_ext nb_black\";\n",
       "                var nbb_formatted_code = \"%load_ext nb_black\";\n",
       "                var nbb_cells = Jupyter.notebook.get_cells();\n",
       "                for (var i = 0; i < nbb_cells.length; ++i) {\n",
       "                    if (nbb_cells[i].input_prompt_number == nbb_cell_id) {\n",
       "                        if (nbb_cells[i].get_text() == nbb_unformatted_code) {\n",
       "                             nbb_cells[i].set_text(nbb_formatted_code);\n",
       "                        }\n",
       "                        break;\n",
       "                    }\n",
       "                }\n",
       "            }, 500);\n",
       "            "
      ],
      "text/plain": [
       "<IPython.core.display.Javascript object>"
      ]
     },
     "metadata": {},
     "output_type": "display_data"
    }
   ],
   "source": [
    "%load_ext nb_black"
   ]
  },
  {
   "cell_type": "code",
   "execution_count": 2,
   "metadata": {
    "jupyter": {
     "outputs_hidden": false
    }
   },
   "outputs": [
    {
     "data": {
      "application/javascript": [
       "\n",
       "            setTimeout(function() {\n",
       "                var nbb_cell_id = 2;\n",
       "                var nbb_unformatted_code = \"import numpy as np\";\n",
       "                var nbb_formatted_code = \"import numpy as np\";\n",
       "                var nbb_cells = Jupyter.notebook.get_cells();\n",
       "                for (var i = 0; i < nbb_cells.length; ++i) {\n",
       "                    if (nbb_cells[i].input_prompt_number == nbb_cell_id) {\n",
       "                        if (nbb_cells[i].get_text() == nbb_unformatted_code) {\n",
       "                             nbb_cells[i].set_text(nbb_formatted_code);\n",
       "                        }\n",
       "                        break;\n",
       "                    }\n",
       "                }\n",
       "            }, 500);\n",
       "            "
      ],
      "text/plain": [
       "<IPython.core.display.Javascript object>"
      ]
     },
     "metadata": {},
     "output_type": "display_data"
    }
   ],
   "source": [
    "import numpy as np"
   ]
  },
  {
   "cell_type": "markdown",
   "metadata": {},
   "source": [
    "### Create an array called: `abs_mag`\n",
    "* 100 evenly spaced point between -5.0 and 10.0"
   ]
  },
  {
   "cell_type": "code",
   "execution_count": 3,
   "metadata": {
    "jupyter": {
     "outputs_hidden": false
    }
   },
   "outputs": [
    {
     "data": {
      "application/javascript": [
       "\n",
       "            setTimeout(function() {\n",
       "                var nbb_cell_id = 3;\n",
       "                var nbb_unformatted_code = \"#alt+enter=new cell\";\n",
       "                var nbb_formatted_code = \"# alt+enter=new cell\";\n",
       "                var nbb_cells = Jupyter.notebook.get_cells();\n",
       "                for (var i = 0; i < nbb_cells.length; ++i) {\n",
       "                    if (nbb_cells[i].input_prompt_number == nbb_cell_id) {\n",
       "                        if (nbb_cells[i].get_text() == nbb_unformatted_code) {\n",
       "                             nbb_cells[i].set_text(nbb_formatted_code);\n",
       "                        }\n",
       "                        break;\n",
       "                    }\n",
       "                }\n",
       "            }, 500);\n",
       "            "
      ],
      "text/plain": [
       "<IPython.core.display.Javascript object>"
      ]
     },
     "metadata": {},
     "output_type": "display_data"
    }
   ],
   "source": [
    "#alt+enter=new cell"
   ]
  },
  {
   "cell_type": "code",
   "execution_count": 4,
   "metadata": {},
   "outputs": [
    {
     "data": {
      "text/plain": [
       "array([-5.        , -4.84848485, -4.6969697 , -4.54545455, -4.39393939,\n",
       "       -4.24242424, -4.09090909, -3.93939394, -3.78787879, -3.63636364,\n",
       "       -3.48484848, -3.33333333, -3.18181818, -3.03030303, -2.87878788,\n",
       "       -2.72727273, -2.57575758, -2.42424242, -2.27272727, -2.12121212,\n",
       "       -1.96969697, -1.81818182, -1.66666667, -1.51515152, -1.36363636,\n",
       "       -1.21212121, -1.06060606, -0.90909091, -0.75757576, -0.60606061,\n",
       "       -0.45454545, -0.3030303 , -0.15151515,  0.        ,  0.15151515,\n",
       "        0.3030303 ,  0.45454545,  0.60606061,  0.75757576,  0.90909091,\n",
       "        1.06060606,  1.21212121,  1.36363636,  1.51515152,  1.66666667,\n",
       "        1.81818182,  1.96969697,  2.12121212,  2.27272727,  2.42424242,\n",
       "        2.57575758,  2.72727273,  2.87878788,  3.03030303,  3.18181818,\n",
       "        3.33333333,  3.48484848,  3.63636364,  3.78787879,  3.93939394,\n",
       "        4.09090909,  4.24242424,  4.39393939,  4.54545455,  4.6969697 ,\n",
       "        4.84848485,  5.        ,  5.15151515,  5.3030303 ,  5.45454545,\n",
       "        5.60606061,  5.75757576,  5.90909091,  6.06060606,  6.21212121,\n",
       "        6.36363636,  6.51515152,  6.66666667,  6.81818182,  6.96969697,\n",
       "        7.12121212,  7.27272727,  7.42424242,  7.57575758,  7.72727273,\n",
       "        7.87878788,  8.03030303,  8.18181818,  8.33333333,  8.48484848,\n",
       "        8.63636364,  8.78787879,  8.93939394,  9.09090909,  9.24242424,\n",
       "        9.39393939,  9.54545455,  9.6969697 ,  9.84848485, 10.        ])"
      ]
     },
     "execution_count": 4,
     "metadata": {},
     "output_type": "execute_result"
    },
    {
     "data": {
      "application/javascript": [
       "\n",
       "            setTimeout(function() {\n",
       "                var nbb_cell_id = 4;\n",
       "                var nbb_unformatted_code = \"abs_mag = np.linspace(-5.0,10.0,100)\\n\\nabs_mag\";\n",
       "                var nbb_formatted_code = \"abs_mag = np.linspace(-5.0, 10.0, 100)\\n\\nabs_mag\";\n",
       "                var nbb_cells = Jupyter.notebook.get_cells();\n",
       "                for (var i = 0; i < nbb_cells.length; ++i) {\n",
       "                    if (nbb_cells[i].input_prompt_number == nbb_cell_id) {\n",
       "                        if (nbb_cells[i].get_text() == nbb_unformatted_code) {\n",
       "                             nbb_cells[i].set_text(nbb_formatted_code);\n",
       "                        }\n",
       "                        break;\n",
       "                    }\n",
       "                }\n",
       "            }, 500);\n",
       "            "
      ],
      "text/plain": [
       "<IPython.core.display.Javascript object>"
      ]
     },
     "metadata": {},
     "output_type": "display_data"
    }
   ],
   "source": [
    "abs_mag = np.linspace(-5.0,10.0,100)\n",
    "\n",
    "abs_mag"
   ]
  },
  {
   "cell_type": "markdown",
   "metadata": {},
   "source": [
    "### Write a function called  `find_app_mag` to compute:\n",
    "\n",
    "$$ \\large 5\\log _{10}\\left({\\frac {d}{10}}\\right) + \\textrm{M}$$"
   ]
  },
  {
   "cell_type": "code",
   "execution_count": 5,
   "metadata": {
    "jupyter": {
     "outputs_hidden": false
    }
   },
   "outputs": [
    {
     "data": {
      "application/javascript": [
       "\n",
       "            setTimeout(function() {\n",
       "                var nbb_cell_id = 5;\n",
       "                var nbb_unformatted_code = \"def find_app_mag(my_d, my_M):\\n    result = 5 * np.log10(my_d/10) + my_M\\n    return result\";\n",
       "                var nbb_formatted_code = \"def find_app_mag(my_d, my_M):\\n    result = 5 * np.log10(my_d / 10) + my_M\\n    return result\";\n",
       "                var nbb_cells = Jupyter.notebook.get_cells();\n",
       "                for (var i = 0; i < nbb_cells.length; ++i) {\n",
       "                    if (nbb_cells[i].input_prompt_number == nbb_cell_id) {\n",
       "                        if (nbb_cells[i].get_text() == nbb_unformatted_code) {\n",
       "                             nbb_cells[i].set_text(nbb_formatted_code);\n",
       "                        }\n",
       "                        break;\n",
       "                    }\n",
       "                }\n",
       "            }, 500);\n",
       "            "
      ],
      "text/plain": [
       "<IPython.core.display.Javascript object>"
      ]
     },
     "metadata": {},
     "output_type": "display_data"
    }
   ],
   "source": [
    "def find_app_mag(my_dist, abs_mag):\n",
    "    result = 5 * np.log10(my_dist/10) + abs_mag\n",
    "    return result"
   ]
  },
  {
   "cell_type": "markdown",
   "metadata": {},
   "source": [
    "### Apply the function `find_app_mag` for:\n",
    "* M = `abs_mag`\n",
    "* d = 50\n",
    "* Call the output array: `app_mag`"
   ]
  },
  {
   "cell_type": "code",
   "execution_count": 9,
   "metadata": {
    "jupyter": {
     "outputs_hidden": false
    }
   },
   "outputs": [
    {
     "data": {
      "text/plain": [
       "array([-1.50514998e+00, -1.35363483e+00, -1.20211968e+00, -1.05060452e+00,\n",
       "       -8.99089372e-01, -7.47574221e-01, -5.96059069e-01, -4.44543918e-01,\n",
       "       -2.93028766e-01, -1.41513615e-01,  1.00015368e-02,  1.61516688e-01,\n",
       "        3.13031840e-01,  4.64546991e-01,  6.16062143e-01,  7.67577294e-01,\n",
       "        9.19092446e-01,  1.07060760e+00,  1.22212275e+00,  1.37363790e+00,\n",
       "        1.52515305e+00,  1.67666820e+00,  1.82818336e+00,  1.97969851e+00,\n",
       "        2.13121366e+00,  2.28272881e+00,  2.43424396e+00,  2.58575911e+00,\n",
       "        2.73727426e+00,  2.88878942e+00,  3.04030457e+00,  3.19181972e+00,\n",
       "        3.34333487e+00,  3.49485002e+00,  3.64636517e+00,  3.79788032e+00,\n",
       "        3.94939548e+00,  4.10091063e+00,  4.25242578e+00,  4.40394093e+00,\n",
       "        4.55545608e+00,  4.70697123e+00,  4.85848639e+00,  5.01000154e+00,\n",
       "        5.16151669e+00,  5.31303184e+00,  5.46454699e+00,  5.61606214e+00,\n",
       "        5.76757729e+00,  5.91909245e+00,  6.07060760e+00,  6.22212275e+00,\n",
       "        6.37363790e+00,  6.52515305e+00,  6.67666820e+00,  6.82818336e+00,\n",
       "        6.97969851e+00,  7.13121366e+00,  7.28272881e+00,  7.43424396e+00,\n",
       "        7.58575911e+00,  7.73727426e+00,  7.88878942e+00,  8.04030457e+00,\n",
       "        8.19181972e+00,  8.34333487e+00,  8.49485002e+00,  8.64636517e+00,\n",
       "        8.79788032e+00,  8.94939548e+00,  9.10091063e+00,  9.25242578e+00,\n",
       "        9.40394093e+00,  9.55545608e+00,  9.70697123e+00,  9.85848639e+00,\n",
       "        1.00100015e+01,  1.01615167e+01,  1.03130318e+01,  1.04645470e+01,\n",
       "        1.06160621e+01,  1.07675773e+01,  1.09190924e+01,  1.10706076e+01,\n",
       "        1.12221227e+01,  1.13736379e+01,  1.15251531e+01,  1.16766682e+01,\n",
       "        1.18281834e+01,  1.19796985e+01,  1.21312137e+01,  1.22827288e+01,\n",
       "        1.24342440e+01,  1.25857591e+01,  1.27372743e+01,  1.28887894e+01,\n",
       "        1.30403046e+01,  1.31918197e+01,  1.33433349e+01,  1.34948500e+01])"
      ]
     },
     "execution_count": 9,
     "metadata": {},
     "output_type": "execute_result"
    },
    {
     "data": {
      "application/javascript": [
       "\n",
       "            setTimeout(function() {\n",
       "                var nbb_cell_id = 9;\n",
       "                var nbb_unformatted_code = \"app_mag = find_app_mag(50,abs_mag)\\napp_mag\";\n",
       "                var nbb_formatted_code = \"app_mag = find_app_mag(50, abs_mag)\\napp_mag\";\n",
       "                var nbb_cells = Jupyter.notebook.get_cells();\n",
       "                for (var i = 0; i < nbb_cells.length; ++i) {\n",
       "                    if (nbb_cells[i].input_prompt_number == nbb_cell_id) {\n",
       "                        if (nbb_cells[i].get_text() == nbb_unformatted_code) {\n",
       "                             nbb_cells[i].set_text(nbb_formatted_code);\n",
       "                        }\n",
       "                        break;\n",
       "                    }\n",
       "                }\n",
       "            }, 500);\n",
       "            "
      ],
      "text/plain": [
       "<IPython.core.display.Javascript object>"
      ]
     },
     "metadata": {},
     "output_type": "display_data"
    }
   ],
   "source": [
    "app_mag = find_app_mag(50,abs_mag)\n",
    "app_mag"
   ]
  },
  {
   "cell_type": "markdown",
   "metadata": {},
   "source": [
    "### How many values of `app_mag` are less than 6.0?"
   ]
  },
  {
   "cell_type": "code",
   "execution_count": 21,
   "metadata": {},
   "outputs": [
    {
     "name": "stdout",
     "output_type": "stream",
     "text": [
      "50\n"
     ]
    },
    {
     "data": {
      "application/javascript": [
       "\n",
       "            setTimeout(function() {\n",
       "                var nbb_cell_id = 21;\n",
       "                var nbb_unformatted_code = \"mask = np.where(app_mag <= 6.0)\\napp_mag_mask = app_mag[mask]\\nprint(len(app_mag_mask))\";\n",
       "                var nbb_formatted_code = \"mask = np.where(app_mag <= 6.0)\\napp_mag_mask = app_mag[mask]\\nprint(len(app_mag_mask))\";\n",
       "                var nbb_cells = Jupyter.notebook.get_cells();\n",
       "                for (var i = 0; i < nbb_cells.length; ++i) {\n",
       "                    if (nbb_cells[i].input_prompt_number == nbb_cell_id) {\n",
       "                        if (nbb_cells[i].get_text() == nbb_unformatted_code) {\n",
       "                             nbb_cells[i].set_text(nbb_formatted_code);\n",
       "                        }\n",
       "                        break;\n",
       "                    }\n",
       "                }\n",
       "            }, 500);\n",
       "            "
      ],
      "text/plain": [
       "<IPython.core.display.Javascript object>"
      ]
     },
     "metadata": {},
     "output_type": "display_data"
    }
   ],
   "source": [
    "mask = np.where(app_mag <= 6.0)\n",
    "app_mag_mask = app_mag[mask]\n",
    "print(len(app_mag_mask))"
   ]
  },
  {
   "cell_type": "markdown",
   "metadata": {},
   "source": [
    "### How many values of `app_mag` are less than 6.0 if d = 500?"
   ]
  },
  {
   "cell_type": "code",
   "execution_count": 24,
   "metadata": {},
   "outputs": [
    {
     "name": "stdout",
     "output_type": "stream",
     "text": [
      "17\n"
     ]
    },
    {
     "data": {
      "application/javascript": [
       "\n",
       "            setTimeout(function() {\n",
       "                var nbb_cell_id = 24;\n",
       "                var nbb_unformatted_code = \"app_mag2 = find_app_mag(500,abs_mag)\\n\\nmask2 = np.where(app_mag2 <= 6.0)\\napp_mag_mask2 = app_mag[mask2]\\nprint(len(app_mag_mask2))\";\n",
       "                var nbb_formatted_code = \"app_mag2 = find_app_mag(500, abs_mag)\\n\\nmask2 = np.where(app_mag2 <= 6.0)\\napp_mag_mask2 = app_mag[mask2]\\nprint(len(app_mag_mask2))\";\n",
       "                var nbb_cells = Jupyter.notebook.get_cells();\n",
       "                for (var i = 0; i < nbb_cells.length; ++i) {\n",
       "                    if (nbb_cells[i].input_prompt_number == nbb_cell_id) {\n",
       "                        if (nbb_cells[i].get_text() == nbb_unformatted_code) {\n",
       "                             nbb_cells[i].set_text(nbb_formatted_code);\n",
       "                        }\n",
       "                        break;\n",
       "                    }\n",
       "                }\n",
       "            }, 500);\n",
       "            "
      ],
      "text/plain": [
       "<IPython.core.display.Javascript object>"
      ]
     },
     "metadata": {},
     "output_type": "display_data"
    }
   ],
   "source": [
    "app_mag2 = find_app_mag(500,abs_mag)\n",
    "\n",
    "mask2 = np.where(app_mag2 <= 6.0)\n",
    "app_mag_mask2 = app_mag[mask2]\n",
    "print(len(app_mag_mask2))"
   ]
  },
  {
   "cell_type": "markdown",
   "metadata": {},
   "source": [
    "### Due Wed Jan 15 - 1pm\n",
    "- `Make sure to change the filename to your name!`\n",
    "- `Make sure to change the Title to your name!`\n",
    "- `Save notebook as .html: File -> Download as -> HTML (.html)`\n",
    "- `Upload .html file to Canvas`"
   ]
  },
  {
   "cell_type": "code",
   "execution_count": null,
   "metadata": {
    "jupyter": {
     "outputs_hidden": false
    }
   },
   "outputs": [],
   "source": []
  }
 ],
 "metadata": {
  "anaconda-cloud": {},
  "kernelspec": {
   "display_name": "Python 3",
   "language": "python",
   "name": "python3"
  },
  "language_info": {
   "codemirror_mode": {
    "name": "ipython",
    "version": 3
   },
   "file_extension": ".py",
   "mimetype": "text/x-python",
   "name": "python",
   "nbconvert_exporter": "python",
   "pygments_lexer": "ipython3",
   "version": "3.7.6"
  }
 },
 "nbformat": 4,
 "nbformat_minor": 4
}
