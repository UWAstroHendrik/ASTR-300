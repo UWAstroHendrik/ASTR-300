{
 "cells": [
  {
   "cell_type": "markdown",
   "metadata": {},
   "source": [
    "## Hendrik Venter - Reading Data"
   ]
  },
  {
   "cell_type": "code",
   "execution_count": 20,
   "metadata": {},
   "outputs": [],
   "source": [
    "import numpy as np\n",
    "import pandas as pd"
   ]
  },
  {
   "cell_type": "markdown",
   "metadata": {},
   "source": [
    "### Read in the datafile `./Data/MainBelt.csv`"
   ]
  },
  {
   "cell_type": "code",
   "execution_count": 21,
   "metadata": {},
   "outputs": [],
   "source": [
    "belt_table = pd.read_csv('./Data/MainBelt.csv', comment = \"#\", header= None)"
   ]
  },
  {
   "cell_type": "code",
   "execution_count": 22,
   "metadata": {},
   "outputs": [],
   "source": [
    "belt_table.rename(columns={0: 'Asteroid Name'}, inplace=True)\n",
    "belt_table.rename(columns={1: 'Absolute Magnitude'}, inplace=True)\n",
    "belt_table.rename(columns={2: 'Geometric Albedo'}, inplace=True)"
   ]
  },
  {
   "cell_type": "code",
   "execution_count": 23,
   "metadata": {},
   "outputs": [
    {
     "data": {
      "text/html": [
       "<div>\n",
       "<style scoped>\n",
       "    .dataframe tbody tr th:only-of-type {\n",
       "        vertical-align: middle;\n",
       "    }\n",
       "\n",
       "    .dataframe tbody tr th {\n",
       "        vertical-align: top;\n",
       "    }\n",
       "\n",
       "    .dataframe thead th {\n",
       "        text-align: right;\n",
       "    }\n",
       "</style>\n",
       "<table border=\"1\" class=\"dataframe\">\n",
       "  <thead>\n",
       "    <tr style=\"text-align: right;\">\n",
       "      <th></th>\n",
       "      <th>Asteroid Name</th>\n",
       "      <th>Absolute Magnitude</th>\n",
       "      <th>Geometric Albedo</th>\n",
       "    </tr>\n",
       "  </thead>\n",
       "  <tbody>\n",
       "    <tr>\n",
       "      <th>0</th>\n",
       "      <td>1 Ceres</td>\n",
       "      <td>3.34</td>\n",
       "      <td>0.0900</td>\n",
       "    </tr>\n",
       "    <tr>\n",
       "      <th>1</th>\n",
       "      <td>2 Pallas</td>\n",
       "      <td>4.13</td>\n",
       "      <td>0.1587</td>\n",
       "    </tr>\n",
       "    <tr>\n",
       "      <th>2</th>\n",
       "      <td>3 Juno</td>\n",
       "      <td>5.33</td>\n",
       "      <td>0.2383</td>\n",
       "    </tr>\n",
       "    <tr>\n",
       "      <th>3</th>\n",
       "      <td>4 Vesta</td>\n",
       "      <td>3.20</td>\n",
       "      <td>0.4228</td>\n",
       "    </tr>\n",
       "    <tr>\n",
       "      <th>4</th>\n",
       "      <td>5 Astraea</td>\n",
       "      <td>6.85</td>\n",
       "      <td>0.2268</td>\n",
       "    </tr>\n",
       "    <tr>\n",
       "      <th>...</th>\n",
       "      <td>...</td>\n",
       "      <td>...</td>\n",
       "      <td>...</td>\n",
       "    </tr>\n",
       "    <tr>\n",
       "      <th>2021</th>\n",
       "      <td>26125 (1992 RG)</td>\n",
       "      <td>13.00</td>\n",
       "      <td>0.0975</td>\n",
       "    </tr>\n",
       "    <tr>\n",
       "      <th>2022</th>\n",
       "      <td>26171 (1996 BY2)</td>\n",
       "      <td>14.00</td>\n",
       "      <td>0.0480</td>\n",
       "    </tr>\n",
       "    <tr>\n",
       "      <th>2023</th>\n",
       "      <td>26260 (1998 RA2)</td>\n",
       "      <td>13.30</td>\n",
       "      <td>0.0670</td>\n",
       "    </tr>\n",
       "    <tr>\n",
       "      <th>2024</th>\n",
       "      <td>26604 (2000 FO25)</td>\n",
       "      <td>12.80</td>\n",
       "      <td>0.4331</td>\n",
       "    </tr>\n",
       "    <tr>\n",
       "      <th>2025</th>\n",
       "      <td>26662 (2000 WB181)</td>\n",
       "      <td>14.50</td>\n",
       "      <td>0.0186</td>\n",
       "    </tr>\n",
       "  </tbody>\n",
       "</table>\n",
       "<p>2026 rows × 3 columns</p>\n",
       "</div>"
      ],
      "text/plain": [
       "           Asteroid Name  Absolute Magnitude  Geometric Albedo\n",
       "0                1 Ceres                3.34            0.0900\n",
       "1               2 Pallas                4.13            0.1587\n",
       "2                 3 Juno                5.33            0.2383\n",
       "3                4 Vesta                3.20            0.4228\n",
       "4              5 Astraea                6.85            0.2268\n",
       "...                  ...                 ...               ...\n",
       "2021     26125 (1992 RG)               13.00            0.0975\n",
       "2022    26171 (1996 BY2)               14.00            0.0480\n",
       "2023    26260 (1998 RA2)               13.30            0.0670\n",
       "2024   26604 (2000 FO25)               12.80            0.4331\n",
       "2025  26662 (2000 WB181)               14.50            0.0186\n",
       "\n",
       "[2026 rows x 3 columns]"
      ]
     },
     "execution_count": 23,
     "metadata": {},
     "output_type": "execute_result"
    }
   ],
   "source": [
    "belt_table"
   ]
  },
  {
   "cell_type": "markdown",
   "metadata": {},
   "source": [
    "### Write a function called `find_diameter` to compute the Diameters of the Main Belt Asteroids (MBAs)\n",
    "\n",
    "* The function takes 2 arguments: an absolute magnitude and an geometric albedo\n",
    "* The function returns the diameter of the asteroid (in km)\n",
    "* The largest asteroid should have a diameter of ~ 1000 km"
   ]
  },
  {
   "cell_type": "code",
   "execution_count": 24,
   "metadata": {
    "jupyter": {
     "outputs_hidden": false
    }
   },
   "outputs": [],
   "source": [
    "def find_diameter(absolute_magnitude,geometric_albedo):\n",
    "    compute_diameter = (1329)/(np.sqrt(geometric_albedo))*10**((-0.2)*(absolute_magnitude))\n",
    "    return compute_diameter"
   ]
  },
  {
   "cell_type": "code",
   "execution_count": 25,
   "metadata": {},
   "outputs": [
    {
     "data": {
      "text/plain": [
       "0       951.488900\n",
       "1       498.008227\n",
       "2       233.863777\n",
       "3       468.228119\n",
       "4       119.042888\n",
       "           ...    \n",
       "2021     10.691107\n",
       "2022      9.614005\n",
       "2023     11.232788\n",
       "2024      5.561999\n",
       "2025     12.267851\n",
       "Length: 2026, dtype: float64"
      ]
     },
     "execution_count": 25,
     "metadata": {},
     "output_type": "execute_result"
    }
   ],
   "source": [
    "diameter = find_diameter(belt_table['Absolute Magnitude'],belt_table['Geometric Albedo'])\n",
    "diameter"
   ]
  },
  {
   "cell_type": "markdown",
   "metadata": {},
   "source": [
    "### Add a `Diameter` column to the data table"
   ]
  },
  {
   "cell_type": "code",
   "execution_count": 26,
   "metadata": {
    "jupyter": {
     "outputs_hidden": false
    }
   },
   "outputs": [],
   "source": [
    "belt_table.insert(3,'Diameter (km)', diameter, allow_duplicates = False)"
   ]
  },
  {
   "cell_type": "code",
   "execution_count": 27,
   "metadata": {
    "jupyter": {
     "outputs_hidden": false
    }
   },
   "outputs": [
    {
     "data": {
      "text/html": [
       "<div>\n",
       "<style scoped>\n",
       "    .dataframe tbody tr th:only-of-type {\n",
       "        vertical-align: middle;\n",
       "    }\n",
       "\n",
       "    .dataframe tbody tr th {\n",
       "        vertical-align: top;\n",
       "    }\n",
       "\n",
       "    .dataframe thead th {\n",
       "        text-align: right;\n",
       "    }\n",
       "</style>\n",
       "<table border=\"1\" class=\"dataframe\">\n",
       "  <thead>\n",
       "    <tr style=\"text-align: right;\">\n",
       "      <th></th>\n",
       "      <th>Asteroid Name</th>\n",
       "      <th>Absolute Magnitude</th>\n",
       "      <th>Geometric Albedo</th>\n",
       "      <th>Diameter (km)</th>\n",
       "    </tr>\n",
       "  </thead>\n",
       "  <tbody>\n",
       "    <tr>\n",
       "      <th>0</th>\n",
       "      <td>1 Ceres</td>\n",
       "      <td>3.34</td>\n",
       "      <td>0.0900</td>\n",
       "      <td>951.488900</td>\n",
       "    </tr>\n",
       "    <tr>\n",
       "      <th>1</th>\n",
       "      <td>2 Pallas</td>\n",
       "      <td>4.13</td>\n",
       "      <td>0.1587</td>\n",
       "      <td>498.008227</td>\n",
       "    </tr>\n",
       "    <tr>\n",
       "      <th>2</th>\n",
       "      <td>3 Juno</td>\n",
       "      <td>5.33</td>\n",
       "      <td>0.2383</td>\n",
       "      <td>233.863777</td>\n",
       "    </tr>\n",
       "    <tr>\n",
       "      <th>3</th>\n",
       "      <td>4 Vesta</td>\n",
       "      <td>3.20</td>\n",
       "      <td>0.4228</td>\n",
       "      <td>468.228119</td>\n",
       "    </tr>\n",
       "    <tr>\n",
       "      <th>4</th>\n",
       "      <td>5 Astraea</td>\n",
       "      <td>6.85</td>\n",
       "      <td>0.2268</td>\n",
       "      <td>119.042888</td>\n",
       "    </tr>\n",
       "    <tr>\n",
       "      <th>...</th>\n",
       "      <td>...</td>\n",
       "      <td>...</td>\n",
       "      <td>...</td>\n",
       "      <td>...</td>\n",
       "    </tr>\n",
       "    <tr>\n",
       "      <th>2021</th>\n",
       "      <td>26125 (1992 RG)</td>\n",
       "      <td>13.00</td>\n",
       "      <td>0.0975</td>\n",
       "      <td>10.691107</td>\n",
       "    </tr>\n",
       "    <tr>\n",
       "      <th>2022</th>\n",
       "      <td>26171 (1996 BY2)</td>\n",
       "      <td>14.00</td>\n",
       "      <td>0.0480</td>\n",
       "      <td>9.614005</td>\n",
       "    </tr>\n",
       "    <tr>\n",
       "      <th>2023</th>\n",
       "      <td>26260 (1998 RA2)</td>\n",
       "      <td>13.30</td>\n",
       "      <td>0.0670</td>\n",
       "      <td>11.232788</td>\n",
       "    </tr>\n",
       "    <tr>\n",
       "      <th>2024</th>\n",
       "      <td>26604 (2000 FO25)</td>\n",
       "      <td>12.80</td>\n",
       "      <td>0.4331</td>\n",
       "      <td>5.561999</td>\n",
       "    </tr>\n",
       "    <tr>\n",
       "      <th>2025</th>\n",
       "      <td>26662 (2000 WB181)</td>\n",
       "      <td>14.50</td>\n",
       "      <td>0.0186</td>\n",
       "      <td>12.267851</td>\n",
       "    </tr>\n",
       "  </tbody>\n",
       "</table>\n",
       "<p>2026 rows × 4 columns</p>\n",
       "</div>"
      ],
      "text/plain": [
       "           Asteroid Name  Absolute Magnitude  Geometric Albedo  Diameter (km)\n",
       "0                1 Ceres                3.34            0.0900     951.488900\n",
       "1               2 Pallas                4.13            0.1587     498.008227\n",
       "2                 3 Juno                5.33            0.2383     233.863777\n",
       "3                4 Vesta                3.20            0.4228     468.228119\n",
       "4              5 Astraea                6.85            0.2268     119.042888\n",
       "...                  ...                 ...               ...            ...\n",
       "2021     26125 (1992 RG)               13.00            0.0975      10.691107\n",
       "2022    26171 (1996 BY2)               14.00            0.0480       9.614005\n",
       "2023    26260 (1998 RA2)               13.30            0.0670      11.232788\n",
       "2024   26604 (2000 FO25)               12.80            0.4331       5.561999\n",
       "2025  26662 (2000 WB181)               14.50            0.0186      12.267851\n",
       "\n",
       "[2026 rows x 4 columns]"
      ]
     },
     "execution_count": 27,
     "metadata": {},
     "output_type": "execute_result"
    }
   ],
   "source": [
    "belt_table"
   ]
  },
  {
   "cell_type": "markdown",
   "metadata": {},
   "source": [
    "### Write a function called `find_mass` to compute the Masses of the MBAs. Assume $\\rho$ = 3,000 kg/m$^3$\n",
    "\n",
    "* The function takes 2 arguments: a diameter and a density `(diameter, density)`\n",
    "* The function returns the mass of the asteroid\n",
    "* Watch your units!\n",
    "* The most massive asteroid should have a mass of ~ 1e21 kg"
   ]
  },
  {
   "cell_type": "code",
   "execution_count": 28,
   "metadata": {
    "jupyter": {
     "outputs_hidden": false
    }
   },
   "outputs": [],
   "source": [
    "def find_mass(diameter,density):\n",
    "    compute_mass = ((density)*(np.pi)*(diameter*1000)**3)/6\n",
    "    return(compute_mass)"
   ]
  },
  {
   "cell_type": "code",
   "execution_count": 29,
   "metadata": {},
   "outputs": [
    {
     "name": "stdout",
     "output_type": "stream",
     "text": [
      "Mass of most massive asteroid: 1.35310361929439e+21 kg\n"
     ]
    }
   ],
   "source": [
    "density = 3000\n",
    "mass = find_mass(belt_table['Diameter (km)'],density)\n",
    "print('Mass of most massive asteroid:', mass.max(), 'kg')"
   ]
  },
  {
   "cell_type": "markdown",
   "metadata": {},
   "source": [
    "### Add a `Mass` column to the data table"
   ]
  },
  {
   "cell_type": "code",
   "execution_count": 30,
   "metadata": {
    "jupyter": {
     "outputs_hidden": false
    }
   },
   "outputs": [],
   "source": [
    "belt_table.insert(4,'Mass (kg)', mass, allow_duplicates = False)"
   ]
  },
  {
   "cell_type": "code",
   "execution_count": 31,
   "metadata": {
    "jupyter": {
     "outputs_hidden": false
    }
   },
   "outputs": [
    {
     "data": {
      "text/html": [
       "<div>\n",
       "<style scoped>\n",
       "    .dataframe tbody tr th:only-of-type {\n",
       "        vertical-align: middle;\n",
       "    }\n",
       "\n",
       "    .dataframe tbody tr th {\n",
       "        vertical-align: top;\n",
       "    }\n",
       "\n",
       "    .dataframe thead th {\n",
       "        text-align: right;\n",
       "    }\n",
       "</style>\n",
       "<table border=\"1\" class=\"dataframe\">\n",
       "  <thead>\n",
       "    <tr style=\"text-align: right;\">\n",
       "      <th></th>\n",
       "      <th>Asteroid Name</th>\n",
       "      <th>Absolute Magnitude</th>\n",
       "      <th>Geometric Albedo</th>\n",
       "      <th>Diameter (km)</th>\n",
       "      <th>Mass (kg)</th>\n",
       "    </tr>\n",
       "  </thead>\n",
       "  <tbody>\n",
       "    <tr>\n",
       "      <th>0</th>\n",
       "      <td>1 Ceres</td>\n",
       "      <td>3.34</td>\n",
       "      <td>0.0900</td>\n",
       "      <td>951.488900</td>\n",
       "      <td>1.353104e+21</td>\n",
       "    </tr>\n",
       "    <tr>\n",
       "      <th>1</th>\n",
       "      <td>2 Pallas</td>\n",
       "      <td>4.13</td>\n",
       "      <td>0.1587</td>\n",
       "      <td>498.008227</td>\n",
       "      <td>1.940124e+20</td>\n",
       "    </tr>\n",
       "    <tr>\n",
       "      <th>2</th>\n",
       "      <td>3 Juno</td>\n",
       "      <td>5.33</td>\n",
       "      <td>0.2383</td>\n",
       "      <td>233.863777</td>\n",
       "      <td>2.009133e+19</td>\n",
       "    </tr>\n",
       "    <tr>\n",
       "      <th>3</th>\n",
       "      <td>4 Vesta</td>\n",
       "      <td>3.20</td>\n",
       "      <td>0.4228</td>\n",
       "      <td>468.228119</td>\n",
       "      <td>1.612473e+20</td>\n",
       "    </tr>\n",
       "    <tr>\n",
       "      <th>4</th>\n",
       "      <td>5 Astraea</td>\n",
       "      <td>6.85</td>\n",
       "      <td>0.2268</td>\n",
       "      <td>119.042888</td>\n",
       "      <td>2.649905e+18</td>\n",
       "    </tr>\n",
       "    <tr>\n",
       "      <th>...</th>\n",
       "      <td>...</td>\n",
       "      <td>...</td>\n",
       "      <td>...</td>\n",
       "      <td>...</td>\n",
       "      <td>...</td>\n",
       "    </tr>\n",
       "    <tr>\n",
       "      <th>2021</th>\n",
       "      <td>26125 (1992 RG)</td>\n",
       "      <td>13.00</td>\n",
       "      <td>0.0975</td>\n",
       "      <td>10.691107</td>\n",
       "      <td>1.919499e+15</td>\n",
       "    </tr>\n",
       "    <tr>\n",
       "      <th>2022</th>\n",
       "      <td>26171 (1996 BY2)</td>\n",
       "      <td>14.00</td>\n",
       "      <td>0.0480</td>\n",
       "      <td>9.614005</td>\n",
       "      <td>1.395831e+15</td>\n",
       "    </tr>\n",
       "    <tr>\n",
       "      <th>2023</th>\n",
       "      <td>26260 (1998 RA2)</td>\n",
       "      <td>13.30</td>\n",
       "      <td>0.0670</td>\n",
       "      <td>11.232788</td>\n",
       "      <td>2.226295e+15</td>\n",
       "    </tr>\n",
       "    <tr>\n",
       "      <th>2024</th>\n",
       "      <td>26604 (2000 FO25)</td>\n",
       "      <td>12.80</td>\n",
       "      <td>0.4331</td>\n",
       "      <td>5.561999</td>\n",
       "      <td>2.702791e+14</td>\n",
       "    </tr>\n",
       "    <tr>\n",
       "      <th>2025</th>\n",
       "      <td>26662 (2000 WB181)</td>\n",
       "      <td>14.50</td>\n",
       "      <td>0.0186</td>\n",
       "      <td>12.267851</td>\n",
       "      <td>2.900183e+15</td>\n",
       "    </tr>\n",
       "  </tbody>\n",
       "</table>\n",
       "<p>2026 rows × 5 columns</p>\n",
       "</div>"
      ],
      "text/plain": [
       "           Asteroid Name  Absolute Magnitude  Geometric Albedo  Diameter (km)  \\\n",
       "0                1 Ceres                3.34            0.0900     951.488900   \n",
       "1               2 Pallas                4.13            0.1587     498.008227   \n",
       "2                 3 Juno                5.33            0.2383     233.863777   \n",
       "3                4 Vesta                3.20            0.4228     468.228119   \n",
       "4              5 Astraea                6.85            0.2268     119.042888   \n",
       "...                  ...                 ...               ...            ...   \n",
       "2021     26125 (1992 RG)               13.00            0.0975      10.691107   \n",
       "2022    26171 (1996 BY2)               14.00            0.0480       9.614005   \n",
       "2023    26260 (1998 RA2)               13.30            0.0670      11.232788   \n",
       "2024   26604 (2000 FO25)               12.80            0.4331       5.561999   \n",
       "2025  26662 (2000 WB181)               14.50            0.0186      12.267851   \n",
       "\n",
       "         Mass (kg)  \n",
       "0     1.353104e+21  \n",
       "1     1.940124e+20  \n",
       "2     2.009133e+19  \n",
       "3     1.612473e+20  \n",
       "4     2.649905e+18  \n",
       "...            ...  \n",
       "2021  1.919499e+15  \n",
       "2022  1.395831e+15  \n",
       "2023  2.226295e+15  \n",
       "2024  2.702791e+14  \n",
       "2025  2.900183e+15  \n",
       "\n",
       "[2026 rows x 5 columns]"
      ]
     },
     "execution_count": 31,
     "metadata": {},
     "output_type": "execute_result"
    }
   ],
   "source": [
    "belt_table"
   ]
  },
  {
   "cell_type": "markdown",
   "metadata": {},
   "source": [
    "## Answer the following question using DataFrame [Methods and Attributes](https://pandas.pydata.org/pandas-docs/stable/reference/api/pandas.DataFrame.html)"
   ]
  },
  {
   "cell_type": "markdown",
   "metadata": {},
   "source": [
    "### List the 5 most massive MBAs"
   ]
  },
  {
   "cell_type": "code",
   "execution_count": 32,
   "metadata": {},
   "outputs": [
    {
     "data": {
      "text/html": [
       "<div>\n",
       "<style scoped>\n",
       "    .dataframe tbody tr th:only-of-type {\n",
       "        vertical-align: middle;\n",
       "    }\n",
       "\n",
       "    .dataframe tbody tr th {\n",
       "        vertical-align: top;\n",
       "    }\n",
       "\n",
       "    .dataframe thead th {\n",
       "        text-align: right;\n",
       "    }\n",
       "</style>\n",
       "<table border=\"1\" class=\"dataframe\">\n",
       "  <thead>\n",
       "    <tr style=\"text-align: right;\">\n",
       "      <th></th>\n",
       "      <th>Asteroid Name</th>\n",
       "      <th>Absolute Magnitude</th>\n",
       "      <th>Geometric Albedo</th>\n",
       "      <th>Diameter (km)</th>\n",
       "      <th>Mass (kg)</th>\n",
       "    </tr>\n",
       "  </thead>\n",
       "  <tbody>\n",
       "    <tr>\n",
       "      <th>0</th>\n",
       "      <td>1 Ceres</td>\n",
       "      <td>3.34</td>\n",
       "      <td>0.0900</td>\n",
       "      <td>951.488900</td>\n",
       "      <td>1.353104e+21</td>\n",
       "    </tr>\n",
       "    <tr>\n",
       "      <th>1</th>\n",
       "      <td>2 Pallas</td>\n",
       "      <td>4.13</td>\n",
       "      <td>0.1587</td>\n",
       "      <td>498.008227</td>\n",
       "      <td>1.940124e+20</td>\n",
       "    </tr>\n",
       "    <tr>\n",
       "      <th>3</th>\n",
       "      <td>4 Vesta</td>\n",
       "      <td>3.20</td>\n",
       "      <td>0.4228</td>\n",
       "      <td>468.228119</td>\n",
       "      <td>1.612473e+20</td>\n",
       "    </tr>\n",
       "    <tr>\n",
       "      <th>9</th>\n",
       "      <td>10 Hygiea</td>\n",
       "      <td>5.43</td>\n",
       "      <td>0.0717</td>\n",
       "      <td>407.160279</td>\n",
       "      <td>1.060269e+20</td>\n",
       "    </tr>\n",
       "    <tr>\n",
       "      <th>445</th>\n",
       "      <td>511 Davida (1903 LU)</td>\n",
       "      <td>6.22</td>\n",
       "      <td>0.0540</td>\n",
       "      <td>326.082957</td>\n",
       "      <td>5.446333e+19</td>\n",
       "    </tr>\n",
       "  </tbody>\n",
       "</table>\n",
       "</div>"
      ],
      "text/plain": [
       "            Asteroid Name  Absolute Magnitude  Geometric Albedo  \\\n",
       "0                 1 Ceres                3.34            0.0900   \n",
       "1                2 Pallas                4.13            0.1587   \n",
       "3                 4 Vesta                3.20            0.4228   \n",
       "9               10 Hygiea                5.43            0.0717   \n",
       "445  511 Davida (1903 LU)                6.22            0.0540   \n",
       "\n",
       "     Diameter (km)     Mass (kg)  \n",
       "0       951.488900  1.353104e+21  \n",
       "1       498.008227  1.940124e+20  \n",
       "3       468.228119  1.612473e+20  \n",
       "9       407.160279  1.060269e+20  \n",
       "445     326.082957  5.446333e+19  "
      ]
     },
     "execution_count": 32,
     "metadata": {},
     "output_type": "execute_result"
    }
   ],
   "source": [
    "five_most_massive_MBA = belt_table.nlargest(5,\"Mass (kg)\")\n",
    "five_most_massive_MBA"
   ]
  },
  {
   "cell_type": "markdown",
   "metadata": {},
   "source": [
    "### List the 5 least massive MBAs"
   ]
  },
  {
   "cell_type": "code",
   "execution_count": 33,
   "metadata": {},
   "outputs": [
    {
     "data": {
      "text/html": [
       "<div>\n",
       "<style scoped>\n",
       "    .dataframe tbody tr th:only-of-type {\n",
       "        vertical-align: middle;\n",
       "    }\n",
       "\n",
       "    .dataframe tbody tr th {\n",
       "        vertical-align: top;\n",
       "    }\n",
       "\n",
       "    .dataframe thead th {\n",
       "        text-align: right;\n",
       "    }\n",
       "</style>\n",
       "<table border=\"1\" class=\"dataframe\">\n",
       "  <thead>\n",
       "    <tr style=\"text-align: right;\">\n",
       "      <th></th>\n",
       "      <th>Asteroid Name</th>\n",
       "      <th>Absolute Magnitude</th>\n",
       "      <th>Geometric Albedo</th>\n",
       "      <th>Diameter (km)</th>\n",
       "      <th>Mass (kg)</th>\n",
       "    </tr>\n",
       "  </thead>\n",
       "  <tbody>\n",
       "    <tr>\n",
       "      <th>2024</th>\n",
       "      <td>26604 (2000 FO25)</td>\n",
       "      <td>12.8</td>\n",
       "      <td>0.4331</td>\n",
       "      <td>5.561999</td>\n",
       "      <td>2.702791e+14</td>\n",
       "    </tr>\n",
       "    <tr>\n",
       "      <th>1630</th>\n",
       "      <td>4335 Verona (1983 VC7)</td>\n",
       "      <td>13.3</td>\n",
       "      <td>0.2418</td>\n",
       "      <td>5.912850</td>\n",
       "      <td>3.247210e+14</td>\n",
       "    </tr>\n",
       "    <tr>\n",
       "      <th>1492</th>\n",
       "      <td>3338 Richter (1973 UX5)</td>\n",
       "      <td>14.2</td>\n",
       "      <td>0.1000</td>\n",
       "      <td>6.074702</td>\n",
       "      <td>3.521233e+14</td>\n",
       "    </tr>\n",
       "    <tr>\n",
       "      <th>1597</th>\n",
       "      <td>4121 Carlin (1986 JH)</td>\n",
       "      <td>12.6</td>\n",
       "      <td>0.4164</td>\n",
       "      <td>6.219703</td>\n",
       "      <td>3.779451e+14</td>\n",
       "    </tr>\n",
       "    <tr>\n",
       "      <th>1774</th>\n",
       "      <td>6295 Schmoll (1988 CF3)</td>\n",
       "      <td>14.0</td>\n",
       "      <td>0.1114</td>\n",
       "      <td>6.310770</td>\n",
       "      <td>3.947908e+14</td>\n",
       "    </tr>\n",
       "  </tbody>\n",
       "</table>\n",
       "</div>"
      ],
      "text/plain": [
       "                Asteroid Name  Absolute Magnitude  Geometric Albedo  \\\n",
       "2024        26604 (2000 FO25)                12.8            0.4331   \n",
       "1630   4335 Verona (1983 VC7)                13.3            0.2418   \n",
       "1492  3338 Richter (1973 UX5)                14.2            0.1000   \n",
       "1597    4121 Carlin (1986 JH)                12.6            0.4164   \n",
       "1774  6295 Schmoll (1988 CF3)                14.0            0.1114   \n",
       "\n",
       "      Diameter (km)     Mass (kg)  \n",
       "2024       5.561999  2.702791e+14  \n",
       "1630       5.912850  3.247210e+14  \n",
       "1492       6.074702  3.521233e+14  \n",
       "1597       6.219703  3.779451e+14  \n",
       "1774       6.310770  3.947908e+14  "
      ]
     },
     "execution_count": 33,
     "metadata": {},
     "output_type": "execute_result"
    }
   ],
   "source": [
    "five_least_massive_MBA = belt_table.nsmallest(5,\"Mass (kg)\")\n",
    "five_least_massive_MBA"
   ]
  },
  {
   "cell_type": "markdown",
   "metadata": {},
   "source": [
    "### Determine the total mass of all of the MBAs"
   ]
  },
  {
   "cell_type": "code",
   "execution_count": 34,
   "metadata": {},
   "outputs": [
    {
     "name": "stdout",
     "output_type": "stream",
     "text": [
      "Total mass of MBAs: 3.146177625451557e+21 kg\n"
     ]
    }
   ],
   "source": [
    "total_mass_MBA = belt_table[\"Mass (kg)\"].sum()\n",
    "print('Total mass of MBAs:',total_mass_MBA, 'kg')"
   ]
  },
  {
   "cell_type": "markdown",
   "metadata": {},
   "source": [
    "### Determine the fraction of the total mass contained in the 5 largest MBAs"
   ]
  },
  {
   "cell_type": "code",
   "execution_count": 73,
   "metadata": {
    "jupyter": {
     "outputs_hidden": false
    }
   },
   "outputs": [],
   "source": [
    "frac_total_mass_five_largest_MBA = five_most_massive_MBA[\"Mass (kg)\"].sum()/total_mass_MBA*100"
   ]
  },
  {
   "cell_type": "code",
   "execution_count": 74,
   "metadata": {},
   "outputs": [
    {
     "name": "stdout",
     "output_type": "stream",
     "text": [
      "Fraction of the total mass of the five largest main belt asteroids: 59.40076222297952\n"
     ]
    }
   ],
   "source": [
    "print('Fraction of the total mass of the five largest main belt asteroids:', frac_total_mass_five_largest_MBA)"
   ]
  },
  {
   "cell_type": "markdown",
   "metadata": {},
   "source": [
    "### How does the total mass of the MBAs compare to the mass of the Moon ($7.35\\ \\times\\ 10^{22}$ kg)?\n",
    "\n",
    "* Compute Total MBA Mass / Lunar Mass"
   ]
  },
  {
   "cell_type": "code",
   "execution_count": 37,
   "metadata": {},
   "outputs": [
    {
     "data": {
      "text/plain": [
       "0.04280513776124567"
      ]
     },
     "execution_count": 37,
     "metadata": {},
     "output_type": "execute_result"
    }
   ],
   "source": [
    "mass_of_luna = 7.35e22\n",
    "mass_comparison = total_mass_MBA/mass_of_luna\n",
    "mass_comparison"
   ]
  },
  {
   "cell_type": "code",
   "execution_count": 75,
   "metadata": {},
   "outputs": [
    {
     "data": {
      "text/plain": [
       "23.36168161816702"
      ]
     },
     "execution_count": 75,
     "metadata": {},
     "output_type": "execute_result"
    }
   ],
   "source": [
    "mass_comparison_reverse = mass_of_luna/total_mass_MBA\n",
    "mass_comparison_reverse"
   ]
  },
  {
   "cell_type": "code",
   "execution_count": 38,
   "metadata": {},
   "outputs": [
    {
     "name": "stdout",
     "output_type": "stream",
     "text": [
      "4.280513776124567 %\n"
     ]
    }
   ],
   "source": [
    "percentage = mass_comparison * 100\n",
    "print(percentage, \"%\")"
   ]
  },
  {
   "cell_type": "markdown",
   "metadata": {},
   "source": [
    "### Due Mon Jan 27  - 1pm\n",
    "- `Make sure to change the filename to your name!`\n",
    "- `Make sure to change the Title to your name!`\n",
    "- `Save notebook as .html: File -> Download as -> HTML (.html)`\n",
    "- `Upload .html to Canvas`"
   ]
  },
  {
   "cell_type": "markdown",
   "metadata": {},
   "source": [
    "***\n",
    "\n",
    "## Absolute Magnitude, Size and Mass - Solar System Objects\n",
    "\n",
    "The **absolute magnitude** of a solar system object is the magnitude that it would have if it was 1 AU from the Earth and 1 AU from the Sun while having a phase angle of 0 degrees. Remember, astronomical magnitudes are \"backwards\".  The magnitude of a bright object is *less* than the magnitude of a dimmer object.\n",
    "\n",
    "The phase angle **$\\theta$** in astronomical observations is the angle between the light incident onto an observed object and the light reflected from the object. In the context of astronomical observations, this is usually the angle $\\angle$ Sun-object-observer.\n",
    "\n",
    "<p align=\"center\"> \n",
    "<img src=\"./images/Phase.jpg\">\n",
    "</p>\n",
    "\n",
    "It is actually impossible for an object to be 1 AU from the Earth and 1 AU from the Sun while having a phase angle of 0 degrees. The Sun and the Earth would occupy the same point.  However, this is the definition of **absolute magnitude**.  Please note, that the definition of absolute magnitude for solar system objects is *very* different from the definition of absolute magnitude used for stars.\n",
    "\n",
    "The Absolute magnitude of an object is related to the physical size of the object via the equation:\n",
    "\n",
    "$$\\large \\textrm{Diameter}\\ (\\textrm{in km}) = \\frac{1329}{\\sqrt{\\textrm{geometric albedo}}}\\  10^{-0.2(\\textrm{absolute magnitude})}$$\n",
    "\n",
    "The **geometric albedo** of an astronomical body is the ratio of its actual brightness at zero phase angle (i.e., as seen from the light source) to that of an idealized flat, fully reflecting, diffusively scattering disk with the same cross-section.\n",
    "\n",
    "Perfect reflectors of light have a **geometric albedo** = 1 and perfect absorbers have a **geometric albedo** = 0. \n",
    "Typical asteroids have a wide range of values: 0.02 $<$ **geometric albedo** $<$ 0.8.\n",
    "\n",
    "----\n",
    "\n",
    "Once we have the diameter of the object, we can determine the mass if we know the density ($\\rho$).\n",
    "\n",
    "$ \\large \\mathrm{Mass} = \\rho \\cdot \\mathrm{Volume} = \\rho \\cdot \\frac{4}{3} \\pi r^3 \\ = \\ \\rho \\cdot \\frac{1}{6} \\pi D^3 $\n",
    "\n",
    "This assumes that the object is spherical (this is **not** a very good assumption for asteroids)."
   ]
  },
  {
   "cell_type": "code",
   "execution_count": 56,
   "metadata": {
    "jupyter": {
     "outputs_hidden": false
    }
   },
   "outputs": [],
   "source": [
    "five_most_massive_MBA\n",
    "five_most_massive_MBA.reset_index(inplace = True)"
   ]
  },
  {
   "cell_type": "code",
   "execution_count": 69,
   "metadata": {},
   "outputs": [
    {
     "name": "stdout",
     "output_type": "stream",
     "text": [
      "At number 1 is 1 Ceres with a mass of 1.35e+21 kg\n",
      "At number 2 is 2 Pallas with a mass of 1.94e+20 kg\n",
      "At number 3 is 4 Vesta with a mass of 1.61e+20 kg\n",
      "At number 4 is 10 Hygiea with a mass of 1.06e+20 kg\n",
      "At number 5 is 511 Davida (1903 LU) with a mass of 5.45e+19 kg\n"
     ]
    }
   ],
   "source": [
    "for index, row in five_most_massive_MBA.iterrows():\n",
    "    my_out_string = (f\"At number {index+1} is {row['Asteroid Name']} with a mass of {row['Mass (kg)']:.2e} kg\")\n",
    "    print(my_out_string)"
   ]
  },
  {
   "cell_type": "code",
   "execution_count": 70,
   "metadata": {},
   "outputs": [],
   "source": [
    "five_least_massive_MBA\n",
    "five_least_massive_MBA.reset_index(inplace = True)"
   ]
  },
  {
   "cell_type": "code",
   "execution_count": 71,
   "metadata": {},
   "outputs": [
    {
     "name": "stdout",
     "output_type": "stream",
     "text": [
      "At number 1 is 26604 (2000 FO25) with a mass of 2.70e+14 kg\n",
      "At number 2 is 4335 Verona (1983 VC7) with a mass of 3.25e+14 kg\n",
      "At number 3 is 3338 Richter (1973 UX5) with a mass of 3.52e+14 kg\n",
      "At number 4 is 4121 Carlin (1986 JH) with a mass of 3.78e+14 kg\n",
      "At number 5 is 6295 Schmoll (1988 CF3) with a mass of 3.95e+14 kg\n"
     ]
    }
   ],
   "source": [
    "for index, row in five_least_massive_MBA.iterrows():\n",
    "    my_out_string = (f\"At number {index+1} is {row['Asteroid Name']} with a mass of {row['Mass (kg)']:.2e} kg\")\n",
    "    print(my_out_string)"
   ]
  },
  {
   "cell_type": "code",
   "execution_count": 72,
   "metadata": {},
   "outputs": [
    {
     "data": {
      "text/plain": [
       "3.146177625451557e+21"
      ]
     },
     "execution_count": 72,
     "metadata": {},
     "output_type": "execute_result"
    }
   ],
   "source": [
    "total_mass_MBA"
   ]
  },
  {
   "cell_type": "code",
   "execution_count": 88,
   "metadata": {},
   "outputs": [],
   "source": [
    "paragraph = (f'The total mass of the main belt of the asteroid belt is {total_mass_MBA:.2e} kg, of which {frac_total_mass_five_largest_MBA:.2f} of the total mass in contained in the five most massive asteroids. The Moon is {mass_comparison_reverse:.2f} times more massive than the total mass of the main belt asteroids')"
   ]
  },
  {
   "cell_type": "code",
   "execution_count": 89,
   "metadata": {},
   "outputs": [
    {
     "data": {
      "text/plain": [
       "'The total mass of the main belt of the asteroid belt is 3.15e+21 kg, of which 59.40 of the total mass in contained in the five most massive asteroids. The Moon is 23.36 times more massive than the total mass of the main belt asteroids'"
      ]
     },
     "execution_count": 89,
     "metadata": {},
     "output_type": "execute_result"
    }
   ],
   "source": [
    "paragraph"
   ]
  },
  {
   "cell_type": "code",
   "execution_count": null,
   "metadata": {},
   "outputs": [],
   "source": []
  }
 ],
 "metadata": {
  "anaconda-cloud": {},
  "kernelspec": {
   "display_name": "Python 3",
   "language": "python",
   "name": "python3"
  },
  "language_info": {
   "codemirror_mode": {
    "name": "ipython",
    "version": 3
   },
   "file_extension": ".py",
   "mimetype": "text/x-python",
   "name": "python",
   "nbconvert_exporter": "python",
   "pygments_lexer": "ipython3",
   "version": "3.7.6"
  }
 },
 "nbformat": 4,
 "nbformat_minor": 4
}
